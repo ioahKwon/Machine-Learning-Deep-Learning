{
  "nbformat": 4,
  "nbformat_minor": 0,
  "metadata": {
    "colab": {
      "name": "[머신러닝과딥러닝] Week#1 .ipynb",
      "provenance": [],
      "collapsed_sections": [],
      "toc_visible": true
    },
    "kernelspec": {
      "name": "python3",
      "display_name": "Python 3"
    }
  },
  "cells": [
    {
      "cell_type": "markdown",
      "metadata": {
        "id": "oKETxdFzoFAg",
        "colab_type": "text"
      },
      "source": [
        "# **[머신러닝과딥러닝] 수업 정리 Week #1**\n",
        "\n",
        "### _2020.08._ SKKU Lecture Summary by IOAH\n",
        "\n"
      ]
    },
    {
      "cell_type": "markdown",
      "metadata": {
        "id": "huHhbC-ktoIH",
        "colab_type": "text"
      },
      "source": [
        "\n",
        "\n",
        "---\n",
        "\n"
      ]
    },
    {
      "cell_type": "markdown",
      "metadata": {
        "id": "UqV6HNUmpblb",
        "colab_type": "text"
      },
      "source": [
        "### 1. 파이썬 개발 환경 구축 (Build a Python development environment)"
      ]
    },
    {
      "cell_type": "markdown",
      "metadata": {
        "id": "Vue6e-_5vnzT",
        "colab_type": "text"
      },
      "source": [
        "![1](./img/1.jpg)"
      ]
    },
    {
      "cell_type": "markdown",
      "metadata": {
        "id": "evFm1NpCpg2S",
        "colab_type": "text"
      },
      "source": [
        "이번 주차에는 주피터 노트북을 컴퓨터에 설치하고 이를 실행해보도록 하겠습니다 :)\n",
        "\n",
        "파이썬 개발 환경을 구축하기 위해 Anaconda python 프로그램을 다운받았습니다. \n",
        "\n",
        "가상환경명칭을 ‘machinelearning’으로 하여 가상환경을 생성한 다음 파이썬 개발을 하기 위한 플랫폼인 ‘jupyter notebook’을 설치하고 개발에 필요한 matplotlib, pandas, numpy, keras, scipy, scikit-learn, nb_conda, jupter, ipykernel 등의 파이썬 라이브러리들을 conda install 명령어로 설치합니다."
      ]
    },
    {
      "cell_type": "markdown",
      "metadata": {
        "id": "ngobIP7EsRz1",
        "colab_type": "text"
      },
      "source": [
        "## Q. \n",
        "###잠깐! 머신러닝과 딥러닝을 하기 위해선 주피터 노트북을 사용해야 하는데 왜 가상환경을 설치해야 하는 것일까요?\n",
        "\n",
        "## A. \n",
        "Python에서 사용하는 라이브러리는 한 가지 버전만 설치가 가능합니다.\n",
        "\n",
        "예를 들어, 어떤 프로그램 A에서 pandas 0.21.0을 사용하다가 다른 프로그램 B에서 pandas 0.21.1을 사용한다면 이전 버전을 지워야 하므로 앞으론 A를 실행시킬 수 없습니다ㅠㅠ\n",
        "\n",
        "이렇듯 대부분의 오픈소스 프로그램들이 사용하는 라이브러리들은 서로 버전이 다른 경우가 대부분이며 심지어 파이썬 버전도 2.7, 3.5, 3.6등 다양합니다.\n",
        "\n",
        "따라서 목적별로 만든 가상환경 내에서 필요한 소프트웨어들을 각기 다르게 설치한다면 버전 때문에 충돌하는 일을 피할 수 있겠죠? 그래서 가상환경을 설치하는 겁니다ㅎㅎ\n",
        "\n"
      ]
    },
    {
      "cell_type": "markdown",
      "metadata": {
        "id": "hna4j9nutimp",
        "colab_type": "text"
      },
      "source": [
        "\n",
        "\n",
        "\n",
        "\n",
        "---\n",
        "\n"
      ]
    },
    {
      "cell_type": "markdown",
      "metadata": {
        "id": "vcPgPkCaq7zB",
        "colab_type": "text"
      },
      "source": [
        "### 2. 파이썬 개발 플랫폼(Jupyter notebook) 테스트 실행"
      ]
    },
    {
      "cell_type": "markdown",
      "metadata": {
        "id": "Ur4eZ7Zvw3VP",
        "colab_type": "text"
      },
      "source": [
        "![2](./img/2.jpg)"
      ]
    },
    {
      "cell_type": "markdown",
      "metadata": {
        "id": "xv9PLTclrA1v",
        "colab_type": "text"
      },
      "source": [
        "가상환경을 생성 한 후 jupyter notebook 플랫폼으로 이동하여 machinelearning 가상환경으로 진입한 후, 앞서 설치한 파이썬 라이브러리가 잘 설치되었는지 확인합니다.\n",
        "\n",
        "\"hello python”을 출력해본 결과 예상한 대로 에러 메시지 없이 라이브러리도 잘 설치되고 print 결과도 잘 나온 것을 확인할 수 있습니다.\n",
        "\n",
        "첫 번째 주차는 정말 쉽죠? 간단하게 주피터 노트북을 컴퓨터에 설치하고 이를 실행해봄으로써 \n",
        "드디어! 머신러닝의 세계에 발을 들일 수 있게 되었습니다. 다음 주부터는 아주 간단한 머신러닝 예제부터 시작해보도록 하겠습니다."
      ]
    }
  ]
}