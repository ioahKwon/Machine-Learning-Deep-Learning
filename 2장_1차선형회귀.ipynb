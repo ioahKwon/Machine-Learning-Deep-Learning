{
  "nbformat": 4,
  "nbformat_minor": 0,
  "metadata": {
    "kernelspec": {
      "display_name": "Python [conda env:machinelearning] *",
      "language": "python",
      "name": "conda-env-machinelearning-py"
    },
    "language_info": {
      "codemirror_mode": {
        "name": "ipython",
        "version": 3
      },
      "file_extension": ".py",
      "mimetype": "text/x-python",
      "name": "python",
      "nbconvert_exporter": "python",
      "pygments_lexer": "ipython3",
      "version": "3.7.7"
    },
    "colab": {
      "name": "2장_1차선형회귀.ipynb",
      "provenance": [],
      "include_colab_link": true
    }
  },
  "cells": [
    {
      "cell_type": "markdown",
      "metadata": {
        "id": "view-in-github",
        "colab_type": "text"
      },
      "source": [
        "<a href=\"https://colab.research.google.com/github/ioahKwon/Machine-Learning-Deep-Learning/blob/master/2%EC%9E%A5_1%EC%B0%A8%EC%84%A0%ED%98%95%ED%9A%8C%EA%B7%80.ipynb\" target=\"_parent\"><img src=\"https://colab.research.google.com/assets/colab-badge.svg\" alt=\"Open In Colab\"/></a>"
      ]
    },
    {
      "cell_type": "code",
      "metadata": {
        "id": "XeehrG7Jj9SZ",
        "colab_type": "code",
        "colab": {}
      },
      "source": [
        "from sklearn.linear_model import LinearRegression\n",
        "import pandas as pd\n",
        "import numpy as np\n",
        "from matplotlib import pyplot as plt"
      ],
      "execution_count": null,
      "outputs": []
    },
    {
      "cell_type": "code",
      "metadata": {
        "id": "dUX0aPlkj9So",
        "colab_type": "code",
        "colab": {},
        "outputId": "a5127502-aaa5-4e19-f568-39937690be2a"
      },
      "source": [
        "reg = LinearRegression()\n",
        "\n",
        "#다른 샘플을 만들어 다양한 선형회귀식을 도출해볼 수 있다.\n",
        "Xsample=[[10],[12],[33],[24],[55]]\n",
        "Ysample=[[3],[5],[7],[9],[11]]\n",
        "\n",
        "plt.title('data points')\n",
        "plt.xlabel('x')\n",
        "plt.ylabel('y')\n",
        "plt.scatter(Xsample,Ysample)"
      ],
      "execution_count": null,
      "outputs": [
        {
          "output_type": "execute_result",
          "data": {
            "text/plain": [
              "<matplotlib.collections.PathCollection at 0x69927e51c8>"
            ]
          },
          "metadata": {
            "tags": []
          },
          "execution_count": 7
        },
        {
          "output_type": "display_data",
          "data": {
            "image/png": "[encoded data removed]",
            "text/plain": [
              "<Figure size 432x288 with 1 Axes>"
            ]
          },
          "metadata": {
            "tags": [],
            "needs_background": "light"
          }
        }
      ]
    },
    {
      "cell_type": "code",
      "metadata": {
        "id": "a8YsotkIj9S0",
        "colab_type": "code",
        "colab": {},
        "outputId": "0dae8b57-726a-4d27-d754-1acbec16ad8f"
      },
      "source": [
        "Model=reg.fit(Xsample,Ysample)\n",
        "print(\"coef\")\n",
        "print(Model.coef_)\n",
        "print(\"intercept\")\n",
        "print(Model.intercept_)"
      ],
      "execution_count": null,
      "outputs": [
        {
          "output_type": "stream",
          "text": [
            "coef\n",
            "[[0.15192136]]\n",
            "intercept\n",
            "[2.9285076]\n"
          ],
          "name": "stdout"
        }
      ]
    },
    {
      "cell_type": "code",
      "metadata": {
        "id": "jQ_gPaPtj9TC",
        "colab_type": "code",
        "colab": {},
        "outputId": "a26a4084-065c-40be-9c28-a8459f426403"
      },
      "source": [
        "Model.predict([[15]])"
      ],
      "execution_count": null,
      "outputs": [
        {
          "output_type": "execute_result",
          "data": {
            "text/plain": [
              "array([[5.20732797]])"
            ]
          },
          "metadata": {
            "tags": []
          },
          "execution_count": 9
        }
      ]
    },
    {
      "cell_type": "code",
      "metadata": {
        "id": "hO8cLiv_j9TO",
        "colab_type": "code",
        "colab": {},
        "outputId": "5f3375c2-6626-4d4e-dd12-7977bed04df4"
      },
      "source": [
        "plt.title('Linear Regression sample')\n",
        "plt.xlabel('x')\n",
        "plt.ylabel('y')\n",
        "plt.scatter(Xsample,Ysample)\n",
        "plt.plot(Xsample,Model.coef_*Xsample + Model.intercept_)"
      ],
      "execution_count": null,
      "outputs": [
        {
          "output_type": "execute_result",
          "data": {
            "text/plain": [
              "[<matplotlib.lines.Line2D at 0x69927b8548>]"
            ]
          },
          "metadata": {
            "tags": []
          },
          "execution_count": 10
        },
        {
          "output_type": "display_data",
          "data": {
            "image/png": "[encoded data removed]",
            "text/plain": [
              "<Figure size 432x288 with 1 Axes>"
            ]
          },
          "metadata": {
            "tags": [],
            "needs_background": "light"
          }
        }
      ]
    },
    {
      "cell_type": "code",
      "metadata": {
        "id": "QW4JalU3j9TZ",
        "colab_type": "code",
        "colab": {}
      },
      "source": [
        ""
      ],
      "execution_count": null,
      "outputs": []
    }
  ]
}