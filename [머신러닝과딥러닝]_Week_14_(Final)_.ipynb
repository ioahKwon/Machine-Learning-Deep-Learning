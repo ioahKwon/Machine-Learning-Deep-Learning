{
  "nbformat": 4,
  "nbformat_minor": 0,
  "metadata": {
    "colab": {
      "name": "[머신러닝과딥러닝] Week_14 (Final) .ipynb",
      "provenance": [],
      "collapsed_sections": [],
      "include_colab_link": true
    },
    "kernelspec": {
      "name": "python3",
      "display_name": "Python 3"
    }
  },
  "cells": [
    {
      "cell_type": "markdown",
      "metadata": {
        "id": "view-in-github",
        "colab_type": "text"
      },
      "source": [
        "<a href=\"https://colab.research.google.com/github/ioahKwon/Machine-Learning-Deep-Learning/blob/master/%5B%EB%A8%B8%EC%8B%A0%EB%9F%AC%EB%8B%9D%EA%B3%BC%EB%94%A5%EB%9F%AC%EB%8B%9D%5D_Week_14_(Final)_.ipynb\" target=\"_parent\"><img src=\"https://colab.research.google.com/assets/colab-badge.svg\" alt=\"Open In Colab\"/></a>"
      ]
    },
    {
      "cell_type": "markdown",
      "metadata": {
        "id": "oKETxdFzoFAg",
        "colab_type": "text"
      },
      "source": [
        "# **[머신러닝과딥러닝] 수업 정리 Week #14**\n",
        "\n",
        "### _2020.08._ SKKU Lecture Summary by IOAH\n",
        "\n",
        "\n",
        "드디어 마지막이다! 조금만 더 힘내보자ㅎㅎ\n",
        "\n",
        "---\n",
        "\n",
        "\n",
        "\n"
      ]
    },
    {
      "cell_type": "markdown",
      "metadata": {
        "id": "MuJTPIXhrRty",
        "colab_type": "text"
      },
      "source": [
        "### 1. 기본적인 오토인코더 모형 구현"
      ]
    },
    {
      "cell_type": "markdown",
      "metadata": {
        "id": "ixxhpsRnrUqi",
        "colab_type": "text"
      },
      "source": [
        "이번 실습에서는 입력변수로부터 reconstruction하는 과정을 통해 특성을 추출하는데 활용되는 오토인코더를 구현하고 학습시킨다. 우선 인풋 이미지는 한 인스턴스 당 28*28개의 feature를 가지므로 shape을 784로 정해준 다음 인코더와 디코더를 각각 한 층으로 쌓아준다. 최종 오토인코더 모형은 인풋부터 인코더-디코더-아웃풋으로 연결된다."
      ]
    },
    {
      "cell_type": "code",
      "metadata": {
        "id": "PA4cebthfncA",
        "colab_type": "code",
        "colab": {}
      },
      "source": [
        "from keras.layers import Input, Dense\n",
        "from keras.models import Model\n",
        "\n",
        "encoding_dim = 32 \n",
        "\n",
        "#인풋이미지는 한 인스턴스 당 28x28=784개의 feature를 가지므로 shape을 다음과 같이 정해준다.\n",
        "input_img = Input(shape=(784,))\n",
        "\n",
        "#인코더와 디코더를 각각 한 층으로 쌓아준다.\n",
        "encoded = Dense(encoding_dim, activation='relu')(input_img)\n",
        "decoded = Dense(784, activation='sigmoid')(encoded)\n",
        "\n",
        "#최종 오토인코더 모형은 인풋부터 인코더, 디코더의 아웃풋까지 연결해준다.\n",
        "autoencoder = Model(input_img, decoded)"
      ],
      "execution_count": null,
      "outputs": []
    },
    {
      "cell_type": "markdown",
      "metadata": {
        "id": "E9odmQsPri_A",
        "colab_type": "text"
      },
      "source": [
        "물론 아래처럼 인코더와 디코더를 분리해서 정의하는 것도 가능하다. 그 다음 오토인코더 모델에 optimizer는 adam으로, loss function은 binary_crossentropy로 모델을 컴파일한다."
      ]
    },
    {
      "cell_type": "code",
      "metadata": {
        "id": "0dF_row9fpx2",
        "colab_type": "code",
        "colab": {}
      },
      "source": [
        "#다음과 같이 인코더와 디코더를 분리해서 정의해놓는 것도 가능하다.\n",
        "encoder = Model(input_img, encoded)\n",
        "encoded_input = Input(shape=(encoding_dim,))\n",
        "decoder_layer = autoencoder.layers[-1]\n",
        "decoder = Model(encoded_input, decoder_layer(encoded_input))"
      ],
      "execution_count": null,
      "outputs": []
    },
    {
      "cell_type": "code",
      "metadata": {
        "id": "4BlOfHTojnnw",
        "colab_type": "code",
        "colab": {}
      },
      "source": [
        "autoencoder.compile(optimizer='adam', loss='binary_crossentropy')"
      ],
      "execution_count": null,
      "outputs": []
    },
    {
      "cell_type": "markdown",
      "metadata": {
        "id": "0wTJjrD1rmME",
        "colab_type": "text"
      },
      "source": [
        "그 후 케라스의 MNIST 데이터를 로드하고 입력 데이터를 변수에 저장한다. 입력값들을 정규화한후 이 이미지 데이터를 784 크기로 벡터화한다. 이 과정은 생성된 오토인코더와 같은 인풋 차원을 가지도록 MNIST의 x값들을 reshape 해주는 것이다."
      ]
    },
    {
      "cell_type": "code",
      "metadata": {
        "id": "VYh8qtLAj3MH",
        "colab_type": "code",
        "colab": {
          "base_uri": "https://localhost:8080/",
          "height": 51
        },
        "outputId": "06746e5d-9b2e-4331-baac-39d4f47434c2"
      },
      "source": [
        "from keras.datasets import mnist\n",
        "import numpy as np\n",
        "\n",
        "(x_train, _), (x_test, _) = mnist.load_data()"
      ],
      "execution_count": null,
      "outputs": [
        {
          "output_type": "stream",
          "text": [
            "Downloading data from https://storage.googleapis.com/tensorflow/tf-keras-datasets/mnist.npz\n",
            "11493376/11490434 [==============================] - 0s 0us/step\n"
          ],
          "name": "stdout"
        }
      ]
    },
    {
      "cell_type": "code",
      "metadata": {
        "id": "yeaEWRk0j7-0",
        "colab_type": "code",
        "colab": {
          "base_uri": "https://localhost:8080/",
          "height": 51
        },
        "outputId": "67266f67-ff60-41ff-afbc-bb8f7ba02e6a"
      },
      "source": [
        "#MNIST dataset의 x입력값들을 28x28=784의 크기로 벡터화한다.\n",
        "x_train = x_train.astype('float32') / 255\n",
        "x_test = x_test.astype('float32') / 255\n",
        "x_train = x_train.reshape((len(x_train), np.prod(x_train.shape[1:])))\n",
        "x_test = x_test.reshape((len(x_test), np.prod(x_test.shape[1:])))\n",
        "print(x_train.shape)\n",
        "print(x_test.shape)"
      ],
      "execution_count": null,
      "outputs": [
        {
          "output_type": "stream",
          "text": [
            "(60000, 784)\n",
            "(10000, 784)\n"
          ],
          "name": "stdout"
        }
      ]
    },
    {
      "cell_type": "markdown",
      "metadata": {
        "id": "NBkVE53RrpjX",
        "colab_type": "text"
      },
      "source": [
        "이후 오토인코더 모형을 학습시키고 loss 값과 validation loss를 구한다."
      ]
    },
    {
      "cell_type": "code",
      "metadata": {
        "id": "F_fnhABMkbZ7",
        "colab_type": "code",
        "colab": {
          "base_uri": "https://localhost:8080/",
          "height": 1000
        },
        "outputId": "723cd1f5-ca78-4f9c-9b01-3edc8968466b"
      },
      "source": [
        "#위에서 정의한 오토인코더 모형 학습\n",
        "autoencoder.fit(x_train, x_train,\n",
        "                epochs=50,\n",
        "                batch_size=256,\n",
        "                shuffle=True,\n",
        "                validation_data=(x_test, x_test))"
      ],
      "execution_count": null,
      "outputs": [
        {
          "output_type": "stream",
          "text": [
            "Epoch 1/50\n",
            "235/235 [==============================] - 2s 10ms/step - loss: 0.2729 - val_loss: 0.1880\n",
            "Epoch 2/50\n",
            "235/235 [==============================] - 2s 10ms/step - loss: 0.1698 - val_loss: 0.1525\n",
            "Epoch 3/50\n",
            "235/235 [==============================] - 2s 10ms/step - loss: 0.1432 - val_loss: 0.1327\n",
            "Epoch 4/50\n",
            "235/235 [==============================] - 3s 11ms/step - loss: 0.1278 - val_loss: 0.1206\n",
            "Epoch 5/50\n",
            "235/235 [==============================] - 2s 11ms/step - loss: 0.1179 - val_loss: 0.1125\n",
            "Epoch 6/50\n",
            "235/235 [==============================] - 2s 10ms/step - loss: 0.1111 - val_loss: 0.1070\n",
            "Epoch 7/50\n",
            "235/235 [==============================] - 2s 10ms/step - loss: 0.1062 - val_loss: 0.1026\n",
            "Epoch 8/50\n",
            "235/235 [==============================] - 2s 10ms/step - loss: 0.1024 - val_loss: 0.0994\n",
            "Epoch 9/50\n",
            "235/235 [==============================] - 2s 10ms/step - loss: 0.0996 - val_loss: 0.0970\n",
            "Epoch 10/50\n",
            "235/235 [==============================] - 2s 10ms/step - loss: 0.0976 - val_loss: 0.0954\n",
            "Epoch 11/50\n",
            "235/235 [==============================] - 2s 10ms/step - loss: 0.0962 - val_loss: 0.0943\n",
            "Epoch 12/50\n",
            "235/235 [==============================] - 2s 10ms/step - loss: 0.0954 - val_loss: 0.0937\n",
            "Epoch 13/50\n",
            "235/235 [==============================] - 2s 10ms/step - loss: 0.0948 - val_loss: 0.0932\n",
            "Epoch 14/50\n",
            "235/235 [==============================] - 2s 10ms/step - loss: 0.0944 - val_loss: 0.0930\n",
            "Epoch 15/50\n",
            "235/235 [==============================] - 2s 10ms/step - loss: 0.0942 - val_loss: 0.0927\n",
            "Epoch 16/50\n",
            "235/235 [==============================] - 2s 10ms/step - loss: 0.0940 - val_loss: 0.0925\n",
            "Epoch 17/50\n",
            "235/235 [==============================] - 2s 10ms/step - loss: 0.0938 - val_loss: 0.0924\n",
            "Epoch 18/50\n",
            "235/235 [==============================] - 2s 10ms/step - loss: 0.0937 - val_loss: 0.0923\n",
            "Epoch 19/50\n",
            "235/235 [==============================] - 2s 10ms/step - loss: 0.0936 - val_loss: 0.0923\n",
            "Epoch 20/50\n",
            "235/235 [==============================] - 2s 10ms/step - loss: 0.0935 - val_loss: 0.0922\n",
            "Epoch 21/50\n",
            "235/235 [==============================] - 2s 10ms/step - loss: 0.0935 - val_loss: 0.0921\n",
            "Epoch 22/50\n",
            "235/235 [==============================] - 2s 10ms/step - loss: 0.0934 - val_loss: 0.0920\n",
            "Epoch 23/50\n",
            "235/235 [==============================] - 2s 10ms/step - loss: 0.0933 - val_loss: 0.0920\n",
            "Epoch 24/50\n",
            "235/235 [==============================] - 2s 10ms/step - loss: 0.0933 - val_loss: 0.0920\n",
            "Epoch 25/50\n",
            "235/235 [==============================] - 2s 10ms/step - loss: 0.0932 - val_loss: 0.0919\n",
            "Epoch 26/50\n",
            "235/235 [==============================] - 2s 10ms/step - loss: 0.0932 - val_loss: 0.0919\n",
            "Epoch 27/50\n",
            "235/235 [==============================] - 2s 10ms/step - loss: 0.0931 - val_loss: 0.0920\n",
            "Epoch 28/50\n",
            "235/235 [==============================] - 2s 10ms/step - loss: 0.0931 - val_loss: 0.0920\n",
            "Epoch 29/50\n",
            "235/235 [==============================] - 2s 10ms/step - loss: 0.0931 - val_loss: 0.0919\n",
            "Epoch 30/50\n",
            "235/235 [==============================] - 2s 10ms/step - loss: 0.0931 - val_loss: 0.0919\n",
            "Epoch 31/50\n",
            "235/235 [==============================] - 2s 10ms/step - loss: 0.0930 - val_loss: 0.0918\n",
            "Epoch 32/50\n",
            "235/235 [==============================] - 2s 10ms/step - loss: 0.0930 - val_loss: 0.0918\n",
            "Epoch 33/50\n",
            "235/235 [==============================] - 2s 10ms/step - loss: 0.0930 - val_loss: 0.0918\n",
            "Epoch 34/50\n",
            "235/235 [==============================] - 2s 10ms/step - loss: 0.0930 - val_loss: 0.0917\n",
            "Epoch 35/50\n",
            "235/235 [==============================] - 2s 10ms/step - loss: 0.0929 - val_loss: 0.0918\n",
            "Epoch 36/50\n",
            "235/235 [==============================] - 2s 10ms/step - loss: 0.0929 - val_loss: 0.0918\n",
            "Epoch 37/50\n",
            "235/235 [==============================] - 2s 10ms/step - loss: 0.0929 - val_loss: 0.0917\n",
            "Epoch 38/50\n",
            "235/235 [==============================] - 2s 10ms/step - loss: 0.0929 - val_loss: 0.0917\n",
            "Epoch 39/50\n",
            "235/235 [==============================] - 3s 11ms/step - loss: 0.0928 - val_loss: 0.0917\n",
            "Epoch 40/50\n",
            "235/235 [==============================] - 2s 11ms/step - loss: 0.0928 - val_loss: 0.0917\n",
            "Epoch 41/50\n",
            "235/235 [==============================] - 2s 10ms/step - loss: 0.0928 - val_loss: 0.0917\n",
            "Epoch 42/50\n",
            "235/235 [==============================] - 2s 10ms/step - loss: 0.0928 - val_loss: 0.0916\n",
            "Epoch 43/50\n",
            "235/235 [==============================] - 2s 10ms/step - loss: 0.0928 - val_loss: 0.0916\n",
            "Epoch 44/50\n",
            "235/235 [==============================] - 2s 10ms/step - loss: 0.0928 - val_loss: 0.0917\n",
            "Epoch 45/50\n",
            "235/235 [==============================] - 2s 10ms/step - loss: 0.0928 - val_loss: 0.0916\n",
            "Epoch 46/50\n",
            "235/235 [==============================] - 2s 10ms/step - loss: 0.0927 - val_loss: 0.0916\n",
            "Epoch 47/50\n",
            "235/235 [==============================] - 2s 10ms/step - loss: 0.0927 - val_loss: 0.0916\n",
            "Epoch 48/50\n",
            "235/235 [==============================] - 2s 10ms/step - loss: 0.0927 - val_loss: 0.0915\n",
            "Epoch 49/50\n",
            "235/235 [==============================] - 2s 10ms/step - loss: 0.0927 - val_loss: 0.0916\n",
            "Epoch 50/50\n",
            "235/235 [==============================] - 2s 10ms/step - loss: 0.0927 - val_loss: 0.0916\n"
          ],
          "name": "stdout"
        },
        {
          "output_type": "execute_result",
          "data": {
            "text/plain": [
              "<tensorflow.python.keras.callbacks.History at 0x7f343767ed30>"
            ]
          },
          "metadata": {
            "tags": []
          },
          "execution_count": 7
        }
      ]
    },
    {
      "cell_type": "markdown",
      "metadata": {
        "id": "VHCs6U6srsiK",
        "colab_type": "text"
      },
      "source": [
        "50번 정도의 epoch을 실행시키면 loss 값은 약 0.09로 형성이 되는 것을 확인할 수 있다. 그리고 위에서 분리했던 디코더 모델의 아웃풋과 x_test 원본 데이터를 각각 28x28 이미지 데이터로 reshape하여 시각화하면 아래와 같다. "
      ]
    },
    {
      "cell_type": "code",
      "metadata": {
        "id": "gzwaDtWykqmq",
        "colab_type": "code",
        "colab": {}
      },
      "source": [
        "encoded_imgs = encoder.predict(x_test)\n",
        "decoded_imgs = decoder.predict(encoded_imgs)"
      ],
      "execution_count": null,
      "outputs": []
    },
    {
      "cell_type": "code",
      "metadata": {
        "id": "CBcj2tNQpT04",
        "colab_type": "code",
        "colab": {
          "base_uri": "https://localhost:8080/",
          "height": 248
        },
        "outputId": "b9070a97-03ee-40a7-d6df-c65548ae8624"
      },
      "source": [
        "import matplotlib.pyplot as plt\n",
        "\n",
        "n = 10\n",
        "plt.figure(figsize=(20, 4))\n",
        "for i in range(n):\n",
        "    ax = plt.subplot(2, n, i+1)\n",
        "    plt.imshow(x_test[i].reshape(28, 28))\n",
        "    plt.gray()\n",
        "    ax.get_xaxis().set_visible(False)\n",
        "    ax.get_yaxis().set_visible(False)\n",
        "\n",
        "    ax = plt.subplot(2, n, i+1+n)\n",
        "    plt.imshow(decoded_imgs[i].reshape(28, 28))\n",
        "    plt.gray()\n",
        "    ax.get_xaxis().set_visible(False)\n",
        "    ax.get_yaxis().set_visible(False)\n",
        "plt.show()"
      ],
      "execution_count": null,
      "outputs": [
        {
          "output_type": "display_data",
          "data": {
            "image/png": "[encoded data removed]",
            "text/plain": [
              "<Figure size 1440x288 with 20 Axes>"
            ]
          },
          "metadata": {
            "tags": [],
            "needs_background": "light"
          }
        }
      ]
    },
    {
      "cell_type": "markdown",
      "metadata": {
        "id": "O9MIGoHfrxpI",
        "colab_type": "text"
      },
      "source": [
        "결과에서도 알 수 있듯이 test 원본 데이터와 거의 유사한 아웃풋을 얻었음을 확인할 수 있다."
      ]
    },
    {
      "cell_type": "markdown",
      "metadata": {
        "id": "iCS7nQ9Lry97",
        "colab_type": "text"
      },
      "source": [
        "### 2. 심층 오토인코더 모형 구현"
      ]
    },
    {
      "cell_type": "markdown",
      "metadata": {
        "id": "ZvL7B5nFr2oT",
        "colab_type": "text"
      },
      "source": [
        "이번에는 Deep Autoencoder 모형 구현을 해보도록 하겠다. 기본적인 오토인코더와 동일하게 진행하되, 오토인코더 모형 생성 시 layer를 더 deep하게 쌓는다."
      ]
    },
    {
      "cell_type": "code",
      "metadata": {
        "id": "J76gmvOTpvMf",
        "colab_type": "code",
        "colab": {
          "base_uri": "https://localhost:8080/",
          "height": 51
        },
        "outputId": "30b488e9-7715-4c57-e1ec-74a43c6b498a"
      },
      "source": [
        "from keras.layers import Input, Dense\n",
        "from keras.models import Model\n",
        "from keras.datasets import mnist\n",
        "import numpy as np\n",
        "(x_train, _), (x_test, _) = mnist.load_data()"
      ],
      "execution_count": null,
      "outputs": [
        {
          "output_type": "stream",
          "text": [
            "Downloading data from https://storage.googleapis.com/tensorflow/tf-keras-datasets/mnist.npz\n",
            "11493376/11490434 [==============================] - 1s 0us/step\n"
          ],
          "name": "stdout"
        }
      ]
    },
    {
      "cell_type": "code",
      "metadata": {
        "id": "0K0zVaIEqR53",
        "colab_type": "code",
        "colab": {}
      },
      "source": [
        "x_train = x_train.astype('float32') / 255\n",
        "x_test = x_test.astype('float32') / 255\n",
        "x_train = x_train.reshape((len(x_train), np.prod(x_train.shape[1:])))\n",
        "x_test = x_test.reshape((len(x_test), np.prod(x_test.shape[1:])))"
      ],
      "execution_count": null,
      "outputs": []
    },
    {
      "cell_type": "code",
      "metadata": {
        "id": "VqTGgi2gqdr_",
        "colab_type": "code",
        "colab": {}
      },
      "source": [
        "#기본적인 오토인코더에서 인코더 및 디코더를 더 깊은 층으로 구성한다.\n",
        "input_img = Input(shape=(784,))\n",
        "encoded = Dense(128, activation='relu')(input_img)\n",
        "encoded = Dense(64, activation='relu')(encoded)\n",
        "encoded = Dense(32, activation='relu')(encoded)\n",
        "\n",
        "decoded = Dense(64, activation='relu')(encoded)\n",
        "decoded = Dense(128, activation='relu')(decoded)\n",
        "decoded = Dense(784, activation='sigmoid')(decoded)"
      ],
      "execution_count": null,
      "outputs": []
    },
    {
      "cell_type": "code",
      "metadata": {
        "id": "r2ZwDxpGqtXa",
        "colab_type": "code",
        "colab": {
          "base_uri": "https://localhost:8080/",
          "height": 1000
        },
        "outputId": "d8e16e59-eeff-41d6-d6b7-e41c69a440f0"
      },
      "source": [
        "autoencoder = Model(input_img, decoded)\n",
        "autoencoder.compile(optimizer='adam', loss='binary_crossentropy')\n",
        "\n",
        "autoencoder.fit(x_train, x_train,\n",
        "                epochs=100,\n",
        "                batch_size=256,\n",
        "                shuffle=True,\n",
        "                validation_data=(x_test, x_test))"
      ],
      "execution_count": null,
      "outputs": [
        {
          "output_type": "stream",
          "text": [
            "Epoch 1/100\n",
            "235/235 [==============================] - 3s 12ms/step - loss: 0.2403 - val_loss: 0.1634\n",
            "Epoch 2/100\n",
            "235/235 [==============================] - 3s 12ms/step - loss: 0.1466 - val_loss: 0.1312\n",
            "Epoch 3/100\n",
            "235/235 [==============================] - 3s 12ms/step - loss: 0.1260 - val_loss: 0.1195\n",
            "Epoch 4/100\n",
            "235/235 [==============================] - 3s 12ms/step - loss: 0.1186 - val_loss: 0.1147\n",
            "Epoch 5/100\n",
            "235/235 [==============================] - 3s 12ms/step - loss: 0.1141 - val_loss: 0.1110\n",
            "Epoch 6/100\n",
            "235/235 [==============================] - 3s 12ms/step - loss: 0.1108 - val_loss: 0.1077\n",
            "Epoch 7/100\n",
            "235/235 [==============================] - 3s 12ms/step - loss: 0.1078 - val_loss: 0.1054\n",
            "Epoch 8/100\n",
            "235/235 [==============================] - 3s 12ms/step - loss: 0.1052 - val_loss: 0.1027\n",
            "Epoch 9/100\n",
            "235/235 [==============================] - 3s 12ms/step - loss: 0.1028 - val_loss: 0.1006\n",
            "Epoch 10/100\n",
            "235/235 [==============================] - 3s 12ms/step - loss: 0.1008 - val_loss: 0.0988\n",
            "Epoch 11/100\n",
            "235/235 [==============================] - 3s 12ms/step - loss: 0.0991 - val_loss: 0.0974\n",
            "Epoch 12/100\n",
            "235/235 [==============================] - 3s 12ms/step - loss: 0.0976 - val_loss: 0.0958\n",
            "Epoch 13/100\n",
            "235/235 [==============================] - 3s 12ms/step - loss: 0.0963 - val_loss: 0.0946\n",
            "Epoch 14/100\n",
            "235/235 [==============================] - 3s 12ms/step - loss: 0.0952 - val_loss: 0.0936\n",
            "Epoch 15/100\n",
            "235/235 [==============================] - 3s 12ms/step - loss: 0.0942 - val_loss: 0.0927\n",
            "Epoch 16/100\n",
            "235/235 [==============================] - 3s 12ms/step - loss: 0.0932 - val_loss: 0.0921\n",
            "Epoch 17/100\n",
            "235/235 [==============================] - 3s 12ms/step - loss: 0.0924 - val_loss: 0.0909\n",
            "Epoch 18/100\n",
            "235/235 [==============================] - 3s 12ms/step - loss: 0.0918 - val_loss: 0.0905\n",
            "Epoch 19/100\n",
            "235/235 [==============================] - 3s 12ms/step - loss: 0.0911 - val_loss: 0.0902\n",
            "Epoch 20/100\n",
            "235/235 [==============================] - 3s 12ms/step - loss: 0.0906 - val_loss: 0.0896\n",
            "Epoch 21/100\n",
            "235/235 [==============================] - 3s 12ms/step - loss: 0.0901 - val_loss: 0.0890\n",
            "Epoch 22/100\n",
            "235/235 [==============================] - 3s 12ms/step - loss: 0.0896 - val_loss: 0.0887\n",
            "Epoch 23/100\n",
            "235/235 [==============================] - 3s 12ms/step - loss: 0.0893 - val_loss: 0.0884\n",
            "Epoch 24/100\n",
            "235/235 [==============================] - 3s 12ms/step - loss: 0.0888 - val_loss: 0.0879\n",
            "Epoch 25/100\n",
            "235/235 [==============================] - 3s 12ms/step - loss: 0.0885 - val_loss: 0.0875\n",
            "Epoch 26/100\n",
            "235/235 [==============================] - 3s 12ms/step - loss: 0.0881 - val_loss: 0.0874\n",
            "Epoch 27/100\n",
            "235/235 [==============================] - 3s 12ms/step - loss: 0.0879 - val_loss: 0.0872\n",
            "Epoch 28/100\n",
            "235/235 [==============================] - 3s 12ms/step - loss: 0.0876 - val_loss: 0.0868\n",
            "Epoch 29/100\n",
            "235/235 [==============================] - 3s 12ms/step - loss: 0.0873 - val_loss: 0.0865\n",
            "Epoch 30/100\n",
            "235/235 [==============================] - 3s 12ms/step - loss: 0.0871 - val_loss: 0.0863\n",
            "Epoch 31/100\n",
            "235/235 [==============================] - 3s 12ms/step - loss: 0.0867 - val_loss: 0.0861\n",
            "Epoch 32/100\n",
            "235/235 [==============================] - 3s 12ms/step - loss: 0.0866 - val_loss: 0.0858\n",
            "Epoch 33/100\n",
            "235/235 [==============================] - 3s 12ms/step - loss: 0.0863 - val_loss: 0.0858\n",
            "Epoch 34/100\n",
            "235/235 [==============================] - 3s 12ms/step - loss: 0.0861 - val_loss: 0.0854\n",
            "Epoch 35/100\n",
            "235/235 [==============================] - 3s 12ms/step - loss: 0.0857 - val_loss: 0.0853\n",
            "Epoch 36/100\n",
            "235/235 [==============================] - 3s 12ms/step - loss: 0.0854 - val_loss: 0.0848\n",
            "Epoch 37/100\n",
            "235/235 [==============================] - 3s 12ms/step - loss: 0.0851 - val_loss: 0.0846\n",
            "Epoch 38/100\n",
            "235/235 [==============================] - 3s 12ms/step - loss: 0.0849 - val_loss: 0.0842\n",
            "Epoch 39/100\n",
            "235/235 [==============================] - 3s 12ms/step - loss: 0.0847 - val_loss: 0.0840\n",
            "Epoch 40/100\n",
            "235/235 [==============================] - 3s 12ms/step - loss: 0.0844 - val_loss: 0.0838\n",
            "Epoch 41/100\n",
            "235/235 [==============================] - 3s 12ms/step - loss: 0.0841 - val_loss: 0.0834\n",
            "Epoch 42/100\n",
            "235/235 [==============================] - 3s 12ms/step - loss: 0.0839 - val_loss: 0.0835\n",
            "Epoch 43/100\n",
            "235/235 [==============================] - 3s 12ms/step - loss: 0.0837 - val_loss: 0.0831\n",
            "Epoch 44/100\n",
            "235/235 [==============================] - 3s 12ms/step - loss: 0.0835 - val_loss: 0.0830\n",
            "Epoch 45/100\n",
            "235/235 [==============================] - 3s 12ms/step - loss: 0.0833 - val_loss: 0.0827\n",
            "Epoch 46/100\n",
            "235/235 [==============================] - 3s 12ms/step - loss: 0.0832 - val_loss: 0.0825\n",
            "Epoch 47/100\n",
            "235/235 [==============================] - 3s 12ms/step - loss: 0.0831 - val_loss: 0.0828\n",
            "Epoch 48/100\n",
            "235/235 [==============================] - 3s 12ms/step - loss: 0.0830 - val_loss: 0.0824\n",
            "Epoch 49/100\n",
            "235/235 [==============================] - 3s 12ms/step - loss: 0.0828 - val_loss: 0.0823\n",
            "Epoch 50/100\n",
            "235/235 [==============================] - 3s 12ms/step - loss: 0.0828 - val_loss: 0.0822\n",
            "Epoch 51/100\n",
            "235/235 [==============================] - 3s 12ms/step - loss: 0.0826 - val_loss: 0.0821\n",
            "Epoch 52/100\n",
            "235/235 [==============================] - 3s 12ms/step - loss: 0.0825 - val_loss: 0.0821\n",
            "Epoch 53/100\n",
            "235/235 [==============================] - 3s 12ms/step - loss: 0.0824 - val_loss: 0.0820\n",
            "Epoch 54/100\n",
            "235/235 [==============================] - 3s 12ms/step - loss: 0.0823 - val_loss: 0.0822\n",
            "Epoch 55/100\n",
            "235/235 [==============================] - 3s 12ms/step - loss: 0.0823 - val_loss: 0.0818\n",
            "Epoch 56/100\n",
            "235/235 [==============================] - 3s 12ms/step - loss: 0.0822 - val_loss: 0.0817\n",
            "Epoch 57/100\n",
            "235/235 [==============================] - 3s 12ms/step - loss: 0.0821 - val_loss: 0.0816\n",
            "Epoch 58/100\n",
            "235/235 [==============================] - 3s 12ms/step - loss: 0.0820 - val_loss: 0.0816\n",
            "Epoch 59/100\n",
            "235/235 [==============================] - 3s 12ms/step - loss: 0.0820 - val_loss: 0.0815\n",
            "Epoch 60/100\n",
            "235/235 [==============================] - 3s 12ms/step - loss: 0.0818 - val_loss: 0.0814\n",
            "Epoch 61/100\n",
            "235/235 [==============================] - 3s 12ms/step - loss: 0.0818 - val_loss: 0.0816\n",
            "Epoch 62/100\n",
            "235/235 [==============================] - 3s 12ms/step - loss: 0.0817 - val_loss: 0.0814\n",
            "Epoch 63/100\n",
            "235/235 [==============================] - 3s 12ms/step - loss: 0.0817 - val_loss: 0.0813\n",
            "Epoch 64/100\n",
            "235/235 [==============================] - 3s 12ms/step - loss: 0.0816 - val_loss: 0.0813\n",
            "Epoch 65/100\n",
            "235/235 [==============================] - 3s 12ms/step - loss: 0.0815 - val_loss: 0.0811\n",
            "Epoch 66/100\n",
            "235/235 [==============================] - 3s 12ms/step - loss: 0.0815 - val_loss: 0.0810\n",
            "Epoch 67/100\n",
            "235/235 [==============================] - 3s 12ms/step - loss: 0.0815 - val_loss: 0.0811\n",
            "Epoch 68/100\n",
            "235/235 [==============================] - 3s 12ms/step - loss: 0.0814 - val_loss: 0.0813\n",
            "Epoch 69/100\n",
            "235/235 [==============================] - 3s 12ms/step - loss: 0.0813 - val_loss: 0.0810\n",
            "Epoch 70/100\n",
            "235/235 [==============================] - 3s 12ms/step - loss: 0.0813 - val_loss: 0.0814\n",
            "Epoch 71/100\n",
            "235/235 [==============================] - 3s 12ms/step - loss: 0.0813 - val_loss: 0.0811\n",
            "Epoch 72/100\n",
            "235/235 [==============================] - 3s 12ms/step - loss: 0.0812 - val_loss: 0.0811\n",
            "Epoch 73/100\n",
            "235/235 [==============================] - 3s 12ms/step - loss: 0.0811 - val_loss: 0.0809\n",
            "Epoch 74/100\n",
            "235/235 [==============================] - 3s 12ms/step - loss: 0.0811 - val_loss: 0.0807\n",
            "Epoch 75/100\n",
            "235/235 [==============================] - 3s 12ms/step - loss: 0.0811 - val_loss: 0.0808\n",
            "Epoch 76/100\n",
            "235/235 [==============================] - 3s 12ms/step - loss: 0.0810 - val_loss: 0.0808\n",
            "Epoch 77/100\n",
            "235/235 [==============================] - 3s 12ms/step - loss: 0.0810 - val_loss: 0.0807\n",
            "Epoch 78/100\n",
            "235/235 [==============================] - 3s 12ms/step - loss: 0.0810 - val_loss: 0.0806\n",
            "Epoch 79/100\n",
            "235/235 [==============================] - 3s 12ms/step - loss: 0.0809 - val_loss: 0.0806\n",
            "Epoch 80/100\n",
            "235/235 [==============================] - 3s 12ms/step - loss: 0.0809 - val_loss: 0.0806\n",
            "Epoch 81/100\n",
            "235/235 [==============================] - 3s 12ms/step - loss: 0.0809 - val_loss: 0.0808\n",
            "Epoch 82/100\n",
            "235/235 [==============================] - 3s 12ms/step - loss: 0.0808 - val_loss: 0.0807\n",
            "Epoch 83/100\n",
            "235/235 [==============================] - 3s 12ms/step - loss: 0.0808 - val_loss: 0.0807\n",
            "Epoch 84/100\n",
            "235/235 [==============================] - 3s 12ms/step - loss: 0.0808 - val_loss: 0.0804\n",
            "Epoch 85/100\n",
            "235/235 [==============================] - 3s 12ms/step - loss: 0.0808 - val_loss: 0.0804\n",
            "Epoch 86/100\n",
            "235/235 [==============================] - 3s 12ms/step - loss: 0.0807 - val_loss: 0.0804\n",
            "Epoch 87/100\n",
            "235/235 [==============================] - 3s 12ms/step - loss: 0.0807 - val_loss: 0.0803\n",
            "Epoch 88/100\n",
            "235/235 [==============================] - 3s 12ms/step - loss: 0.0807 - val_loss: 0.0804\n",
            "Epoch 89/100\n",
            "235/235 [==============================] - 3s 12ms/step - loss: 0.0806 - val_loss: 0.0805\n",
            "Epoch 90/100\n",
            "235/235 [==============================] - 3s 12ms/step - loss: 0.0806 - val_loss: 0.0804\n",
            "Epoch 91/100\n",
            "235/235 [==============================] - 3s 12ms/step - loss: 0.0806 - val_loss: 0.0803\n",
            "Epoch 92/100\n",
            "235/235 [==============================] - 3s 12ms/step - loss: 0.0806 - val_loss: 0.0804\n",
            "Epoch 93/100\n",
            "235/235 [==============================] - 3s 12ms/step - loss: 0.0805 - val_loss: 0.0803\n",
            "Epoch 94/100\n",
            "235/235 [==============================] - 3s 12ms/step - loss: 0.0805 - val_loss: 0.0804\n",
            "Epoch 95/100\n",
            "235/235 [==============================] - 3s 12ms/step - loss: 0.0805 - val_loss: 0.0803\n",
            "Epoch 96/100\n",
            "235/235 [==============================] - 3s 12ms/step - loss: 0.0804 - val_loss: 0.0803\n",
            "Epoch 97/100\n",
            "235/235 [==============================] - 3s 12ms/step - loss: 0.0804 - val_loss: 0.0802\n",
            "Epoch 98/100\n",
            "235/235 [==============================] - 3s 12ms/step - loss: 0.0804 - val_loss: 0.0800\n",
            "Epoch 99/100\n",
            "235/235 [==============================] - 3s 12ms/step - loss: 0.0804 - val_loss: 0.0802\n",
            "Epoch 100/100\n",
            "235/235 [==============================] - 3s 12ms/step - loss: 0.0804 - val_loss: 0.0800\n"
          ],
          "name": "stdout"
        },
        {
          "output_type": "execute_result",
          "data": {
            "text/plain": [
              "<tensorflow.python.keras.callbacks.History at 0x7f59137fb1d0>"
            ]
          },
          "metadata": {
            "tags": []
          },
          "execution_count": 4
        }
      ]
    },
    {
      "cell_type": "markdown",
      "metadata": {
        "id": "lOaza403sC3K",
        "colab_type": "text"
      },
      "source": [
        "총 100 epoch을 돌리면 loss 값은 대략 0.08의 값을 보인다. 그럼 이제 위와 동일하게 오토인코더의 아웃풋과 test data 원본 데이터를 각각 28*28 이미지 데이터로 reshape하여 시각화하면 아래와 같다."
      ]
    },
    {
      "cell_type": "code",
      "metadata": {
        "id": "gIQdYrmGqyTY",
        "colab_type": "code",
        "colab": {}
      },
      "source": [
        "#오토인코더의 아웃풋을 변수에 저장\n",
        "decoded_imgs = autoencoder.predict(x_test)"
      ],
      "execution_count": null,
      "outputs": []
    },
    {
      "cell_type": "code",
      "metadata": {
        "id": "45hcxe0msoVb",
        "colab_type": "code",
        "colab": {
          "base_uri": "https://localhost:8080/",
          "height": 248
        },
        "outputId": "2336547b-3cb7-4c6c-d265-e77f1320874a"
      },
      "source": [
        "import matplotlib.pyplot as plt\n",
        "\n",
        "n = 10\n",
        "plt.figure(figsize=(20, 4))\n",
        "for i in range(n):\n",
        "    ax = plt.subplot(2, n, i+1)\n",
        "    plt.imshow(x_test[i].reshape(28, 28))\n",
        "    plt.gray()\n",
        "    ax.get_xaxis().set_visible(False)\n",
        "    ax.get_yaxis().set_visible(False)\n",
        "\n",
        "    ax = plt.subplot(2, n, i+1+n)\n",
        "    plt.imshow(decoded_imgs[i].reshape(28, 28))\n",
        "    plt.gray()\n",
        "    ax.get_xaxis().set_visible(False)\n",
        "    ax.get_yaxis().set_visible(False)\n",
        "plt.show()"
      ],
      "execution_count": null,
      "outputs": [
        {
          "output_type": "display_data",
          "data": {
            "image/png": "[encoded data removed]",
            "text/plain": [
              "<Figure size 1440x288 with 20 Axes>"
            ]
          },
          "metadata": {
            "tags": [],
            "needs_background": "light"
          }
        }
      ]
    },
    {
      "cell_type": "markdown",
      "metadata": {
        "id": "2fkWcc9DsGAs",
        "colab_type": "text"
      },
      "source": [
        "그냥 봐서는 1번과 큰 차이가 없어 보이지만 확대해서 보면 약간 detail적으로 성능이 향상된 것을 확인할 수 있다."
      ]
    },
    {
      "cell_type": "markdown",
      "metadata": {
        "id": "znS_-wbbsGwv",
        "colab_type": "text"
      },
      "source": [
        "### 3. CNN 기반의 컨볼루션 오토인코더 모형 구현"
      ]
    },
    {
      "cell_type": "markdown",
      "metadata": {
        "id": "fQOg5mrBsPju",
        "colab_type": "text"
      },
      "source": [
        "컨볼루션 오토인코더는 심층 오토인코더가 MLP가 아닌 CNN으로 구성된다고 생각하면 된다. 따라서 Input이 1,2처럼 벡터가 아닌 이미지 형태로 들어간다. 또한 오토인코더 모형 생성 시 Dense 함수가 아닌 Conv2D 함수가 쓰이며 또한 maxpooling을 통해 pooling layer도 추가해준다. 그리고 모델을 쌓고 학습시킨 뒤 결과를 살펴보자."
      ]
    },
    {
      "cell_type": "code",
      "metadata": {
        "id": "vTmKjW4vs3wf",
        "colab_type": "code",
        "colab": {
          "base_uri": "https://localhost:8080/",
          "height": 51
        },
        "outputId": "ee74edf5-8f39-47a2-c2d0-5fa006e22e86"
      },
      "source": [
        "from keras.layers import Input, Dense\n",
        "from keras.models import Model\n",
        "from keras.datasets import mnist\n",
        "import numpy as np\n",
        "(x_train, _), (x_test, _) = mnist.load_data()"
      ],
      "execution_count": null,
      "outputs": [
        {
          "output_type": "stream",
          "text": [
            "Downloading data from https://storage.googleapis.com/tensorflow/tf-keras-datasets/mnist.npz\n",
            "11493376/11490434 [==============================] - 0s 0us/step\n"
          ],
          "name": "stdout"
        }
      ]
    },
    {
      "cell_type": "code",
      "metadata": {
        "id": "c5YC3uNUtAml",
        "colab_type": "code",
        "colab": {}
      },
      "source": [
        "from keras.layers import Conv2D, MaxPooling2D, UpSampling2D\n",
        "\n",
        "#컨볼루션 오토인코더에서는 인풋이 이미지 그대로 들어간다. (28x28)\n",
        "#기본적인 오토인코더가 MLP 모형으로 이루어졌다면, 컨볼루션 오토인코더는 CNN(Convolutional Neural Networks)으로 이루어졌다고 볼 수 있다.\n",
        "\n",
        "input_img = Input(shape=(28, 28, 1))\n",
        "\n",
        "x = Conv2D(16, (3, 3), activation='relu', padding='same')(input_img)\n",
        "x = MaxPooling2D((2, 2), padding='same')(x)\n",
        "x = Conv2D(8, (3, 3), activation='relu', padding='same')(x)\n",
        "x = MaxPooling2D((2, 2), padding='same')(x)\n",
        "x = Conv2D(8, (3, 3), activation='relu', padding='same')(x)\n",
        "encoded = MaxPooling2D((2, 2), padding='same')(x)\n",
        "\n",
        "x = Conv2D(8, (3, 3), activation='relu', padding='same')(encoded)\n",
        "x = UpSampling2D((2, 2))(x)\n",
        "x = Conv2D(8, (3, 3), activation='relu', padding='same')(x)\n",
        "x = UpSampling2D((2, 2))(x)\n",
        "x = Conv2D(16, (3, 3), activation='relu')(x)\n",
        "x = UpSampling2D((2, 2))(x)\n",
        "decoded = Conv2D(1, (3, 3), activation='sigmoid', padding='same')(x)\n",
        "\n",
        "autoencoder = Model(input_img, decoded)\n",
        "autoencoder.compile(optimizer='adam', loss='binary_crossentropy')"
      ],
      "execution_count": null,
      "outputs": []
    },
    {
      "cell_type": "code",
      "metadata": {
        "id": "dh3IjM-C-LfG",
        "colab_type": "code",
        "colab": {}
      },
      "source": [
        "x_train = x_train.astype('float32') / 255\n",
        "x_test = x_test.astype('float32') / 255\n",
        "x_train = np.reshape(x_train, (len(x_train), 28, 28, 1))\n",
        "x_test = np.reshape(x_test, (len(x_test), 28, 28, 1)) "
      ],
      "execution_count": null,
      "outputs": []
    },
    {
      "cell_type": "code",
      "metadata": {
        "id": "XJghWJcb-VUn",
        "colab_type": "code",
        "colab": {
          "base_uri": "https://localhost:8080/",
          "height": 1000
        },
        "outputId": "6d859de6-9b41-4633-ff76-ec2753ff5498"
      },
      "source": [
        "autoencoder.fit(x_train, x_train,\n",
        "                epochs=50,\n",
        "                batch_size=1024,\n",
        "                shuffle=True,\n",
        "                validation_data=(x_test, x_test))"
      ],
      "execution_count": null,
      "outputs": [
        {
          "output_type": "stream",
          "text": [
            "Epoch 1/50\n",
            "59/59 [==============================] - 2s 27ms/step - loss: 0.4373 - val_loss: 0.2822\n",
            "Epoch 2/50\n",
            "59/59 [==============================] - 1s 20ms/step - loss: 0.2369 - val_loss: 0.2106\n",
            "Epoch 3/50\n",
            "59/59 [==============================] - 1s 21ms/step - loss: 0.1952 - val_loss: 0.1815\n",
            "Epoch 4/50\n",
            "59/59 [==============================] - 1s 21ms/step - loss: 0.1735 - val_loss: 0.1643\n",
            "Epoch 5/50\n",
            "59/59 [==============================] - 1s 20ms/step - loss: 0.1596 - val_loss: 0.1534\n",
            "Epoch 6/50\n",
            "59/59 [==============================] - 1s 20ms/step - loss: 0.1510 - val_loss: 0.1466\n",
            "Epoch 7/50\n",
            "59/59 [==============================] - 1s 20ms/step - loss: 0.1450 - val_loss: 0.1414\n",
            "Epoch 8/50\n",
            "59/59 [==============================] - 1s 20ms/step - loss: 0.1403 - val_loss: 0.1371\n",
            "Epoch 9/50\n",
            "59/59 [==============================] - 1s 20ms/step - loss: 0.1363 - val_loss: 0.1336\n",
            "Epoch 10/50\n",
            "59/59 [==============================] - 1s 21ms/step - loss: 0.1329 - val_loss: 0.1305\n",
            "Epoch 11/50\n",
            "59/59 [==============================] - 1s 21ms/step - loss: 0.1301 - val_loss: 0.1278\n",
            "Epoch 12/50\n",
            "59/59 [==============================] - 1s 20ms/step - loss: 0.1275 - val_loss: 0.1253\n",
            "Epoch 13/50\n",
            "59/59 [==============================] - 1s 21ms/step - loss: 0.1252 - val_loss: 0.1233\n",
            "Epoch 14/50\n",
            "59/59 [==============================] - 1s 21ms/step - loss: 0.1232 - val_loss: 0.1214\n",
            "Epoch 15/50\n",
            "59/59 [==============================] - 1s 21ms/step - loss: 0.1215 - val_loss: 0.1199\n",
            "Epoch 16/50\n",
            "59/59 [==============================] - 1s 21ms/step - loss: 0.1201 - val_loss: 0.1182\n",
            "Epoch 17/50\n",
            "59/59 [==============================] - 1s 21ms/step - loss: 0.1188 - val_loss: 0.1170\n",
            "Epoch 18/50\n",
            "59/59 [==============================] - 1s 21ms/step - loss: 0.1177 - val_loss: 0.1160\n",
            "Epoch 19/50\n",
            "59/59 [==============================] - 1s 21ms/step - loss: 0.1166 - val_loss: 0.1150\n",
            "Epoch 20/50\n",
            "59/59 [==============================] - 1s 21ms/step - loss: 0.1157 - val_loss: 0.1140\n",
            "Epoch 21/50\n",
            "59/59 [==============================] - 1s 21ms/step - loss: 0.1149 - val_loss: 0.1132\n",
            "Epoch 22/50\n",
            "59/59 [==============================] - 1s 21ms/step - loss: 0.1140 - val_loss: 0.1125\n",
            "Epoch 23/50\n",
            "59/59 [==============================] - 1s 21ms/step - loss: 0.1133 - val_loss: 0.1118\n",
            "Epoch 24/50\n",
            "59/59 [==============================] - 1s 21ms/step - loss: 0.1125 - val_loss: 0.1110\n",
            "Epoch 25/50\n",
            "59/59 [==============================] - 1s 21ms/step - loss: 0.1119 - val_loss: 0.1105\n",
            "Epoch 26/50\n",
            "59/59 [==============================] - 1s 21ms/step - loss: 0.1112 - val_loss: 0.1097\n",
            "Epoch 27/50\n",
            "59/59 [==============================] - 1s 21ms/step - loss: 0.1106 - val_loss: 0.1101\n",
            "Epoch 28/50\n",
            "59/59 [==============================] - 1s 21ms/step - loss: 0.1101 - val_loss: 0.1085\n",
            "Epoch 29/50\n",
            "59/59 [==============================] - 1s 21ms/step - loss: 0.1094 - val_loss: 0.1079\n",
            "Epoch 30/50\n",
            "59/59 [==============================] - 1s 21ms/step - loss: 0.1088 - val_loss: 0.1073\n",
            "Epoch 31/50\n",
            "59/59 [==============================] - 1s 21ms/step - loss: 0.1083 - val_loss: 0.1068\n",
            "Epoch 32/50\n",
            "59/59 [==============================] - 1s 21ms/step - loss: 0.1077 - val_loss: 0.1064\n",
            "Epoch 33/50\n",
            "59/59 [==============================] - 1s 21ms/step - loss: 0.1073 - val_loss: 0.1058\n",
            "Epoch 34/50\n",
            "59/59 [==============================] - 1s 21ms/step - loss: 0.1068 - val_loss: 0.1054\n",
            "Epoch 35/50\n",
            "59/59 [==============================] - 1s 21ms/step - loss: 0.1063 - val_loss: 0.1056\n",
            "Epoch 36/50\n",
            "59/59 [==============================] - 1s 21ms/step - loss: 0.1060 - val_loss: 0.1045\n",
            "Epoch 37/50\n",
            "59/59 [==============================] - 1s 21ms/step - loss: 0.1056 - val_loss: 0.1041\n",
            "Epoch 38/50\n",
            "59/59 [==============================] - 1s 21ms/step - loss: 0.1051 - val_loss: 0.1038\n",
            "Epoch 39/50\n",
            "59/59 [==============================] - 1s 21ms/step - loss: 0.1047 - val_loss: 0.1034\n",
            "Epoch 40/50\n",
            "59/59 [==============================] - 1s 21ms/step - loss: 0.1043 - val_loss: 0.1030\n",
            "Epoch 41/50\n",
            "59/59 [==============================] - 1s 21ms/step - loss: 0.1040 - val_loss: 0.1028\n",
            "Epoch 42/50\n",
            "59/59 [==============================] - 1s 21ms/step - loss: 0.1037 - val_loss: 0.1023\n",
            "Epoch 43/50\n",
            "59/59 [==============================] - 1s 21ms/step - loss: 0.1034 - val_loss: 0.1020\n",
            "Epoch 44/50\n",
            "59/59 [==============================] - 1s 21ms/step - loss: 0.1030 - val_loss: 0.1017\n",
            "Epoch 45/50\n",
            "59/59 [==============================] - 1s 21ms/step - loss: 0.1027 - val_loss: 0.1014\n",
            "Epoch 46/50\n",
            "59/59 [==============================] - 1s 21ms/step - loss: 0.1025 - val_loss: 0.1018\n",
            "Epoch 47/50\n",
            "59/59 [==============================] - 1s 21ms/step - loss: 0.1022 - val_loss: 0.1010\n",
            "Epoch 48/50\n",
            "59/59 [==============================] - 1s 21ms/step - loss: 0.1020 - val_loss: 0.1009\n",
            "Epoch 49/50\n",
            "59/59 [==============================] - 1s 21ms/step - loss: 0.1018 - val_loss: 0.1004\n",
            "Epoch 50/50\n",
            "59/59 [==============================] - 1s 21ms/step - loss: 0.1014 - val_loss: 0.1002\n"
          ],
          "name": "stdout"
        },
        {
          "output_type": "execute_result",
          "data": {
            "text/plain": [
              "<tensorflow.python.keras.callbacks.History at 0x7fc51245c278>"
            ]
          },
          "metadata": {
            "tags": []
          },
          "execution_count": 4
        }
      ]
    },
    {
      "cell_type": "markdown",
      "metadata": {
        "id": "u977mqhZsdJO",
        "colab_type": "text"
      },
      "source": [
        "50 epoch 정도를 돌리면 loss 값은 약 0.10정도로 나타난다. 1,2 보다는 loss 값이 소폭 커졌다. 이후 다시 디코더의 아웃풋과 원본 데이터를 각각 28*28 이미지 데이터로 reshape하여 시각화하면 아래와 같다."
      ]
    },
    {
      "cell_type": "code",
      "metadata": {
        "id": "J8kSivbW-ame",
        "colab_type": "code",
        "colab": {}
      },
      "source": [
        "decoded_imgs = autoencoder.predict(x_test)"
      ],
      "execution_count": null,
      "outputs": []
    },
    {
      "cell_type": "code",
      "metadata": {
        "id": "tCuy--eP_FkL",
        "colab_type": "code",
        "colab": {
          "base_uri": "https://localhost:8080/",
          "height": 248
        },
        "outputId": "d4a627f7-3b39-4a3a-9495-2c719c7fc40c"
      },
      "source": [
        "import matplotlib.pyplot as plt\n",
        "n = 10\n",
        "plt.figure(figsize=(20, 4))\n",
        "for i in range(1,n+1):\n",
        "    ax = plt.subplot(2, n, i)\n",
        "    plt.imshow(x_test[i].reshape(28, 28))\n",
        "    plt.gray()\n",
        "    ax.get_xaxis().set_visible(False)\n",
        "    ax.get_yaxis().set_visible(False)\n",
        "\n",
        "    ax = plt.subplot(2, n, i+n)\n",
        "    plt.imshow(decoded_imgs[i].reshape(28, 28))\n",
        "    plt.gray()\n",
        "    ax.get_xaxis().set_visible(False)\n",
        "    ax.get_yaxis().set_visible(False)\n",
        "plt.show()"
      ],
      "execution_count": null,
      "outputs": [
        {
          "output_type": "display_data",
          "data": {
            "image/png": "[encoded data removed]",
            "text/plain": [
              "<Figure size 1440x288 with 20 Axes>"
            ]
          },
          "metadata": {
            "tags": [],
            "needs_background": "light"
          }
        }
      ]
    },
    {
      "cell_type": "markdown",
      "metadata": {
        "id": "KqLY-3qNsgai",
        "colab_type": "text"
      },
      "source": [
        "### 4. 노이즈를 제거하는 디노이징 오토인코더 모형 구현"
      ]
    },
    {
      "cell_type": "markdown",
      "metadata": {
        "id": "CYqWOYsxsjby",
        "colab_type": "text"
      },
      "source": [
        "마지막 실습이다. 위의 1,2,3은 다 결과값이 원본 이미지로부터 바로 추출됐지만 만약 원본 이미지 자체에 노이즈가 끼여 있으면 아마 선명한 아웃풋을 얻을 수 없을 것이다. 이번에는 노이즈를 제거하는 디노이징 오토인코더를 구현해보도록 하겠다. 디노이징 오토인코더를 구현하기 위해 MNIST 데이터에 가우스 노이즈를 부여한다. 노이즈는 noise factor함수를 이용하여 추가할 수 있다. 이렇게 만들어진 데이터를 우선 시각화해보자."
      ]
    },
    {
      "cell_type": "code",
      "metadata": {
        "id": "8cPKxIAc_coo",
        "colab_type": "code",
        "colab": {}
      },
      "source": [
        "from keras.layers import Input, Dense\n",
        "from keras.models import Model\n",
        "from keras.datasets import mnist\n",
        "import numpy as np\n",
        "(x_train, _), (x_test, _) = mnist.load_data()"
      ],
      "execution_count": null,
      "outputs": []
    },
    {
      "cell_type": "code",
      "metadata": {
        "id": "DriyTYFn_ujN",
        "colab_type": "code",
        "colab": {}
      },
      "source": [
        "#컨볼루션 오토인코더를 활용하여 Denoising\n",
        "x_train = x_train.astype('float32') / 255\n",
        "x_test = x_test.astype('float32') / 255\n",
        "x_train = np.reshape(x_train, (len(x_train), 28, 28, 1))\n",
        "x_test = np.reshape(x_test, (len(x_test), 28, 28, 1)) "
      ],
      "execution_count": null,
      "outputs": []
    },
    {
      "cell_type": "code",
      "metadata": {
        "id": "YoZ8wNhOA0pY",
        "colab_type": "code",
        "colab": {}
      },
      "source": [
        "#가우스 노이즈 데이터 생성\n",
        "noise_factor = 0.5\n",
        "x_train_noisy = x_train + noise_factor * np.random.normal(loc=0.0, scale=1.0, size=x_train.shape) \n",
        "x_test_noisy = x_test + noise_factor * np.random.normal(loc=0.0, scale=1.0, size=x_test.shape) \n",
        "\n",
        "x_train_noisy = np.clip(x_train_noisy, 0, 1)\n",
        "x_test_noisy = np.clip(x_test_noisy, 0, 1)"
      ],
      "execution_count": null,
      "outputs": []
    },
    {
      "cell_type": "code",
      "metadata": {
        "id": "mg65o-1oBCyI",
        "colab_type": "code",
        "colab": {
          "base_uri": "https://localhost:8080/",
          "height": 129
        },
        "outputId": "f3af5ffd-12ba-435d-b16b-f9836e74699d"
      },
      "source": [
        "#노이즈 데이터 시각화\n",
        "import matplotlib.pyplot as plt\n",
        "\n",
        "n = 10\n",
        "plt.figure(figsize=(20, 2))\n",
        "for i in range(1,n+1):\n",
        "    ax = plt.subplot(1, n, i)\n",
        "    plt.imshow(x_test_noisy[i].reshape(28, 28))\n",
        "    plt.gray()\n",
        "    ax.get_xaxis().set_visible(False)\n",
        "    ax.get_yaxis().set_visible(False)\n",
        "plt.show()"
      ],
      "execution_count": null,
      "outputs": [
        {
          "output_type": "display_data",
          "data": {
            "image/png": "[encoded data removed]",
            "text/plain": [
              "<Figure size 1440x144 with 10 Axes>"
            ]
          },
          "metadata": {
            "tags": [],
            "needs_background": "light"
          }
        }
      ]
    },
    {
      "cell_type": "markdown",
      "metadata": {
        "id": "BTGZo6rHswWm",
        "colab_type": "text"
      },
      "source": [
        "이미지에 가우스 노이즈 데이터 잘 끼여있는 것을 볼 수 있다. 그다음 3번에서 했던 컨볼루션 오토인코더를 이용한다. 컨볼루션 오토인코더는 심층 오토인코더에 비해 인풋을 이미지로 바로 받을 수 있다. Convolutional autoencoder를 정의하고 epoch을 50번 정도 학습시켜준다."
      ]
    },
    {
      "cell_type": "code",
      "metadata": {
        "id": "QtWlOIF3BWxU",
        "colab_type": "code",
        "colab": {}
      },
      "source": [
        "#컨볼루션 오토인코더를 활용\n",
        "#Deep autoencoder를 활용해도 된다.(이 경우 인풋을 784로 맞춰야 한다.) \n",
        "\n",
        "from keras.layers import Conv2D, MaxPooling2D, UpSampling2D\n",
        "input_img = Input(shape=(28, 28, 1))\n",
        "\n",
        "x = Conv2D(32, (3, 3), activation='relu', padding='same')(input_img)\n",
        "x = MaxPooling2D((2, 2), padding='same')(x)\n",
        "x = Conv2D(32, (3, 3), activation='relu', padding='same')(x)\n",
        "encoded = MaxPooling2D((2, 2), padding='same')(x)\n",
        "\n",
        "x = Conv2D(32, (3, 3), activation='relu', padding='same')(encoded)\n",
        "x = UpSampling2D((2, 2))(x)\n",
        "x = Conv2D(32, (3, 3), activation='relu', padding='same')(x)\n",
        "x = UpSampling2D((2, 2))(x)\n",
        "decoded = Conv2D(1, (3, 3), activation='sigmoid', padding='same')(x)\n",
        "\n",
        "autoencoder = Model(input_img, decoded)\n",
        "autoencoder.compile(optimizer='adam', loss='binary_crossentropy')"
      ],
      "execution_count": null,
      "outputs": []
    },
    {
      "cell_type": "code",
      "metadata": {
        "id": "N2hgieWgCFB7",
        "colab_type": "code",
        "colab": {
          "base_uri": "https://localhost:8080/",
          "height": 1000
        },
        "outputId": "6e201a60-0b5a-4403-fe9e-05b07f7e1b3d"
      },
      "source": [
        "autoencoder.fit(x_train_noisy, x_train,\n",
        "                epochs=50,\n",
        "                batch_size=1024,\n",
        "                shuffle=True,\n",
        "                validation_data=(x_test_noisy, x_test))"
      ],
      "execution_count": null,
      "outputs": [
        {
          "output_type": "stream",
          "text": [
            "Epoch 1/50\n",
            "59/59 [==============================] - 2s 39ms/step - loss: 0.3603 - val_loss: 0.2065\n",
            "Epoch 2/50\n",
            "59/59 [==============================] - 2s 33ms/step - loss: 0.1751 - val_loss: 0.1537\n",
            "Epoch 3/50\n",
            "59/59 [==============================] - 2s 33ms/step - loss: 0.1452 - val_loss: 0.1359\n",
            "Epoch 4/50\n",
            "59/59 [==============================] - 2s 33ms/step - loss: 0.1328 - val_loss: 0.1271\n",
            "Epoch 5/50\n",
            "59/59 [==============================] - 2s 33ms/step - loss: 0.1262 - val_loss: 0.1221\n",
            "Epoch 6/50\n",
            "59/59 [==============================] - 2s 33ms/step - loss: 0.1219 - val_loss: 0.1194\n",
            "Epoch 7/50\n",
            "59/59 [==============================] - 2s 33ms/step - loss: 0.1192 - val_loss: 0.1167\n",
            "Epoch 8/50\n",
            "59/59 [==============================] - 2s 33ms/step - loss: 0.1170 - val_loss: 0.1148\n",
            "Epoch 9/50\n",
            "59/59 [==============================] - 2s 33ms/step - loss: 0.1155 - val_loss: 0.1136\n",
            "Epoch 10/50\n",
            "59/59 [==============================] - 2s 33ms/step - loss: 0.1141 - val_loss: 0.1132\n",
            "Epoch 11/50\n",
            "59/59 [==============================] - 2s 34ms/step - loss: 0.1130 - val_loss: 0.1116\n",
            "Epoch 12/50\n",
            "59/59 [==============================] - 2s 34ms/step - loss: 0.1120 - val_loss: 0.1124\n",
            "Epoch 13/50\n",
            "59/59 [==============================] - 2s 34ms/step - loss: 0.1112 - val_loss: 0.1097\n",
            "Epoch 14/50\n",
            "59/59 [==============================] - 2s 33ms/step - loss: 0.1102 - val_loss: 0.1090\n",
            "Epoch 15/50\n",
            "59/59 [==============================] - 2s 33ms/step - loss: 0.1095 - val_loss: 0.1085\n",
            "Epoch 16/50\n",
            "59/59 [==============================] - 2s 34ms/step - loss: 0.1090 - val_loss: 0.1074\n",
            "Epoch 17/50\n",
            "59/59 [==============================] - 2s 33ms/step - loss: 0.1082 - val_loss: 0.1067\n",
            "Epoch 18/50\n",
            "59/59 [==============================] - 2s 33ms/step - loss: 0.1076 - val_loss: 0.1063\n",
            "Epoch 19/50\n",
            "59/59 [==============================] - 2s 33ms/step - loss: 0.1072 - val_loss: 0.1069\n",
            "Epoch 20/50\n",
            "59/59 [==============================] - 2s 34ms/step - loss: 0.1066 - val_loss: 0.1054\n",
            "Epoch 21/50\n",
            "59/59 [==============================] - 2s 34ms/step - loss: 0.1062 - val_loss: 0.1049\n",
            "Epoch 22/50\n",
            "59/59 [==============================] - 2s 34ms/step - loss: 0.1057 - val_loss: 0.1046\n",
            "Epoch 23/50\n",
            "59/59 [==============================] - 2s 34ms/step - loss: 0.1053 - val_loss: 0.1042\n",
            "Epoch 24/50\n",
            "59/59 [==============================] - 2s 33ms/step - loss: 0.1050 - val_loss: 0.1038\n",
            "Epoch 25/50\n",
            "59/59 [==============================] - 2s 34ms/step - loss: 0.1047 - val_loss: 0.1038\n",
            "Epoch 26/50\n",
            "59/59 [==============================] - 2s 34ms/step - loss: 0.1044 - val_loss: 0.1032\n",
            "Epoch 27/50\n",
            "59/59 [==============================] - 2s 34ms/step - loss: 0.1039 - val_loss: 0.1030\n",
            "Epoch 28/50\n",
            "59/59 [==============================] - 2s 34ms/step - loss: 0.1035 - val_loss: 0.1027\n",
            "Epoch 29/50\n",
            "59/59 [==============================] - 2s 33ms/step - loss: 0.1033 - val_loss: 0.1024\n",
            "Epoch 30/50\n",
            "59/59 [==============================] - 2s 34ms/step - loss: 0.1031 - val_loss: 0.1020\n",
            "Epoch 31/50\n",
            "59/59 [==============================] - 2s 34ms/step - loss: 0.1028 - val_loss: 0.1018\n",
            "Epoch 32/50\n",
            "59/59 [==============================] - 2s 34ms/step - loss: 0.1025 - val_loss: 0.1016\n",
            "Epoch 33/50\n",
            "59/59 [==============================] - 2s 34ms/step - loss: 0.1024 - val_loss: 0.1015\n",
            "Epoch 34/50\n",
            "59/59 [==============================] - 2s 34ms/step - loss: 0.1022 - val_loss: 0.1017\n",
            "Epoch 35/50\n",
            "59/59 [==============================] - 2s 34ms/step - loss: 0.1021 - val_loss: 0.1012\n",
            "Epoch 36/50\n",
            "59/59 [==============================] - 2s 34ms/step - loss: 0.1018 - val_loss: 0.1011\n",
            "Epoch 37/50\n",
            "59/59 [==============================] - 2s 33ms/step - loss: 0.1016 - val_loss: 0.1007\n",
            "Epoch 38/50\n",
            "59/59 [==============================] - 2s 33ms/step - loss: 0.1016 - val_loss: 0.1006\n",
            "Epoch 39/50\n",
            "59/59 [==============================] - 2s 34ms/step - loss: 0.1013 - val_loss: 0.1005\n",
            "Epoch 40/50\n",
            "59/59 [==============================] - 2s 34ms/step - loss: 0.1012 - val_loss: 0.1003\n",
            "Epoch 41/50\n",
            "59/59 [==============================] - 2s 34ms/step - loss: 0.1011 - val_loss: 0.1002\n",
            "Epoch 42/50\n",
            "59/59 [==============================] - 2s 34ms/step - loss: 0.1009 - val_loss: 0.1000\n",
            "Epoch 43/50\n",
            "59/59 [==============================] - 2s 34ms/step - loss: 0.1007 - val_loss: 0.0999\n",
            "Epoch 44/50\n",
            "59/59 [==============================] - 2s 34ms/step - loss: 0.1006 - val_loss: 0.1002\n",
            "Epoch 45/50\n",
            "59/59 [==============================] - 2s 34ms/step - loss: 0.1007 - val_loss: 0.0998\n",
            "Epoch 46/50\n",
            "59/59 [==============================] - 2s 34ms/step - loss: 0.1004 - val_loss: 0.0999\n",
            "Epoch 47/50\n",
            "59/59 [==============================] - 2s 34ms/step - loss: 0.1002 - val_loss: 0.0997\n",
            "Epoch 48/50\n",
            "59/59 [==============================] - 2s 34ms/step - loss: 0.1001 - val_loss: 0.0994\n",
            "Epoch 49/50\n",
            "59/59 [==============================] - 2s 34ms/step - loss: 0.1000 - val_loss: 0.0992\n",
            "Epoch 50/50\n",
            "59/59 [==============================] - 2s 34ms/step - loss: 0.0999 - val_loss: 0.0992\n"
          ],
          "name": "stdout"
        },
        {
          "output_type": "execute_result",
          "data": {
            "text/plain": [
              "<tensorflow.python.keras.callbacks.History at 0x7f6ca0530fd0>"
            ]
          },
          "metadata": {
            "tags": []
          },
          "execution_count": 13
        }
      ]
    },
    {
      "cell_type": "markdown",
      "metadata": {
        "id": "DeKaqs4Es0WK",
        "colab_type": "text"
      },
      "source": [
        "결과를 살펴보자. 총 50 epoch을 학습시켜본 결과 loss 값은 대략 0.10 정도로 나타난다. 3번 실습과 비슷한 수치이다. 위 학습된 모델에 test 데이터를 넣고 이를 시각화한다."
      ]
    },
    {
      "cell_type": "code",
      "metadata": {
        "id": "EeUJ-ES2CQnl",
        "colab_type": "code",
        "colab": {}
      },
      "source": [
        "decoded_imgs = autoencoder.predict(x_test_noisy)"
      ],
      "execution_count": null,
      "outputs": []
    },
    {
      "cell_type": "code",
      "metadata": {
        "id": "rQ9lIc2DCytb",
        "colab_type": "code",
        "colab": {
          "base_uri": "https://localhost:8080/",
          "height": 129
        },
        "outputId": "2f4fb401-1970-4ffa-eba0-105cb05c74e7"
      },
      "source": [
        "n = 10\n",
        "plt.figure(figsize=(20, 2))\n",
        "for i in range(1,n+1):\n",
        "    ax = plt.subplot(1, n, i)\n",
        "    plt.imshow(decoded_imgs[i].reshape(28, 28))\n",
        "    plt.gray()\n",
        "    ax.get_xaxis().set_visible(False)\n",
        "    ax.get_yaxis().set_visible(False)\n",
        "\n",
        "plt.show()"
      ],
      "execution_count": null,
      "outputs": [
        {
          "output_type": "display_data",
          "data": {
            "image/png": "[encoded data removed]",
            "text/plain": [
              "<Figure size 1440x144 with 10 Axes>"
            ]
          },
          "metadata": {
            "tags": [],
            "needs_background": "light"
          }
        }
      ]
    },
    {
      "cell_type": "markdown",
      "metadata": {
        "id": "k9fM254ys23B",
        "colab_type": "text"
      },
      "source": [
        "노이즈 데이터를 넣었을 때 모델을 학습시킨 후 다시 보면 확실히 여러 층의 convolutional autoencoder를 쌓은 덕분인지 노이즈가 확실히 많이 제거되는 것을 확인할 수 있다."
      ]
    },
    {
      "cell_type": "markdown",
      "metadata": {
        "id": "UDVC7aCks7VR",
        "colab_type": "text"
      },
      "source": [
        "# 에필로그..."
      ]
    },
    {
      "cell_type": "markdown",
      "metadata": {
        "id": "duGXQadts6b8",
        "colab_type": "text"
      },
      "source": [
        "이번 도전학기 수업과 실습을 통해 머신러닝과 딥러닝에 대해 정말 많은 것을 배우고 또 내 스스로도 많이 성장할 수 있었다. 이런 좋은 기회를 마련해주신 손영두 교수님과 학교에게 정말 감사드린다.\n",
        "\n",
        "할 수 있다는 믿음!\n",
        "\n",
        "내가 생각한 대로, 꿈꾸는 대로 이루어질 것이다.\n",
        "\n",
        "항상 겸손하고, 성실하게 노력하자.\n",
        "\n",
        "화이팅!\n",
        "\n",
        " - 2020.09. 대구에서 빛나는 미래를 꿈꾸며."
      ]
    }
  ]
}