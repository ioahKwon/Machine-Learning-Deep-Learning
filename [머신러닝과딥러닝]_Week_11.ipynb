{
  "nbformat": 4,
  "nbformat_minor": 0,
  "metadata": {
    "colab": {
      "name": "[머신러닝과딥러닝] Week_11.ipynb",
      "provenance": [],
      "collapsed_sections": [],
      "include_colab_link": true
    },
    "kernelspec": {
      "name": "python3",
      "display_name": "Python 3"
    }
  },
  "cells": [
    {
      "cell_type": "markdown",
      "metadata": {
        "id": "view-in-github",
        "colab_type": "text"
      },
      "source": [
        "<a href=\"https://colab.research.google.com/github/ioahKwon/Machine-Learning-Deep-Learning/blob/master/%5B%EB%A8%B8%EC%8B%A0%EB%9F%AC%EB%8B%9D%EA%B3%BC%EB%94%A5%EB%9F%AC%EB%8B%9D%5D_Week_11.ipynb\" target=\"_parent\"><img src=\"https://colab.research.google.com/assets/colab-badge.svg\" alt=\"Open In Colab\"/></a>"
      ]
    },
    {
      "cell_type": "markdown",
      "metadata": {
        "id": "oKETxdFzoFAg",
        "colab_type": "text"
      },
      "source": [
        "# **[머신러닝과딥러닝] 수업 정리 Week #11**\n",
        "\n",
        "### _2020.08._ SKKU Lecture Summary by IOAH\n",
        "\n",
        "\n",
        "---\n",
        "\n",
        "\n",
        "\n"
      ]
    },
    {
      "cell_type": "markdown",
      "metadata": {
        "id": "bhMSjZNfjqrU",
        "colab_type": "text"
      },
      "source": [
        "### 1. Dropout을 포함한 Deep Neural Network 설계\n",
        "\n",
        "(MLP를 이용한 MNIST DATASET 분류)\n"
      ]
    },
    {
      "cell_type": "markdown",
      "metadata": {
        "id": "TAztaXM7j_FC",
        "colab_type": "text"
      },
      "source": [
        "오늘 실습에서는 신경망의 크기를 변화시켜가며 overfitting 여부를 확인하고 dropout을 적용하여 overfitting을 해결해볼 것이다. 우선 전체적인 프로세스는 MNIST 데이터를 로드하고 이 데이터를 전처리 한 다음 모델을 생성하고 변수를 초기화한다. 그 후 주어진 Train data에 맞춰 모델을 학습시키고 test data를 통해 모델을 평가한다. 우선 필수적인 module을 import 해보도록 하자. 각각 데이터 로드, 모델 생성 및 초기화 그리고 데이터 처리에 대한 module 이다."
      ]
    },
    {
      "cell_type": "code",
      "metadata": {
        "id": "uUySa1xuBNOH",
        "colab_type": "code",
        "colab": {
          "base_uri": "https://localhost:8080/",
          "height": 35
        },
        "outputId": "c47261d9-c985-4c04-e828-ba0b7fff6e64"
      },
      "source": [
        "from keras.datasets import mnist\n",
        "from keras import models\n",
        "from keras import layers\n",
        "from keras.utils import to_categorical"
      ],
      "execution_count": null,
      "outputs": [
        {
          "output_type": "stream",
          "text": [
            "Using TensorFlow backend.\n"
          ],
          "name": "stderr"
        }
      ]
    },
    {
      "cell_type": "markdown",
      "metadata": {
        "id": "sH3s6hYUkBqC",
        "colab_type": "text"
      },
      "source": [
        "그 후 데이터를 로드해 주는데 MNIST 데이터는 0~9 사이의 숫자 데이터며 이미지 파일이다.\n",
        "\n",
        " 로드한 후 로드한 데이터를 사이즈 조절해주고 SCALE을 맞춰준다. 대부분 0~255의 Scale을 가지므로 255로 나눠준다. 그 후 y값인 labels 값을 to_categorical 함수를 통해 범주형 변수로 변경해준다."
      ]
    },
    {
      "cell_type": "code",
      "metadata": {
        "id": "sDhkv4P1BW0g",
        "colab_type": "code",
        "colab": {
          "base_uri": "https://localhost:8080/",
          "height": 53
        },
        "outputId": "3b7256cd-19ab-459a-e077-9e483d62edce"
      },
      "source": [
        "(train_images, train_labels), (test_images, test_labels) = mnist.load_data()"
      ],
      "execution_count": null,
      "outputs": [
        {
          "output_type": "stream",
          "text": [
            "Downloading data from https://s3.amazonaws.com/img-datasets/mnist.npz\n",
            "11493376/11490434 [==============================] - 0s 0us/step\n"
          ],
          "name": "stdout"
        }
      ]
    },
    {
      "cell_type": "code",
      "metadata": {
        "id": "qmxa-u7_BfYW",
        "colab_type": "code",
        "colab": {}
      },
      "source": [
        "train_images = train_images.reshape((60000,28*28))\n",
        "train_images = train_images.astype('float32')/ 255\n",
        "test_images = test_images.reshape((10000,28*28))\n",
        "test_images = test_images.astype('float32')/ 255\n",
        "\n",
        "train_labels = to_categorical(train_labels)\n",
        "test_labels = to_categorical(test_labels)"
      ],
      "execution_count": null,
      "outputs": []
    },
    {
      "cell_type": "markdown",
      "metadata": {
        "id": "0SqZ-HsAkL1m",
        "colab_type": "text"
      },
      "source": [
        "다음은 모델을 생성하고 초기화하는 부분이다. 모델 구조를 sequential함수를 통해 선언해주고 Hidden layer의 output 노드 수는 512개로, activation function은 ‘relu’로, 그리고 마지막 output layer의 노드 수는 10으로 고정해준다. 여기서 10으로 고정해주는 이유는 MNIST 데이터가 0~9까지의 숫자니까 Class가 10개이기 때문이다. 그 다음 모델의 optimizer를 rmsprop으로, loss function은 categorical_crossentropy로 주며 평가방식은 accuracy로 하기로 한다. Model.summary()를 통해 본 모델의 구조는 아래와 같다."
      ]
    },
    {
      "cell_type": "code",
      "metadata": {
        "id": "GjRM99ekBxfC",
        "colab_type": "code",
        "colab": {}
      },
      "source": [
        "model = models.Sequential()\n",
        "model.add(layers.Dense(512,activation='relu', input_shape=(28*28,)))\n",
        "model.add(layers.Dense(10,activation='softmax'))\n",
        "model.compile(optimizer='rmsprop',\n",
        "              loss='categorical_crossentropy',\n",
        "              metrics=['accuracy'])"
      ],
      "execution_count": null,
      "outputs": []
    },
    {
      "cell_type": "code",
      "metadata": {
        "id": "spJK7HQKCVdI",
        "colab_type": "code",
        "colab": {
          "base_uri": "https://localhost:8080/",
          "height": 233
        },
        "outputId": "7db4b004-c402-43bc-b6a2-94e50a945782"
      },
      "source": [
        "model.summary()"
      ],
      "execution_count": null,
      "outputs": [
        {
          "output_type": "stream",
          "text": [
            "Model: \"sequential_1\"\n",
            "_________________________________________________________________\n",
            "Layer (type)                 Output Shape              Param #   \n",
            "=================================================================\n",
            "dense_1 (Dense)              (None, 512)               401920    \n",
            "_________________________________________________________________\n",
            "dense_2 (Dense)              (None, 10)                5130      \n",
            "=================================================================\n",
            "Total params: 407,050\n",
            "Trainable params: 407,050\n",
            "Non-trainable params: 0\n",
            "_________________________________________________________________\n"
          ],
          "name": "stdout"
        }
      ]
    },
    {
      "cell_type": "markdown",
      "metadata": {
        "id": "9VxfnOEykSOD",
        "colab_type": "text"
      },
      "source": [
        "epoch을 10을 주고 batch_size는 128로 지정하여 모델을 학습시킨다. 밑의 결과를 보면 train set에 대해서는 accuracy가 무려 92.22%인 것을 확인할 수 있다. 또한 학습이 진행됨에 따라 loss는 줄어들고 accuracy는 증가하는 것을 볼 수 있다. 그리고 test set에 대해선 accuracy가 약 92.8%인 것을 확인할 수 있다. "
      ]
    },
    {
      "cell_type": "code",
      "metadata": {
        "id": "HGtb8Jm2CYrF",
        "colab_type": "code",
        "colab": {
          "base_uri": "https://localhost:8080/",
          "height": 395
        },
        "outputId": "c1045a62-e5d8-4c0e-8529-ce6635a29b7a"
      },
      "source": [
        "##epoch수 변경으로 모델의 학습을 조절\n",
        "model.fit(train_images, train_labels, epochs=10, batch_size=128)\n",
        "\n"
      ],
      "execution_count": null,
      "outputs": [
        {
          "output_type": "stream",
          "text": [
            "Epoch 1/10\n",
            "60000/60000 [==============================] - 5s 79us/step - loss: 1.4985 - accuracy: 0.6584\n",
            "Epoch 2/10\n",
            "60000/60000 [==============================] - 4s 74us/step - loss: 0.6030 - accuracy: 0.8506\n",
            "Epoch 3/10\n",
            "60000/60000 [==============================] - 4s 75us/step - loss: 0.4189 - accuracy: 0.8871\n",
            "Epoch 4/10\n",
            "60000/60000 [==============================] - 5s 75us/step - loss: 0.3573 - accuracy: 0.8999\n",
            "Epoch 5/10\n",
            "60000/60000 [==============================] - 5s 75us/step - loss: 0.3266 - accuracy: 0.9067\n",
            "Epoch 6/10\n",
            "60000/60000 [==============================] - 5s 78us/step - loss: 0.3065 - accuracy: 0.9118\n",
            "Epoch 7/10\n",
            "60000/60000 [==============================] - 5s 76us/step - loss: 0.2918 - accuracy: 0.9157\n",
            "Epoch 8/10\n",
            "60000/60000 [==============================] - 4s 74us/step - loss: 0.2795 - accuracy: 0.9193\n",
            "Epoch 9/10\n",
            "60000/60000 [==============================] - 4s 74us/step - loss: 0.2683 - accuracy: 0.9222\n",
            "Epoch 10/10\n",
            "60000/60000 [==============================] - 5s 76us/step - loss: 0.2575 - accuracy: 0.9252\n"
          ],
          "name": "stdout"
        },
        {
          "output_type": "execute_result",
          "data": {
            "text/plain": [
              "<keras.callbacks.callbacks.History at 0x7f4548cf9c88>"
            ]
          },
          "metadata": {
            "tags": []
          },
          "execution_count": 10
        }
      ]
    },
    {
      "cell_type": "code",
      "metadata": {
        "id": "0peP-G49Ckbo",
        "colab_type": "code",
        "colab": {
          "base_uri": "https://localhost:8080/",
          "height": 53
        },
        "outputId": "7310baad-b33c-44a3-9fd2-cf2396c606dd"
      },
      "source": [
        "test_loss, test_acc = model.evaluate(test_images, test_labels)\n",
        "test_acc"
      ],
      "execution_count": null,
      "outputs": [
        {
          "output_type": "stream",
          "text": [
            "10000/10000 [==============================] - 0s 47us/step\n"
          ],
          "name": "stdout"
        },
        {
          "output_type": "execute_result",
          "data": {
            "text/plain": [
              "0.9279000163078308"
            ]
          },
          "metadata": {
            "tags": []
          },
          "execution_count": 12
        }
      ]
    },
    {
      "cell_type": "markdown",
      "metadata": {
        "id": "4jJPejDFkj_F",
        "colab_type": "text"
      },
      "source": [
        "이번에는 overfitting을 막기 위한 방법 중 하나인 Dropout을 적용시켜보자. 모델에 dropout layer를 추가해주고 dropout rate는 0.2로 설정해준다. 즉, 랜덤으로 20%만큼 weight를 제외하고 학습을 돌린다는 것이다. 결과는 아래와 같다."
      ]
    },
    {
      "cell_type": "code",
      "metadata": {
        "id": "Mn4xe-u5CqoV",
        "colab_type": "code",
        "colab": {}
      },
      "source": [
        "model2 = models.Sequential()\n",
        "model2.add(layers.Dense(512,activation='relu', input_shape=(28*28,)))\n",
        "model2.add(layers.Dropout(0.2,noise_shape=None, seed = None))\n",
        "model2.add(layers.Dense(10,activation='softmax'))\n",
        "model2.compile(optimizer='rmsprop',\n",
        "              loss='categorical_crossentropy',\n",
        "              metrics=['accuracy'])"
      ],
      "execution_count": null,
      "outputs": []
    },
    {
      "cell_type": "code",
      "metadata": {
        "id": "bjj4JpOGDrUg",
        "colab_type": "code",
        "colab": {
          "base_uri": "https://localhost:8080/",
          "height": 395
        },
        "outputId": "550a0d91-d191-4dbc-e975-c1a835bd41cb"
      },
      "source": [
        "model2.fit(train_images, train_labels, epochs=10, batch_size=128)"
      ],
      "execution_count": null,
      "outputs": [
        {
          "output_type": "stream",
          "text": [
            "Epoch 1/10\n",
            "60000/60000 [==============================] - 5s 84us/step - loss: 1.5129 - accuracy: 0.6470\n",
            "Epoch 2/10\n",
            "60000/60000 [==============================] - 5s 83us/step - loss: 0.6214 - accuracy: 0.8427\n",
            "Epoch 3/10\n",
            "60000/60000 [==============================] - 5s 84us/step - loss: 0.4348 - accuracy: 0.8803\n",
            "Epoch 4/10\n",
            "60000/60000 [==============================] - 5s 81us/step - loss: 0.3706 - accuracy: 0.8953\n",
            "Epoch 5/10\n",
            "60000/60000 [==============================] - 5s 86us/step - loss: 0.3373 - accuracy: 0.9031\n",
            "Epoch 6/10\n",
            "60000/60000 [==============================] - 5s 83us/step - loss: 0.3147 - accuracy: 0.9088\n",
            "Epoch 7/10\n",
            "60000/60000 [==============================] - 5s 86us/step - loss: 0.2968 - accuracy: 0.9133\n",
            "Epoch 8/10\n",
            "60000/60000 [==============================] - 5s 84us/step - loss: 0.2808 - accuracy: 0.9176\n",
            "Epoch 9/10\n",
            "60000/60000 [==============================] - 5s 81us/step - loss: 0.2684 - accuracy: 0.9221\n",
            "Epoch 10/10\n",
            "60000/60000 [==============================] - 5s 82us/step - loss: 0.2560 - accuracy: 0.9255\n"
          ],
          "name": "stdout"
        },
        {
          "output_type": "execute_result",
          "data": {
            "text/plain": [
              "<keras.callbacks.callbacks.History at 0x7f44fd5fc908>"
            ]
          },
          "metadata": {
            "tags": []
          },
          "execution_count": 14
        }
      ]
    },
    {
      "cell_type": "code",
      "metadata": {
        "id": "TgNs2MIEDvnL",
        "colab_type": "code",
        "colab": {
          "base_uri": "https://localhost:8080/",
          "height": 53
        },
        "outputId": "15a75059-ad75-425f-85b2-3dee1e0fad40"
      },
      "source": [
        "test_loss, test_acc = model2.evaluate(test_images, test_labels)\n",
        "test_acc"
      ],
      "execution_count": null,
      "outputs": [
        {
          "output_type": "stream",
          "text": [
            "10000/10000 [==============================] - 0s 46us/step\n"
          ],
          "name": "stdout"
        },
        {
          "output_type": "execute_result",
          "data": {
            "text/plain": [
              "0.9290000200271606"
            ]
          },
          "metadata": {
            "tags": []
          },
          "execution_count": 15
        }
      ]
    },
    {
      "cell_type": "markdown",
      "metadata": {
        "id": "Ze22IDwJk3Rm",
        "colab_type": "text"
      },
      "source": [
        "원래 의도대로라면 dropout 추가 후 train data의 accuracy는 줄어들고 test data의 accuracy는 증가해야 하지만 현재 상황에선 dropout 없는 모델과 dropout을 추가한 모델 둘은 거의 비슷한 성능을 보이는 것으로 보인다. (사실상 둘이 거의 비슷하다고 봐도 뭐...ㅋㅋㅋㅋㅋ)\n",
        "\n",
        "그래도 보면 그나마 dropout layer가 있을 때가 아~~주 소폭 성능이 향상된 것을 볼 수 있다.\n",
        "\n",
        "즉, drop out layer의 추가 후 overfitting이 조금 해소되어 더 좋은 성능을 보인다는 것을 확인할 수 있다."
      ]
    }
  ]
}