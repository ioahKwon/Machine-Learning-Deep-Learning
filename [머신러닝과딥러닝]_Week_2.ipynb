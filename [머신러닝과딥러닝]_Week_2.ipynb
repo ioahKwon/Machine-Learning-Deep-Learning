{
  "nbformat": 4,
  "nbformat_minor": 0,
  "metadata": {
    "kernelspec": {
      "display_name": "Python [conda env:machinelearning] *",
      "language": "python",
      "name": "conda-env-machinelearning-py"
    },
    "language_info": {
      "codemirror_mode": {
        "name": "ipython",
        "version": 3
      },
      "file_extension": ".py",
      "mimetype": "text/x-python",
      "name": "python",
      "nbconvert_exporter": "python",
      "pygments_lexer": "ipython3",
      "version": "3.7.7"
    },
    "colab": {
      "name": "[머신러닝과딥러닝] Week_2.ipynb",
      "provenance": [],
      "include_colab_link": true
    }
  },
  "cells": [
    {
      "cell_type": "markdown",
      "metadata": {
        "id": "view-in-github",
        "colab_type": "text"
      },
      "source": [
        "<a href=\"https://colab.research.google.com/github/ioahKwon/Machine-Learning-Deep-Learning/blob/master/%5B%EB%A8%B8%EC%8B%A0%EB%9F%AC%EB%8B%9D%EA%B3%BC%EB%94%A5%EB%9F%AC%EB%8B%9D%5D_Week_2.ipynb\" target=\"_parent\"><img src=\"https://colab.research.google.com/assets/colab-badge.svg\" alt=\"Open In Colab\"/></a>"
      ]
    },
    {
      "cell_type": "markdown",
      "metadata": {
        "id": "oKETxdFzoFAg",
        "colab_type": "text"
      },
      "source": [
        "# **[머신러닝과딥러닝] 수업 정리 Week #2**\n",
        "\n",
        "### _2020.08._ SKKU Lecture Summary by IOAH\n",
        "\n",
        "\n",
        "---\n",
        "\n",
        "\n",
        "\n"
      ]
    },
    {
      "cell_type": "markdown",
      "metadata": {
        "id": "Y5aUiIru4t88",
        "colab_type": "text"
      },
      "source": [
        "### 1. 간단한 1차 선형회귀모형"
      ]
    },
    {
      "cell_type": "code",
      "metadata": {
        "id": "p5zmrzBF4Ltb",
        "colab_type": "code",
        "colab": {}
      },
      "source": [
        "from sklearn.linear_model import LinearRegression\n",
        "import pandas as pd\n",
        "import numpy as np\n",
        "from matplotlib import pyplot as plt"
      ],
      "execution_count": 1,
      "outputs": []
    },
    {
      "cell_type": "code",
      "metadata": {
        "id": "9XDlODk44Ltz",
        "colab_type": "code",
        "colab": {
          "base_uri": "https://localhost:8080/",
          "height": 313
        },
        "outputId": "6cf7d856-7984-4a94-cb73-5147e0c4402b"
      },
      "source": [
        "reg = LinearRegression()\n",
        "\n",
        "#다른 샘플을 만들어 다양한 선형회귀식을 도출해볼 수 있다.\n",
        "Xsample=[[1],[2],[3],[4],[5]]\n",
        "Ysample=[[3],[5],[7],[9],[11]]\n",
        "\n",
        "plt.title('data points')\n",
        "plt.xlabel('x')\n",
        "plt.ylabel('y')\n",
        "plt.scatter(Xsample,Ysample)"
      ],
      "execution_count": 2,
      "outputs": [
        {
          "output_type": "execute_result",
          "data": {
            "text/plain": [
              "<matplotlib.collections.PathCollection at 0x7f613701cb00>"
            ]
          },
          "metadata": {
            "tags": []
          },
          "execution_count": 2
        },
        {
          "output_type": "display_data",
          "data": {
            "image/png": "[encoded data removed]",
            "text/plain": [
              "<Figure size 432x288 with 1 Axes>"
            ]
          },
          "metadata": {
            "tags": [],
            "needs_background": "light"
          }
        }
      ]
    },
    {
      "cell_type": "code",
      "metadata": {
        "id": "nEsjXBuc4LuJ",
        "colab_type": "code",
        "colab": {
          "base_uri": "https://localhost:8080/",
          "height": 88
        },
        "outputId": "35a90f61-8612-4292-d7e3-4c197e4c4853"
      },
      "source": [
        "Model=reg.fit(Xsample,Ysample)\n",
        "print(\"coef\")\n",
        "print(Model.coef_)\n",
        "print(\"intercept\")\n",
        "print(Model.intercept_)"
      ],
      "execution_count": 3,
      "outputs": [
        {
          "output_type": "stream",
          "text": [
            "coef\n",
            "[[2.]]\n",
            "intercept\n",
            "[1.]\n"
          ],
          "name": "stdout"
        }
      ]
    },
    {
      "cell_type": "markdown",
      "metadata": {
        "id": "Pl6pNYg143eU",
        "colab_type": "text"
      },
      "source": [
        "> 간단한 1차 선형회귀모형을 만기 위해 입력(x)과 출력(y)의 관계가 'y=2x+1'이 되도록 데이터를 구성하고 선형회귀를 진행한 결과, 예상대로 좋은 예측을 한 것을 볼 수 있다.\n",
        "\n",
        "\n",
        "\n"
      ]
    },
    {
      "cell_type": "code",
      "metadata": {
        "id": "WoJSxZ974Lua",
        "colab_type": "code",
        "colab": {
          "base_uri": "https://localhost:8080/",
          "height": 35
        },
        "outputId": "9137b4b6-8001-4636-9d63-4edd36613420"
      },
      "source": [
        "Model.predict([[15]])"
      ],
      "execution_count": 4,
      "outputs": [
        {
          "output_type": "execute_result",
          "data": {
            "text/plain": [
              "array([[31.]])"
            ]
          },
          "metadata": {
            "tags": []
          },
          "execution_count": 4
        }
      ]
    },
    {
      "cell_type": "code",
      "metadata": {
        "id": "qLl51cVf4Lus",
        "colab_type": "code",
        "colab": {
          "base_uri": "https://localhost:8080/",
          "height": 313
        },
        "outputId": "e565f0b1-e94a-4bac-ff11-7ff591eca8ee"
      },
      "source": [
        "plt.title('Linear Regression sample')\n",
        "plt.xlabel('x')\n",
        "plt.ylabel('y')\n",
        "plt.scatter(Xsample,Ysample)\n",
        "plt.plot(Xsample,Model.coef_*Xsample + Model.intercept_)"
      ],
      "execution_count": 5,
      "outputs": [
        {
          "output_type": "execute_result",
          "data": {
            "text/plain": [
              "[<matplotlib.lines.Line2D at 0x7f6136afd2e8>]"
            ]
          },
          "metadata": {
            "tags": []
          },
          "execution_count": 5
        },
        {
          "output_type": "display_data",
          "data": {
            "image/png": "[encoded data removed]",
            "text/plain": [
              "<Figure size 432x288 with 1 Axes>"
            ]
          },
          "metadata": {
            "tags": [],
            "needs_background": "light"
          }
        }
      ]
    },
    {
      "cell_type": "code",
      "metadata": {
        "id": "q9GQK6dA4Lu6",
        "colab_type": "code",
        "colab": {
          "base_uri": "https://localhost:8080/",
          "height": 313
        },
        "outputId": "32af3061-4c3b-491f-a818-e7468989e61f"
      },
      "source": [
        "reg = LinearRegression()\n",
        "\n",
        "#다른 샘플을 만들어 다양한 선형회귀식을 도출해볼 수 있다.\n",
        "Xsample=[[21],[12],[3],[43],[25]]\n",
        "Ysample=[[31],[23],[12],[39],[11]]\n",
        "\n",
        "plt.title('data points')\n",
        "plt.xlabel('x')\n",
        "plt.ylabel('y')\n",
        "plt.scatter(Xsample,Ysample)"
      ],
      "execution_count": 6,
      "outputs": [
        {
          "output_type": "execute_result",
          "data": {
            "text/plain": [
              "<matplotlib.collections.PathCollection at 0x7f6136a8deb8>"
            ]
          },
          "metadata": {
            "tags": []
          },
          "execution_count": 6
        },
        {
          "output_type": "display_data",
          "data": {
            "image/png": "[encoded data removed]",
            "text/plain": [
              "<Figure size 432x288 with 1 Axes>"
            ]
          },
          "metadata": {
            "tags": [],
            "needs_background": "light"
          }
        }
      ]
    },
    {
      "cell_type": "code",
      "metadata": {
        "id": "vi82KPBQ5bUT",
        "colab_type": "code",
        "colab": {
          "base_uri": "https://localhost:8080/",
          "height": 88
        },
        "outputId": "ef584d16-9bb2-49f1-9638-4481671edcad"
      },
      "source": [
        "Model=reg.fit(Xsample,Ysample)\n",
        "print(\"coef\")\n",
        "print(Model.coef_)\n",
        "print(\"intercept\")\n",
        "print(Model.intercept_)"
      ],
      "execution_count": 7,
      "outputs": [
        {
          "output_type": "stream",
          "text": [
            "coef\n",
            "[[0.55503979]]\n",
            "intercept\n",
            "[11.65517241]\n"
          ],
          "name": "stdout"
        }
      ]
    },
    {
      "cell_type": "code",
      "metadata": {
        "id": "LpB3egLP5e0K",
        "colab_type": "code",
        "colab": {
          "base_uri": "https://localhost:8080/",
          "height": 35
        },
        "outputId": "fdab9973-4562-4247-ae20-e9d9288e5236"
      },
      "source": [
        "Model.predict([[15]])"
      ],
      "execution_count": 8,
      "outputs": [
        {
          "output_type": "execute_result",
          "data": {
            "text/plain": [
              "array([[19.98076923]])"
            ]
          },
          "metadata": {
            "tags": []
          },
          "execution_count": 8
        }
      ]
    },
    {
      "cell_type": "code",
      "metadata": {
        "id": "_fSPEOYL5hO4",
        "colab_type": "code",
        "colab": {
          "base_uri": "https://localhost:8080/",
          "height": 313
        },
        "outputId": "668535f6-8390-4e99-d8ee-8c5f19b03a63"
      },
      "source": [
        "plt.title('Linear Regression sample')\n",
        "plt.xlabel('x')\n",
        "plt.ylabel('y')\n",
        "plt.scatter(Xsample,Ysample)\n",
        "plt.plot(Xsample,Model.coef_*Xsample + Model.intercept_)"
      ],
      "execution_count": 9,
      "outputs": [
        {
          "output_type": "execute_result",
          "data": {
            "text/plain": [
              "[<matplotlib.lines.Line2D at 0x7f61369b1eb8>]"
            ]
          },
          "metadata": {
            "tags": []
          },
          "execution_count": 9
        },
        {
          "output_type": "display_data",
          "data": {
            "image/png": "[encoded data removed]",
            "text/plain": [
              "<Figure size 432x288 with 1 Axes>"
            ]
          },
          "metadata": {
            "tags": [],
            "needs_background": "light"
          }
        }
      ]
    },
    {
      "cell_type": "markdown",
      "metadata": {
        "id": "t1_Oqa455nGs",
        "colab_type": "text"
      },
      "source": [
        "여기서 ‘y=2x+1’ 말고도 다른 식이 나오도록 x, y값을 임의로 바꿔서 다시 시행해본 결과 예상대로 좋은 예측을 한 것을 볼 수 있으며 입출력 관계도 전 실험과는 다르게 나온 것을 확인할 수 있었다. "
      ]
    },
    {
      "cell_type": "markdown",
      "metadata": {
        "id": "ndBThWWJ5r_M",
        "colab_type": "text"
      },
      "source": [
        "### 2. California Housing 데이터셋에 대한 선형회귀모형"
      ]
    },
    {
      "cell_type": "code",
      "metadata": {
        "id": "4Hlf_wcn50wz",
        "colab_type": "code",
        "colab": {}
      },
      "source": [
        "from sklearn.linear_model import LinearRegression\n",
        "import pandas as pd\n",
        "import numpy as np\n",
        "from matplotlib import pyplot as plt"
      ],
      "execution_count": null,
      "outputs": []
    },
    {
      "cell_type": "code",
      "metadata": {
        "id": "4eSRDoF050xG",
        "colab_type": "code",
        "colab": {},
        "outputId": "6b27cbec-a6d7-45b8-ed24-3ae5a3be72d9"
      },
      "source": [
        "from sklearn.datasets import fetch_california_housing\n",
        "\n",
        "california = fetch_california_housing()\n",
        "X=california.data\n",
        "DF=pd.DataFrame(X,columns=california.feature_names)\n",
        "Y=california.target\n",
        "print(DF)"
      ],
      "execution_count": null,
      "outputs": [
        {
          "output_type": "stream",
          "text": [
            "       MedInc  HouseAge  AveRooms  AveBedrms  Population  AveOccup  Latitude  \\\n",
            "0      8.3252      41.0  6.984127   1.023810       322.0  2.555556     37.88   \n",
            "1      8.3014      21.0  6.238137   0.971880      2401.0  2.109842     37.86   \n",
            "2      7.2574      52.0  8.288136   1.073446       496.0  2.802260     37.85   \n",
            "3      5.6431      52.0  5.817352   1.073059       558.0  2.547945     37.85   \n",
            "4      3.8462      52.0  6.281853   1.081081       565.0  2.181467     37.85   \n",
            "...       ...       ...       ...        ...         ...       ...       ...   \n",
            "20635  1.5603      25.0  5.045455   1.133333       845.0  2.560606     39.48   \n",
            "20636  2.5568      18.0  6.114035   1.315789       356.0  3.122807     39.49   \n",
            "20637  1.7000      17.0  5.205543   1.120092      1007.0  2.325635     39.43   \n",
            "20638  1.8672      18.0  5.329513   1.171920       741.0  2.123209     39.43   \n",
            "20639  2.3886      16.0  5.254717   1.162264      1387.0  2.616981     39.37   \n",
            "\n",
            "       Longitude  \n",
            "0        -122.23  \n",
            "1        -122.22  \n",
            "2        -122.24  \n",
            "3        -122.25  \n",
            "4        -122.25  \n",
            "...          ...  \n",
            "20635    -121.09  \n",
            "20636    -121.21  \n",
            "20637    -121.22  \n",
            "20638    -121.32  \n",
            "20639    -121.24  \n",
            "\n",
            "[20640 rows x 8 columns]\n"
          ],
          "name": "stdout"
        }
      ]
    },
    {
      "cell_type": "code",
      "metadata": {
        "id": "-f2HF0Tj50xX",
        "colab_type": "code",
        "colab": {},
        "outputId": "cfe92678-c385-4ced-8399-7284c77ce7d5"
      },
      "source": [
        "i=3\n",
        "plt.title(california.feature_names[i]+' & ' + 'target')\n",
        "plt.xlabel(california.feature_names[i])\n",
        "plt.ylabel('target')\n",
        "plt.scatter(DF[california.feature_names[i]],Y)\n",
        "plt.legend()\n",
        "plt.show()"
      ],
      "execution_count": null,
      "outputs": [
        {
          "output_type": "stream",
          "text": [
            "No handles with labels found to put in legend.\n"
          ],
          "name": "stderr"
        },
        {
          "output_type": "display_data",
          "data": {
            "image/png": "[encoded data removed]",
            "text/plain": [
              "<Figure size 432x288 with 1 Axes>"
            ]
          },
          "metadata": {
            "tags": [],
            "needs_background": "light"
          }
        }
      ]
    },
    {
      "cell_type": "code",
      "metadata": {
        "id": "Njm-103J50xn",
        "colab_type": "code",
        "colab": {},
        "outputId": "4739fb46-6af0-44cf-870f-6d7e08d08449"
      },
      "source": [
        "reg = LinearRegression()\n",
        "Model=reg.fit(X,Y)\n",
        "print(\"coef\")\n",
        "print(Model.coef_)\n",
        "print(\"intercept\")\n",
        "print(Model.intercept_)"
      ],
      "execution_count": null,
      "outputs": [
        {
          "output_type": "stream",
          "text": [
            "coef\n",
            "[ 4.36693293e-01  9.43577803e-03 -1.07322041e-01  6.45065694e-01\n",
            " -3.97638942e-06 -3.78654265e-03 -4.21314378e-01 -4.34513755e-01]\n",
            "intercept\n",
            "-36.941920207184516\n"
          ],
          "name": "stdout"
        }
      ]
    },
    {
      "cell_type": "code",
      "metadata": {
        "id": "5woMYRTe50x1",
        "colab_type": "code",
        "colab": {},
        "outputId": "222cc222-832f-44ed-8095-77e55716e66a"
      },
      "source": [
        "i=0\n",
        "plt.title(california.feature_names[i]+' & ' + 'target')\n",
        "plt.xlabel(california.feature_names[i])\n",
        "plt.ylabel('target')\n",
        "plt.scatter(DF[california.feature_names[i]],Y)\n",
        "plt.plot(DF[california.feature_names[i]],Model.coef_[i]*DF[california.feature_names[i]],'r-')\n",
        "plt.legend()\n",
        "plt.show()"
      ],
      "execution_count": null,
      "outputs": [
        {
          "output_type": "stream",
          "text": [
            "No handles with labels found to put in legend.\n"
          ],
          "name": "stderr"
        },
        {
          "output_type": "display_data",
          "data": {
            "image/png": "[encoded data removed]",
            "text/plain": [
              "<Figure size 432x288 with 1 Axes>"
            ]
          },
          "metadata": {
            "tags": [],
            "needs_background": "light"
          }
        }
      ]
    },
    {
      "cell_type": "code",
      "metadata": {
        "id": "61BGTO6_50yB",
        "colab_type": "code",
        "colab": {},
        "outputId": "70f139c8-44e4-411b-ff94-b80ed53556fc"
      },
      "source": [
        "DF.mean()"
      ],
      "execution_count": null,
      "outputs": [
        {
          "output_type": "execute_result",
          "data": {
            "text/plain": [
              "MedInc           3.870671\n",
              "HouseAge        28.639486\n",
              "AveRooms         5.429000\n",
              "AveBedrms        1.096675\n",
              "Population    1425.476744\n",
              "AveOccup         3.070655\n",
              "Latitude        35.631861\n",
              "Longitude     -119.569704\n",
              "dtype: float64"
            ]
          },
          "metadata": {
            "tags": []
          },
          "execution_count": 6
        }
      ]
    },
    {
      "cell_type": "code",
      "metadata": {
        "id": "-HDRFgRb50yN",
        "colab_type": "code",
        "colab": {},
        "outputId": "f7bbea64-e4e7-40e7-edc7-f73400f8486a"
      },
      "source": [
        "Model.predict([DF.mean()])"
      ],
      "execution_count": null,
      "outputs": [
        {
          "output_type": "execute_result",
          "data": {
            "text/plain": [
              "array([2.06855817])"
            ]
          },
          "metadata": {
            "tags": []
          },
          "execution_count": 7
        }
      ]
    },
    {
      "cell_type": "markdown",
      "metadata": {
        "id": "oy3ddQIS5_zj",
        "colab_type": "text"
      },
      "source": [
        "다양한 feature를 가진 데이터로 선형회귀방정식을 도출하기 위해 캘리포니아 하우징 데이터셋을 사용하여 선형회귀분석을 해보았습니다. \n",
        "\n",
        "이 데이터는 특징 데이터에 MedInc, HouseAge, AveRoom 등 다양한 feature로 구성되어 있습니다. \n",
        "\n",
        "타겟 데이터를 캘리포니아 내 주택 가격으로 놔두고 각 feature와 타겟 값 사이의 관계를 시각화해서 학습시키고 결과를 확인해본 결과 좋은 선형회귀모형을 보였음을 확인할 수 있습니다.\n",
        "\n",
        " 각 변수의 평균 값을 구하고 그 평균값을 토대로 예측한 집값 또한 잘 구해졌음을 알 수 있습니다."
      ]
    }
  ]
}