{
  "nbformat": 4,
  "nbformat_minor": 0,
  "metadata": {
    "kernelspec": {
      "display_name": "machinelearning",
      "language": "python",
      "name": "machinelearning"
    },
    "language_info": {
      "codemirror_mode": {
        "name": "ipython",
        "version": 3
      },
      "file_extension": ".py",
      "mimetype": "text/x-python",
      "name": "python",
      "nbconvert_exporter": "python",
      "pygments_lexer": "ipython3",
      "version": "3.7.7"
    },
    "colab": {
      "name": "[머신러닝과딥러닝] Week_4.ipynb",
      "provenance": [],
      "include_colab_link": true
    }
  },
  "cells": [
    {
      "cell_type": "markdown",
      "metadata": {
        "id": "view-in-github",
        "colab_type": "text"
      },
      "source": [
        "<a href=\"https://colab.research.google.com/github/ioahKwon/Machine-Learning-Deep-Learning/blob/master/%5B%EB%A8%B8%EC%8B%A0%EB%9F%AC%EB%8B%9D%EA%B3%BC%EB%94%A5%EB%9F%AC%EB%8B%9D%5D_Week_4.ipynb\" target=\"_parent\"><img src=\"https://colab.research.google.com/assets/colab-badge.svg\" alt=\"Open In Colab\"/></a>"
      ]
    },
    {
      "cell_type": "markdown",
      "metadata": {
        "id": "oKETxdFzoFAg",
        "colab_type": "text"
      },
      "source": [
        "# **[머신러닝과딥러닝] 수업 정리 Week #4**\n",
        "\n",
        "### _2020.08._ SKKU Lecture Summary by IOAH\n",
        "\n",
        "\n",
        "---\n",
        "\n",
        "\n",
        "\n"
      ]
    },
    {
      "cell_type": "markdown",
      "metadata": {
        "id": "iavDdY02Abac",
        "colab_type": "text"
      },
      "source": [
        "### 1. Titanic dataset에 대하여 데이터 탐색, 시각화 및 전처리"
      ]
    },
    {
      "cell_type": "markdown",
      "metadata": {
        "id": "i7-VNV7-Ahgu",
        "colab_type": "text"
      },
      "source": [
        "Titanic dataset에 대해 데이터 탐색 및 시각화, 전처리를 하기 위해서 캐글에서 Titanic dataset을 다운받는다. 우리는 모든 feature를 쓰지 않을 것이기 때문에 train set을 전처리한 후에 해당 데이터만을 가지고 train set과 validation set으로 나누어 로지스틱 회귀 모형의 성능을 평가할 것이다. 데이터를 받고 데이터의 모양과 feature 정보를 조회하면 다음과 같다."
      ]
    },
    {
      "cell_type": "code",
      "metadata": {
        "id": "74xHP2Ls_7LE",
        "colab_type": "code",
        "colab": {}
      },
      "source": [
        "import numpy as np\n",
        "import pandas as pd\n",
        "import matplotlib.pyplot as plt\n",
        "import seaborn as sns\n",
        "import sklearn\n",
        "from sklearn.metrics import *\n",
        "from pandas import DataFrame, Series\n",
        "\n",
        "plt.style.use('seaborn')\n",
        "sns.set(font_scale=2.5) \n"
      ],
      "execution_count": null,
      "outputs": []
    },
    {
      "cell_type": "code",
      "metadata": {
        "id": "7fmLLu7F_7LS",
        "colab_type": "code",
        "colab": {}
      },
      "source": [
        "#캐글사이트(https://www.kaggle.com/c/titanic/data)에서 데이터 파일을 다운로드 받은 경로에 맞게 설정하여 데이터 로드.\n",
        "df_train = pd.read_csv('/home/kwnam/다운로드/titanic/train.csv')\n",
        "df_test = pd.read_csv('/home/kwnam/다운로드/titanic/test.csv')"
      ],
      "execution_count": null,
      "outputs": []
    },
    {
      "cell_type": "code",
      "metadata": {
        "id": "rM9HRCth_7LZ",
        "colab_type": "code",
        "colab": {},
        "outputId": "e9be28ae-bcf3-4812-d922-c406b2cf8acf"
      },
      "source": [
        "#학습데이터, 테스트데이터의 차원 조회 (테스트데이터에는 'survived' 칼럼이 없음)\n",
        "df_train.shape, df_test.shape"
      ],
      "execution_count": null,
      "outputs": [
        {
          "output_type": "execute_result",
          "data": {
            "text/plain": [
              "((891, 12), (418, 11))"
            ]
          },
          "metadata": {
            "tags": []
          },
          "execution_count": 3
        }
      ]
    },
    {
      "cell_type": "code",
      "metadata": {
        "id": "xU0WRorH_7Ll",
        "colab_type": "code",
        "colab": {},
        "outputId": "23e07ba0-5a19-4930-ca22-011edb3d18c5"
      },
      "source": [
        "columns=df_train.columns\n",
        "columns"
      ],
      "execution_count": null,
      "outputs": [
        {
          "output_type": "execute_result",
          "data": {
            "text/plain": [
              "Index(['PassengerId', 'Survived', 'Pclass', 'Name', 'Sex', 'Age', 'SibSp',\n",
              "       'Parch', 'Ticket', 'Fare', 'Cabin', 'Embarked'],\n",
              "      dtype='object')"
            ]
          },
          "metadata": {
            "tags": []
          },
          "execution_count": 4
        }
      ]
    },
    {
      "cell_type": "code",
      "metadata": {
        "id": "9meCMEkG_7Lp",
        "colab_type": "code",
        "colab": {},
        "outputId": "d9885ffc-6543-46a0-ede2-85a4a9782a59"
      },
      "source": [
        "df_train.head()"
      ],
      "execution_count": null,
      "outputs": [
        {
          "output_type": "execute_result",
          "data": {
            "text/html": [
              "<div>\n",
              "<style scoped>\n",
              "    .dataframe tbody tr th:only-of-type {\n",
              "        vertical-align: middle;\n",
              "    }\n",
              "\n",
              "    .dataframe tbody tr th {\n",
              "        vertical-align: top;\n",
              "    }\n",
              "\n",
              "    .dataframe thead th {\n",
              "        text-align: right;\n",
              "    }\n",
              "</style>\n",
              "<table border=\"1\" class=\"dataframe\">\n",
              "  <thead>\n",
              "    <tr style=\"text-align: right;\">\n",
              "      <th></th>\n",
              "      <th>PassengerId</th>\n",
              "      <th>Survived</th>\n",
              "      <th>Pclass</th>\n",
              "      <th>Name</th>\n",
              "      <th>Sex</th>\n",
              "      <th>Age</th>\n",
              "      <th>SibSp</th>\n",
              "      <th>Parch</th>\n",
              "      <th>Ticket</th>\n",
              "      <th>Fare</th>\n",
              "      <th>Cabin</th>\n",
              "      <th>Embarked</th>\n",
              "    </tr>\n",
              "  </thead>\n",
              "  <tbody>\n",
              "    <tr>\n",
              "      <th>0</th>\n",
              "      <td>1</td>\n",
              "      <td>0</td>\n",
              "      <td>3</td>\n",
              "      <td>Braund, Mr. Owen Harris</td>\n",
              "      <td>male</td>\n",
              "      <td>22.0</td>\n",
              "      <td>1</td>\n",
              "      <td>0</td>\n",
              "      <td>A/5 21171</td>\n",
              "      <td>7.2500</td>\n",
              "      <td>NaN</td>\n",
              "      <td>S</td>\n",
              "    </tr>\n",
              "    <tr>\n",
              "      <th>1</th>\n",
              "      <td>2</td>\n",
              "      <td>1</td>\n",
              "      <td>1</td>\n",
              "      <td>Cumings, Mrs. John Bradley (Florence Briggs Th...</td>\n",
              "      <td>female</td>\n",
              "      <td>38.0</td>\n",
              "      <td>1</td>\n",
              "      <td>0</td>\n",
              "      <td>PC 17599</td>\n",
              "      <td>71.2833</td>\n",
              "      <td>C85</td>\n",
              "      <td>C</td>\n",
              "    </tr>\n",
              "    <tr>\n",
              "      <th>2</th>\n",
              "      <td>3</td>\n",
              "      <td>1</td>\n",
              "      <td>3</td>\n",
              "      <td>Heikkinen, Miss. Laina</td>\n",
              "      <td>female</td>\n",
              "      <td>26.0</td>\n",
              "      <td>0</td>\n",
              "      <td>0</td>\n",
              "      <td>STON/O2. 3101282</td>\n",
              "      <td>7.9250</td>\n",
              "      <td>NaN</td>\n",
              "      <td>S</td>\n",
              "    </tr>\n",
              "    <tr>\n",
              "      <th>3</th>\n",
              "      <td>4</td>\n",
              "      <td>1</td>\n",
              "      <td>1</td>\n",
              "      <td>Futrelle, Mrs. Jacques Heath (Lily May Peel)</td>\n",
              "      <td>female</td>\n",
              "      <td>35.0</td>\n",
              "      <td>1</td>\n",
              "      <td>0</td>\n",
              "      <td>113803</td>\n",
              "      <td>53.1000</td>\n",
              "      <td>C123</td>\n",
              "      <td>S</td>\n",
              "    </tr>\n",
              "    <tr>\n",
              "      <th>4</th>\n",
              "      <td>5</td>\n",
              "      <td>0</td>\n",
              "      <td>3</td>\n",
              "      <td>Allen, Mr. William Henry</td>\n",
              "      <td>male</td>\n",
              "      <td>35.0</td>\n",
              "      <td>0</td>\n",
              "      <td>0</td>\n",
              "      <td>373450</td>\n",
              "      <td>8.0500</td>\n",
              "      <td>NaN</td>\n",
              "      <td>S</td>\n",
              "    </tr>\n",
              "  </tbody>\n",
              "</table>\n",
              "</div>"
            ],
            "text/plain": [
              "   PassengerId  Survived  Pclass  \\\n",
              "0            1         0       3   \n",
              "1            2         1       1   \n",
              "2            3         1       3   \n",
              "3            4         1       1   \n",
              "4            5         0       3   \n",
              "\n",
              "                                                Name     Sex   Age  SibSp  \\\n",
              "0                            Braund, Mr. Owen Harris    male  22.0      1   \n",
              "1  Cumings, Mrs. John Bradley (Florence Briggs Th...  female  38.0      1   \n",
              "2                             Heikkinen, Miss. Laina  female  26.0      0   \n",
              "3       Futrelle, Mrs. Jacques Heath (Lily May Peel)  female  35.0      1   \n",
              "4                           Allen, Mr. William Henry    male  35.0      0   \n",
              "\n",
              "   Parch            Ticket     Fare Cabin Embarked  \n",
              "0      0         A/5 21171   7.2500   NaN        S  \n",
              "1      0          PC 17599  71.2833   C85        C  \n",
              "2      0  STON/O2. 3101282   7.9250   NaN        S  \n",
              "3      0            113803  53.1000  C123        S  \n",
              "4      0            373450   8.0500   NaN        S  "
            ]
          },
          "metadata": {
            "tags": []
          },
          "execution_count": 5
        }
      ]
    },
    {
      "cell_type": "code",
      "metadata": {
        "id": "F2q3pxrA_7L3",
        "colab_type": "code",
        "colab": {},
        "outputId": "a7fa5e69-687c-41c3-be56-e6665895de20"
      },
      "source": [
        "df_test.head()"
      ],
      "execution_count": null,
      "outputs": [
        {
          "output_type": "execute_result",
          "data": {
            "text/html": [
              "<div>\n",
              "<style scoped>\n",
              "    .dataframe tbody tr th:only-of-type {\n",
              "        vertical-align: middle;\n",
              "    }\n",
              "\n",
              "    .dataframe tbody tr th {\n",
              "        vertical-align: top;\n",
              "    }\n",
              "\n",
              "    .dataframe thead th {\n",
              "        text-align: right;\n",
              "    }\n",
              "</style>\n",
              "<table border=\"1\" class=\"dataframe\">\n",
              "  <thead>\n",
              "    <tr style=\"text-align: right;\">\n",
              "      <th></th>\n",
              "      <th>PassengerId</th>\n",
              "      <th>Pclass</th>\n",
              "      <th>Name</th>\n",
              "      <th>Sex</th>\n",
              "      <th>Age</th>\n",
              "      <th>SibSp</th>\n",
              "      <th>Parch</th>\n",
              "      <th>Ticket</th>\n",
              "      <th>Fare</th>\n",
              "      <th>Cabin</th>\n",
              "      <th>Embarked</th>\n",
              "    </tr>\n",
              "  </thead>\n",
              "  <tbody>\n",
              "    <tr>\n",
              "      <th>0</th>\n",
              "      <td>892</td>\n",
              "      <td>3</td>\n",
              "      <td>Kelly, Mr. James</td>\n",
              "      <td>male</td>\n",
              "      <td>34.5</td>\n",
              "      <td>0</td>\n",
              "      <td>0</td>\n",
              "      <td>330911</td>\n",
              "      <td>7.8292</td>\n",
              "      <td>NaN</td>\n",
              "      <td>Q</td>\n",
              "    </tr>\n",
              "    <tr>\n",
              "      <th>1</th>\n",
              "      <td>893</td>\n",
              "      <td>3</td>\n",
              "      <td>Wilkes, Mrs. James (Ellen Needs)</td>\n",
              "      <td>female</td>\n",
              "      <td>47.0</td>\n",
              "      <td>1</td>\n",
              "      <td>0</td>\n",
              "      <td>363272</td>\n",
              "      <td>7.0000</td>\n",
              "      <td>NaN</td>\n",
              "      <td>S</td>\n",
              "    </tr>\n",
              "    <tr>\n",
              "      <th>2</th>\n",
              "      <td>894</td>\n",
              "      <td>2</td>\n",
              "      <td>Myles, Mr. Thomas Francis</td>\n",
              "      <td>male</td>\n",
              "      <td>62.0</td>\n",
              "      <td>0</td>\n",
              "      <td>0</td>\n",
              "      <td>240276</td>\n",
              "      <td>9.6875</td>\n",
              "      <td>NaN</td>\n",
              "      <td>Q</td>\n",
              "    </tr>\n",
              "    <tr>\n",
              "      <th>3</th>\n",
              "      <td>895</td>\n",
              "      <td>3</td>\n",
              "      <td>Wirz, Mr. Albert</td>\n",
              "      <td>male</td>\n",
              "      <td>27.0</td>\n",
              "      <td>0</td>\n",
              "      <td>0</td>\n",
              "      <td>315154</td>\n",
              "      <td>8.6625</td>\n",
              "      <td>NaN</td>\n",
              "      <td>S</td>\n",
              "    </tr>\n",
              "    <tr>\n",
              "      <th>4</th>\n",
              "      <td>896</td>\n",
              "      <td>3</td>\n",
              "      <td>Hirvonen, Mrs. Alexander (Helga E Lindqvist)</td>\n",
              "      <td>female</td>\n",
              "      <td>22.0</td>\n",
              "      <td>1</td>\n",
              "      <td>1</td>\n",
              "      <td>3101298</td>\n",
              "      <td>12.2875</td>\n",
              "      <td>NaN</td>\n",
              "      <td>S</td>\n",
              "    </tr>\n",
              "  </tbody>\n",
              "</table>\n",
              "</div>"
            ],
            "text/plain": [
              "   PassengerId  Pclass                                          Name     Sex  \\\n",
              "0          892       3                              Kelly, Mr. James    male   \n",
              "1          893       3              Wilkes, Mrs. James (Ellen Needs)  female   \n",
              "2          894       2                     Myles, Mr. Thomas Francis    male   \n",
              "3          895       3                              Wirz, Mr. Albert    male   \n",
              "4          896       3  Hirvonen, Mrs. Alexander (Helga E Lindqvist)  female   \n",
              "\n",
              "    Age  SibSp  Parch   Ticket     Fare Cabin Embarked  \n",
              "0  34.5      0      0   330911   7.8292   NaN        Q  \n",
              "1  47.0      1      0   363272   7.0000   NaN        S  \n",
              "2  62.0      0      0   240276   9.6875   NaN        Q  \n",
              "3  27.0      0      0   315154   8.6625   NaN        S  \n",
              "4  22.0      1      1  3101298  12.2875   NaN        S  "
            ]
          },
          "metadata": {
            "tags": []
          },
          "execution_count": 6
        }
      ]
    },
    {
      "cell_type": "code",
      "metadata": {
        "id": "MwJco-aN_7MB",
        "colab_type": "code",
        "colab": {},
        "outputId": "9316aa53-d5fc-49a3-aa91-6ca37192e6e8"
      },
      "source": [
        "df_train.dtypes"
      ],
      "execution_count": null,
      "outputs": [
        {
          "output_type": "execute_result",
          "data": {
            "text/plain": [
              "PassengerId      int64\n",
              "Survived         int64\n",
              "Pclass           int64\n",
              "Name            object\n",
              "Sex             object\n",
              "Age            float64\n",
              "SibSp            int64\n",
              "Parch            int64\n",
              "Ticket          object\n",
              "Fare           float64\n",
              "Cabin           object\n",
              "Embarked        object\n",
              "dtype: object"
            ]
          },
          "metadata": {
            "tags": []
          },
          "execution_count": 7
        }
      ]
    },
    {
      "cell_type": "markdown",
      "metadata": {
        "id": "OmLL4gepAvIZ",
        "colab_type": "text"
      },
      "source": [
        "우리는 ‘Survived’의 클래스를 Target value(y)로 사용할 것이니 이를 지정해준 다음 Survived열을 시각화 한다."
      ]
    },
    {
      "cell_type": "code",
      "metadata": {
        "id": "PuH4HgqP_7MK",
        "colab_type": "code",
        "colab": {},
        "outputId": "a053e520-6a52-4feb-d3bb-93c0ddc136ce"
      },
      "source": [
        "df_train['Survived'].value_counts() #target value로 사용할 컬럼인 'Survived'의 클래스 별 데이터 수"
      ],
      "execution_count": null,
      "outputs": [
        {
          "output_type": "execute_result",
          "data": {
            "text/plain": [
              "0    549\n",
              "1    342\n",
              "Name: Survived, dtype: int64"
            ]
          },
          "metadata": {
            "tags": []
          },
          "execution_count": 8
        }
      ]
    },
    {
      "cell_type": "code",
      "metadata": {
        "id": "hkwJDngx_7MU",
        "colab_type": "code",
        "colab": {},
        "outputId": "615d38e1-7840-4f98-a210-87c80edf404b"
      },
      "source": [
        "#'Survived' 컬럼 시각화\n",
        "f, ax = plt.subplots(1, 2, figsize =(12, 6))\n",
        "df_train[\"Survived\"].value_counts().plot.pie(explode=[0,0.1], autopct=\"%1.1f%%\", ax=ax[0], shadow=True)\n",
        "ax[0].set_title(\"Pie plot - Survived\")\n",
        "ax[0].set_ylabel('')\n",
        "sns.countplot(\"Survived\", data=df_train, ax=ax[1])\n",
        "ax[1].set_title(\"Count plot - Survived\")\n",
        "\n",
        "plt.show()"
      ],
      "execution_count": null,
      "outputs": [
        {
          "output_type": "display_data",
          "data": {
            "image/png": "[encoded data removed]",
            "text/plain": [
              "<Figure size 864x432 with 2 Axes>"
            ]
          },
          "metadata": {
            "tags": []
          }
        }
      ]
    },
    {
      "cell_type": "markdown",
      "metadata": {
        "id": "QE6JCqdYA0Nu",
        "colab_type": "text"
      },
      "source": [
        "그 다음 학습에 불필요한 컬럼을 제거하고 결측치 및 null 값을 제거해준다. 그 후 문자열로 이루어진 성별 컬럼은 숫자로 바꿔주고 더 좋은 학습을 위하여 데이터 중 이상치를 제거해준다."
      ]
    },
    {
      "cell_type": "code",
      "metadata": {
        "id": "67rVYGj6_7MX",
        "colab_type": "code",
        "colab": {},
        "outputId": "906a7031-18d2-4102-c887-c028e66a4ea5"
      },
      "source": [
        "df_train.isnull().sum()"
      ],
      "execution_count": null,
      "outputs": [
        {
          "output_type": "execute_result",
          "data": {
            "text/plain": [
              "PassengerId      0\n",
              "Survived         0\n",
              "Pclass           0\n",
              "Name             0\n",
              "Sex              0\n",
              "Age            177\n",
              "SibSp            0\n",
              "Parch            0\n",
              "Ticket           0\n",
              "Fare             0\n",
              "Cabin          687\n",
              "Embarked         2\n",
              "dtype: int64"
            ]
          },
          "metadata": {
            "tags": []
          },
          "execution_count": 10
        }
      ]
    },
    {
      "cell_type": "code",
      "metadata": {
        "id": "IWLxzyoG_7Mb",
        "colab_type": "code",
        "colab": {},
        "outputId": "2575d892-8101-4cf6-f013-0f464b5a4d00"
      },
      "source": [
        "df_test.isnull().sum()"
      ],
      "execution_count": null,
      "outputs": [
        {
          "output_type": "execute_result",
          "data": {
            "text/plain": [
              "PassengerId      0\n",
              "Pclass           0\n",
              "Name             0\n",
              "Sex              0\n",
              "Age             86\n",
              "SibSp            0\n",
              "Parch            0\n",
              "Ticket           0\n",
              "Fare             1\n",
              "Cabin          327\n",
              "Embarked         0\n",
              "dtype: int64"
            ]
          },
          "metadata": {
            "tags": []
          },
          "execution_count": 11
        }
      ]
    },
    {
      "cell_type": "code",
      "metadata": {
        "id": "JYb6BP5w_7Mk",
        "colab_type": "code",
        "colab": {}
      },
      "source": [
        "#이번 실습에서 학습에 사용하지 않을 컬럼 제거\n",
        "train = df_train.drop(['Cabin', 'Embarked', 'Name', 'Ticket', 'PassengerId'],axis=1)\n",
        "test = df_test.drop(['Cabin', 'Embarked', 'Name', 'Ticket'],axis=1)\n",
        "\n",
        "#결측치를 평균값으로 대체\n",
        "train[\"Age\"].fillna(train.groupby(\"Sex\")[\"Age\"].transform(\"mean\"), inplace=True)\n",
        "test[\"Age\"].fillna(test.groupby(\"Sex\")[\"Age\"].transform(\"mean\"), inplace=True)\n",
        "test[\"Fare\"].fillna(test.groupby(\"Sex\")[\"Fare\"].transform(\"median\"), inplace=True)"
      ],
      "execution_count": null,
      "outputs": []
    },
    {
      "cell_type": "code",
      "metadata": {
        "id": "A58XLeP__7Mp",
        "colab_type": "code",
        "colab": {},
        "outputId": "2b6ffee5-7167-421c-a233-13b51d2ddeb8"
      },
      "source": [
        "train.isnull().sum()"
      ],
      "execution_count": null,
      "outputs": [
        {
          "output_type": "execute_result",
          "data": {
            "text/plain": [
              "Survived    0\n",
              "Pclass      0\n",
              "Sex         0\n",
              "Age         0\n",
              "SibSp       0\n",
              "Parch       0\n",
              "Fare        0\n",
              "dtype: int64"
            ]
          },
          "metadata": {
            "tags": []
          },
          "execution_count": 13
        }
      ]
    },
    {
      "cell_type": "code",
      "metadata": {
        "id": "zqfiv4vz_7Mt",
        "colab_type": "code",
        "colab": {},
        "outputId": "6c6a4f9c-1516-42bf-cf8a-35ec8e83bc43"
      },
      "source": [
        "test.isnull().sum()"
      ],
      "execution_count": null,
      "outputs": [
        {
          "output_type": "execute_result",
          "data": {
            "text/plain": [
              "PassengerId    0\n",
              "Pclass         0\n",
              "Sex            0\n",
              "Age            0\n",
              "SibSp          0\n",
              "Parch          0\n",
              "Fare           0\n",
              "dtype: int64"
            ]
          },
          "metadata": {
            "tags": []
          },
          "execution_count": 14
        }
      ]
    },
    {
      "cell_type": "code",
      "metadata": {
        "id": "plre5U7k_7M4",
        "colab_type": "code",
        "colab": {}
      },
      "source": [
        "#문자열로 이루어진 'sex' 컬럼은 숫자로 매핑\n",
        "sex_mapping = {\"male\": 0, \"female\": 1}\n",
        "train['Sex'] = train['Sex'].map(sex_mapping)\n",
        "test['Sex'] = test['Sex'].map(sex_mapping)\n",
        "\n",
        "#'Age', 'Fare' 컬럼에 대하여 평균으로부터 3시그마 안에 포함되지 않는 값들은 이상치로 판단하여 모두 제거\n",
        "age_mean = train['Age'].mean()\n",
        "age_std = train['Age'].std()\n",
        "indexNames = train[train['Age'] < age_mean - 3*age_std].index\n",
        "train.drop(indexNames , inplace=True)\n",
        "indexNames = train[train['Age'] > age_mean + 3*age_std].index\n",
        "train.drop(indexNames , inplace=True)\n",
        "fare_mean = train['Fare'].mean()\n",
        "fare_std = train['Fare'].std()\n",
        "indexNames = train[train['Fare'] < fare_mean - 3*fare_std].index\n",
        "train.drop(indexNames , inplace=True)\n",
        "indexNames = train[train['Fare'] > fare_mean + 3*fare_std].index\n",
        "train.drop(indexNames , inplace=True)"
      ],
      "execution_count": null,
      "outputs": []
    },
    {
      "cell_type": "markdown",
      "metadata": {
        "id": "Tv6Df5zEA_Ul",
        "colab_type": "text"
      },
      "source": [
        "### 2. 로지스틱 회귀모형 학습 후 Cut off 조절하여 모델의 성능 평가"
      ]
    },
    {
      "cell_type": "markdown",
      "metadata": {
        "id": "QYZp5bDaBD3I",
        "colab_type": "text"
      },
      "source": [
        "우리는 아까 Train data에서 tran set과 validation set으로 나눠서 학습 및 검증을 수행하기로 하였다. 따라서 기존의 train set을 train set과 validation set으로 나눈 후 로지스틱 회귀 모형을 학습해보자."
      ]
    },
    {
      "cell_type": "code",
      "metadata": {
        "id": "rm6qfkGOAD2d",
        "colab_type": "code",
        "colab": {}
      },
      "source": [
        "import numpy as np\n",
        "import pandas as pd\n",
        "import matplotlib.pyplot as plt\n",
        "import seaborn as sns\n",
        "import sklearn\n",
        "from sklearn.metrics import *\n",
        "from pandas import DataFrame, Series\n",
        "\n",
        "plt.style.use('seaborn')\n",
        "sns.set(font_scale=2.5) \n",
        "df_train = pd.read_csv('/home/kwnam/다운로드/titanic/train.csv')\n",
        "df_test = pd.read_csv('/home/kwnam/다운로드/titanic/test.csv')\n",
        "train = df_train.drop(['Cabin', 'Embarked', 'Name', 'Ticket', 'PassengerId'],axis=1)\n",
        "test = df_test.drop(['Cabin', 'Embarked', 'Name', 'Ticket'],axis=1)\n",
        "train[\"Age\"].fillna(train.groupby(\"Sex\")[\"Age\"].transform(\"mean\"), inplace=True)\n",
        "test[\"Age\"].fillna(test.groupby(\"Sex\")[\"Age\"].transform(\"mean\"), inplace=True)\n",
        "test[\"Fare\"].fillna(test.groupby(\"Sex\")[\"Fare\"].transform(\"median\"), inplace=True)\n",
        "sex_mapping = {\"male\": 0, \"female\": 1}\n",
        "train['Sex'] = train['Sex'].map(sex_mapping)\n",
        "test['Sex'] = test['Sex'].map(sex_mapping)\n",
        "age_mean = train['Age'].mean()\n",
        "age_std = train['Age'].std()\n",
        "indexNames = train[train['Age'] < age_mean - 3*age_std].index\n",
        "train.drop(indexNames , inplace=True)\n",
        "indexNames = train[train['Age'] > age_mean + 3*age_std].index\n",
        "train.drop(indexNames , inplace=True)\n",
        "fare_mean = train['Fare'].mean()\n",
        "fare_std = train['Fare'].std()\n",
        "indexNames = train[train['Fare'] < fare_mean - 3*fare_std].index\n",
        "train.drop(indexNames , inplace=True)\n",
        "indexNames = train[train['Fare'] > fare_mean + 3*fare_std].index\n",
        "train.drop(indexNames , inplace=True)\n",
        "#'4장_Titanic dataset 탐색 및 전처리.ipynb'에서 전처리 코드만 실행하는 부분"
      ],
      "execution_count": null,
      "outputs": []
    },
    {
      "cell_type": "code",
      "metadata": {
        "id": "uJioG6fJAD21",
        "colab_type": "code",
        "colab": {}
      },
      "source": [
        "from sklearn.linear_model import LogisticRegression\n",
        "from sklearn import metrics\n",
        "from sklearn.model_selection import train_test_split\n",
        "\n",
        "X_train = train.drop('Survived', axis=1).values\n",
        "target_label = train['Survived'].values\n",
        "X_test = test.values"
      ],
      "execution_count": null,
      "outputs": []
    },
    {
      "cell_type": "code",
      "metadata": {
        "id": "vndrODP1AD3D",
        "colab_type": "code",
        "colab": {},
        "outputId": "2a16068f-a774-4e47-8374-512d38aa8809"
      },
      "source": [
        "X_train.shape, X_test.shape"
      ],
      "execution_count": null,
      "outputs": [
        {
          "output_type": "execute_result",
          "data": {
            "text/plain": [
              "((864, 6), (418, 7))"
            ]
          },
          "metadata": {
            "tags": []
          },
          "execution_count": 3
        }
      ]
    },
    {
      "cell_type": "code",
      "metadata": {
        "id": "PHK2Y63qAD3Z",
        "colab_type": "code",
        "colab": {},
        "outputId": "21cb6255-a88c-48bd-8af5-7bea95617e84"
      },
      "source": [
        "X_tr, X_vld, y_tr, y_vld = train_test_split(X_train, target_label, test_size=0.2, random_state=2020)\n",
        "y_tr.shape, y_vld.shape"
      ],
      "execution_count": null,
      "outputs": [
        {
          "output_type": "execute_result",
          "data": {
            "text/plain": [
              "((691,), (173,))"
            ]
          },
          "metadata": {
            "tags": []
          },
          "execution_count": 4
        }
      ]
    },
    {
      "cell_type": "code",
      "metadata": {
        "id": "hGuT1EyzAD3v",
        "colab_type": "code",
        "colab": {}
      },
      "source": [
        "model = LogisticRegression()\n",
        "model.fit(X_tr, y_tr)\n",
        "prediction = model.predict(X_vld)"
      ],
      "execution_count": null,
      "outputs": []
    },
    {
      "cell_type": "code",
      "metadata": {
        "id": "cQVa1ivJAD3-",
        "colab_type": "code",
        "colab": {},
        "outputId": "34b27f7b-dbeb-4d56-b401-3825077d0df7"
      },
      "source": [
        "prediction"
      ],
      "execution_count": null,
      "outputs": [
        {
          "output_type": "execute_result",
          "data": {
            "text/plain": [
              "array([1, 0, 0, 0, 1, 0, 1, 1, 0, 0, 0, 0, 1, 1, 0, 0, 1, 0, 0, 1, 0, 0,\n",
              "       1, 1, 1, 1, 0, 0, 1, 1, 1, 0, 0, 0, 1, 0, 0, 1, 0, 0, 0, 0, 1, 0,\n",
              "       0, 1, 0, 1, 0, 1, 1, 1, 0, 1, 1, 0, 0, 0, 1, 1, 1, 1, 0, 0, 1, 1,\n",
              "       0, 0, 0, 1, 0, 1, 1, 0, 1, 0, 0, 0, 0, 0, 0, 0, 0, 1, 0, 0, 1, 0,\n",
              "       0, 0, 0, 1, 0, 1, 0, 0, 1, 1, 0, 0, 0, 0, 0, 0, 0, 1, 0, 0, 0, 0,\n",
              "       0, 1, 0, 0, 0, 1, 1, 0, 0, 0, 0, 0, 1, 0, 0, 0, 1, 0, 0, 0, 0, 0,\n",
              "       1, 1, 0, 0, 0, 0, 1, 0, 0, 1, 0, 0, 0, 0, 1, 0, 1, 1, 0, 1, 0, 1,\n",
              "       1, 0, 1, 1, 0, 0, 0, 0, 1, 1, 1, 1, 1, 0, 0, 1, 0, 0, 0])"
            ]
          },
          "metadata": {
            "tags": []
          },
          "execution_count": 6
        }
      ]
    },
    {
      "cell_type": "markdown",
      "metadata": {
        "id": "ZjXXY9-XBjyi",
        "colab_type": "text"
      },
      "source": [
        "Survivied 열을 target value로 지정하고 기존의 train set을 앞서 말했던 것처럼 train set과 validation set으로 나눠준 후 로지스틱 회귀 모형을 학습시켰다.\n",
        "\n",
        "그 다음 학습에 사용된 인원 수와 생존 여부를 예측하구 그 예측의 정확도와 confusion matrix를 위와 같이 구한다. 또한 precision, recall, f1-score 또한 동시에 구해주도록 하자."
      ]
    },
    {
      "cell_type": "code",
      "metadata": {
        "id": "52gmh35AAD4O",
        "colab_type": "code",
        "colab": {},
        "outputId": "f672275b-06e8-44e5-a864-c9cc30624f97"
      },
      "source": [
        "print('Number of people: {} \\naccuracy: {:.2f}% '.format(y_vld.shape[0], 100 * accuracy_score(y_vld,prediction)))"
      ],
      "execution_count": null,
      "outputs": [
        {
          "output_type": "stream",
          "text": [
            "Number of people: 173 \n",
            "accuracy: 78.03% \n"
          ],
          "name": "stdout"
        }
      ]
    },
    {
      "cell_type": "code",
      "metadata": {
        "id": "3xKjcpfhAD4u",
        "colab_type": "code",
        "colab": {},
        "outputId": "84ed91db-3899-4495-c3e7-5c534e7c6695"
      },
      "source": [
        "confusion_matrix(y_vld,prediction)"
      ],
      "execution_count": null,
      "outputs": [
        {
          "output_type": "execute_result",
          "data": {
            "text/plain": [
              "array([[94, 24],\n",
              "       [14, 41]])"
            ]
          },
          "metadata": {
            "tags": []
          },
          "execution_count": 8
        }
      ]
    },
    {
      "cell_type": "code",
      "metadata": {
        "id": "uhErkkeZAD5J",
        "colab_type": "code",
        "colab": {},
        "outputId": "37b9f929-9702-4955-c858-759449ecd62a"
      },
      "source": [
        "print('Precision: {:.2f}% \\nRecall: {:.2f}% \\nF1-score: {:.2f}% '.format(100*precision_score(y_vld,prediction),\n",
        "                                                                         100*recall_score(y_vld,prediction),100*f1_score(y_vld,prediction)))"
      ],
      "execution_count": null,
      "outputs": [
        {
          "output_type": "stream",
          "text": [
            "Precision: 63.08% \n",
            "Recall: 74.55% \n",
            "F1-score: 68.33% \n"
          ],
          "name": "stdout"
        }
      ]
    },
    {
      "cell_type": "code",
      "metadata": {
        "id": "vy_YhUWQAD5d",
        "colab_type": "code",
        "colab": {},
        "outputId": "a1739d89-f2b3-416a-92ab-edd30cc3af46"
      },
      "source": [
        "#cut off 조절에 따른 모델의 성능을 평가해 보기 위하여 cut off 값 생성 및 각각의 성능 지표 도출\n",
        "#cut off 값은 다양하게 선택 가능.\n",
        "list = []\n",
        "for i in np.linspace(0,1,100):\n",
        "    pred = model.predict_proba(X_vld)[:,1] > i\n",
        "    cf_mtx = confusion_matrix(y_vld, pred)\n",
        "    acc = accuracy_score(y_vld, pred)\n",
        "    tpr = cf_mtx[0,0] / cf_mtx[0].sum()\n",
        "    fpr = cf_mtx[1,0] / cf_mtx[1].sum()\n",
        "    f1 = f1_score(y_vld, pred)\n",
        "    list.append([i, acc, f1, tpr, fpr])\n",
        "\n",
        "cut_off = DataFrame(list)\n",
        "cut_off.columns = [\"CUTOFF\", \"ACC\", \"F1\", \"TPR\", \"FPR\"]\n",
        "cut_off"
      ],
      "execution_count": null,
      "outputs": [
        {
          "output_type": "execute_result",
          "data": {
            "text/html": [
              "<div>\n",
              "<style scoped>\n",
              "    .dataframe tbody tr th:only-of-type {\n",
              "        vertical-align: middle;\n",
              "    }\n",
              "\n",
              "    .dataframe tbody tr th {\n",
              "        vertical-align: top;\n",
              "    }\n",
              "\n",
              "    .dataframe thead th {\n",
              "        text-align: right;\n",
              "    }\n",
              "</style>\n",
              "<table border=\"1\" class=\"dataframe\">\n",
              "  <thead>\n",
              "    <tr style=\"text-align: right;\">\n",
              "      <th></th>\n",
              "      <th>CUTOFF</th>\n",
              "      <th>ACC</th>\n",
              "      <th>F1</th>\n",
              "      <th>TPR</th>\n",
              "      <th>FPR</th>\n",
              "    </tr>\n",
              "  </thead>\n",
              "  <tbody>\n",
              "    <tr>\n",
              "      <th>0</th>\n",
              "      <td>0.000000</td>\n",
              "      <td>0.317919</td>\n",
              "      <td>0.482456</td>\n",
              "      <td>0.000000</td>\n",
              "      <td>0.000000</td>\n",
              "    </tr>\n",
              "    <tr>\n",
              "      <th>1</th>\n",
              "      <td>0.010101</td>\n",
              "      <td>0.323699</td>\n",
              "      <td>0.484581</td>\n",
              "      <td>0.008475</td>\n",
              "      <td>0.000000</td>\n",
              "    </tr>\n",
              "    <tr>\n",
              "      <th>2</th>\n",
              "      <td>0.020202</td>\n",
              "      <td>0.323699</td>\n",
              "      <td>0.484581</td>\n",
              "      <td>0.008475</td>\n",
              "      <td>0.000000</td>\n",
              "    </tr>\n",
              "    <tr>\n",
              "      <th>3</th>\n",
              "      <td>0.030303</td>\n",
              "      <td>0.329480</td>\n",
              "      <td>0.486726</td>\n",
              "      <td>0.016949</td>\n",
              "      <td>0.000000</td>\n",
              "    </tr>\n",
              "    <tr>\n",
              "      <th>4</th>\n",
              "      <td>0.040404</td>\n",
              "      <td>0.329480</td>\n",
              "      <td>0.486726</td>\n",
              "      <td>0.016949</td>\n",
              "      <td>0.000000</td>\n",
              "    </tr>\n",
              "    <tr>\n",
              "      <th>...</th>\n",
              "      <td>...</td>\n",
              "      <td>...</td>\n",
              "      <td>...</td>\n",
              "      <td>...</td>\n",
              "      <td>...</td>\n",
              "    </tr>\n",
              "    <tr>\n",
              "      <th>95</th>\n",
              "      <td>0.959596</td>\n",
              "      <td>0.687861</td>\n",
              "      <td>0.100000</td>\n",
              "      <td>0.983051</td>\n",
              "      <td>0.945455</td>\n",
              "    </tr>\n",
              "    <tr>\n",
              "      <th>96</th>\n",
              "      <td>0.969697</td>\n",
              "      <td>0.687861</td>\n",
              "      <td>0.100000</td>\n",
              "      <td>0.983051</td>\n",
              "      <td>0.945455</td>\n",
              "    </tr>\n",
              "    <tr>\n",
              "      <th>97</th>\n",
              "      <td>0.979798</td>\n",
              "      <td>0.676301</td>\n",
              "      <td>0.034483</td>\n",
              "      <td>0.983051</td>\n",
              "      <td>0.981818</td>\n",
              "    </tr>\n",
              "    <tr>\n",
              "      <th>98</th>\n",
              "      <td>0.989899</td>\n",
              "      <td>0.676301</td>\n",
              "      <td>0.000000</td>\n",
              "      <td>0.991525</td>\n",
              "      <td>1.000000</td>\n",
              "    </tr>\n",
              "    <tr>\n",
              "      <th>99</th>\n",
              "      <td>1.000000</td>\n",
              "      <td>0.682081</td>\n",
              "      <td>0.000000</td>\n",
              "      <td>1.000000</td>\n",
              "      <td>1.000000</td>\n",
              "    </tr>\n",
              "  </tbody>\n",
              "</table>\n",
              "<p>100 rows × 5 columns</p>\n",
              "</div>"
            ],
            "text/plain": [
              "      CUTOFF       ACC        F1       TPR       FPR\n",
              "0   0.000000  0.317919  0.482456  0.000000  0.000000\n",
              "1   0.010101  0.323699  0.484581  0.008475  0.000000\n",
              "2   0.020202  0.323699  0.484581  0.008475  0.000000\n",
              "3   0.030303  0.329480  0.486726  0.016949  0.000000\n",
              "4   0.040404  0.329480  0.486726  0.016949  0.000000\n",
              "..       ...       ...       ...       ...       ...\n",
              "95  0.959596  0.687861  0.100000  0.983051  0.945455\n",
              "96  0.969697  0.687861  0.100000  0.983051  0.945455\n",
              "97  0.979798  0.676301  0.034483  0.983051  0.981818\n",
              "98  0.989899  0.676301  0.000000  0.991525  1.000000\n",
              "99  1.000000  0.682081  0.000000  1.000000  1.000000\n",
              "\n",
              "[100 rows x 5 columns]"
            ]
          },
          "metadata": {
            "tags": []
          },
          "execution_count": 10
        }
      ]
    },
    {
      "cell_type": "markdown",
      "metadata": {
        "id": "S7FPxmYjBsIy",
        "colab_type": "text"
      },
      "source": [
        "그 후 0과 1 사이를 100등분하여 cut off 값을 다양하게 cast하면서 각각의 cut off 값에 대한 Accuracy, f1 score, recall, precision score를 도출한다. output을 보면 cutoff 값이 변할 때마다 accuracy 값과 f1 score, recall score, precision score가 다양하게 변하는 것을 확인할 수 있다."
      ]
    },
    {
      "cell_type": "code",
      "metadata": {
        "id": "J832ZV3SAD5w",
        "colab_type": "code",
        "colab": {},
        "outputId": "de720d22-143d-4e5b-ed16-89cf6eb05a94"
      },
      "source": [
        "from sklearn.metrics import roc_curve, auc\n",
        "fpr, tpr, thresholds = roc_curve(y_vld, prediction)\n",
        "roc_auc = auc(fpr, tpr)\n",
        "\n",
        "plt.figure(figsize=(10,10))\n",
        "plt.plot(cut_off[\"FPR\"],cut_off[\"TPR\"], color=\"darkorange\", lw=1, label=\"ROC curve (area=%.2f)\" %roc_auc)\n",
        "plt.plot([0,1], [0,1], color='navy', lw=1, linestyle='--')\n",
        "plt.title(\"ROC curve\")\n",
        "plt.xlabel(\"FPR\")\n",
        "plt.ylabel(\"TPR\")\n",
        "plt.legend(loc=\"lower right\")"
      ],
      "execution_count": null,
      "outputs": [
        {
          "output_type": "execute_result",
          "data": {
            "text/plain": [
              "<matplotlib.legend.Legend at 0x7f4675706610>"
            ]
          },
          "metadata": {
            "tags": []
          },
          "execution_count": 11
        },
        {
          "output_type": "display_data",
          "data": {
            "image/png": "[encoded data removed]",
            "text/plain": [
              "<Figure size 720x720 with 1 Axes>"
            ]
          },
          "metadata": {
            "tags": []
          }
        }
      ]
    },
    {
      "cell_type": "markdown",
      "metadata": {
        "id": "9pFPPGQsB3k0",
        "colab_type": "text"
      },
      "source": [
        "ROC 커브를 그려보면 위와 같다. 이번 실습에서는 Cut off 값을 accuracy가 최대인 경우와 f1-score가 최대인 경우로 조절해보았다."
      ]
    },
    {
      "cell_type": "code",
      "metadata": {
        "id": "1_QeDjfsAD6A",
        "colab_type": "code",
        "colab": {},
        "outputId": "4c051806-c3d3-43ef-c0f0-9629e1fc3c20"
      },
      "source": [
        "cut_off[cut_off[\"ACC\"] == cut_off[\"ACC\"].max()] #accuracy가 최대인 값"
      ],
      "execution_count": null,
      "outputs": [
        {
          "output_type": "execute_result",
          "data": {
            "text/html": [
              "<div>\n",
              "<style scoped>\n",
              "    .dataframe tbody tr th:only-of-type {\n",
              "        vertical-align: middle;\n",
              "    }\n",
              "\n",
              "    .dataframe tbody tr th {\n",
              "        vertical-align: top;\n",
              "    }\n",
              "\n",
              "    .dataframe thead th {\n",
              "        text-align: right;\n",
              "    }\n",
              "</style>\n",
              "<table border=\"1\" class=\"dataframe\">\n",
              "  <thead>\n",
              "    <tr style=\"text-align: right;\">\n",
              "      <th></th>\n",
              "      <th>CUTOFF</th>\n",
              "      <th>ACC</th>\n",
              "      <th>F1</th>\n",
              "      <th>TPR</th>\n",
              "      <th>FPR</th>\n",
              "    </tr>\n",
              "  </thead>\n",
              "  <tbody>\n",
              "    <tr>\n",
              "      <th>70</th>\n",
              "      <td>0.707071</td>\n",
              "      <td>0.803468</td>\n",
              "      <td>0.653061</td>\n",
              "      <td>0.90678</td>\n",
              "      <td>0.418182</td>\n",
              "    </tr>\n",
              "  </tbody>\n",
              "</table>\n",
              "</div>"
            ],
            "text/plain": [
              "      CUTOFF       ACC        F1      TPR       FPR\n",
              "70  0.707071  0.803468  0.653061  0.90678  0.418182"
            ]
          },
          "metadata": {
            "tags": []
          },
          "execution_count": 12
        }
      ]
    },
    {
      "cell_type": "code",
      "metadata": {
        "id": "jRB7HE4PAD6U",
        "colab_type": "code",
        "colab": {},
        "outputId": "6765f012-ed4d-42d2-edb2-04c0b1d1923a"
      },
      "source": [
        "cut_off_ACC_MAX = cut_off[cut_off[\"ACC\"] == cut_off[\"ACC\"].max()][\"CUTOFF\"][70]\n",
        "cut_off_ACC_MAX"
      ],
      "execution_count": null,
      "outputs": [
        {
          "output_type": "execute_result",
          "data": {
            "text/plain": [
              "0.7070707070707072"
            ]
          },
          "metadata": {
            "tags": []
          },
          "execution_count": 13
        }
      ]
    },
    {
      "cell_type": "code",
      "metadata": {
        "id": "dSy8HDkgAD6h",
        "colab_type": "code",
        "colab": {}
      },
      "source": [
        "pred_ACC_MAX = model.predict_proba(X_vld)[:,1] > cut_off_ACC_MAX"
      ],
      "execution_count": null,
      "outputs": []
    },
    {
      "cell_type": "code",
      "metadata": {
        "id": "puGRHTNjAD6w",
        "colab_type": "code",
        "colab": {},
        "outputId": "fced081b-e818-4ffa-fd09-9f6e3c67ce60"
      },
      "source": [
        "confusion_matrix(y_vld,pred_ACC_MAX)"
      ],
      "execution_count": null,
      "outputs": [
        {
          "output_type": "execute_result",
          "data": {
            "text/plain": [
              "array([[107,  11],\n",
              "       [ 23,  32]])"
            ]
          },
          "metadata": {
            "tags": []
          },
          "execution_count": 15
        }
      ]
    },
    {
      "cell_type": "code",
      "metadata": {
        "id": "mBkriUNvAD6-",
        "colab_type": "code",
        "colab": {},
        "outputId": "cba0a4a4-052e-4be8-be44-eb917b33227a"
      },
      "source": [
        "cut_off[cut_off[\"F1\"] == cut_off[\"F1\"].max()] #F1-score가 최대인 값"
      ],
      "execution_count": null,
      "outputs": [
        {
          "output_type": "execute_result",
          "data": {
            "text/html": [
              "<div>\n",
              "<style scoped>\n",
              "    .dataframe tbody tr th:only-of-type {\n",
              "        vertical-align: middle;\n",
              "    }\n",
              "\n",
              "    .dataframe tbody tr th {\n",
              "        vertical-align: top;\n",
              "    }\n",
              "\n",
              "    .dataframe thead th {\n",
              "        text-align: right;\n",
              "    }\n",
              "</style>\n",
              "<table border=\"1\" class=\"dataframe\">\n",
              "  <thead>\n",
              "    <tr style=\"text-align: right;\">\n",
              "      <th></th>\n",
              "      <th>CUTOFF</th>\n",
              "      <th>ACC</th>\n",
              "      <th>F1</th>\n",
              "      <th>TPR</th>\n",
              "      <th>FPR</th>\n",
              "    </tr>\n",
              "  </thead>\n",
              "  <tbody>\n",
              "    <tr>\n",
              "      <th>45</th>\n",
              "      <td>0.454545</td>\n",
              "      <td>0.791908</td>\n",
              "      <td>0.714286</td>\n",
              "      <td>0.779661</td>\n",
              "      <td>0.181818</td>\n",
              "    </tr>\n",
              "  </tbody>\n",
              "</table>\n",
              "</div>"
            ],
            "text/plain": [
              "      CUTOFF       ACC        F1       TPR       FPR\n",
              "45  0.454545  0.791908  0.714286  0.779661  0.181818"
            ]
          },
          "metadata": {
            "tags": []
          },
          "execution_count": 16
        }
      ]
    },
    {
      "cell_type": "code",
      "metadata": {
        "id": "WKGO8oWvAD7P",
        "colab_type": "code",
        "colab": {},
        "outputId": "863035db-cd43-4539-c4e9-06cd951e977d"
      },
      "source": [
        "cut_off_F1_MAX = cut_off[cut_off[\"F1\"] == cut_off[\"F1\"].max()][\"CUTOFF\"][45]\n",
        "cut_off_F1_MAX"
      ],
      "execution_count": null,
      "outputs": [
        {
          "output_type": "execute_result",
          "data": {
            "text/plain": [
              "0.4545454545454546"
            ]
          },
          "metadata": {
            "tags": []
          },
          "execution_count": 17
        }
      ]
    },
    {
      "cell_type": "code",
      "metadata": {
        "id": "1hZq3YHGAD7b",
        "colab_type": "code",
        "colab": {}
      },
      "source": [
        "pred_F1_MAX = model.predict_proba(X_vld)[:,1] > cut_off_F1_MAX"
      ],
      "execution_count": null,
      "outputs": []
    },
    {
      "cell_type": "code",
      "metadata": {
        "id": "JjoyCWeNAD7u",
        "colab_type": "code",
        "colab": {},
        "outputId": "ae225796-84cc-4b78-bb21-e06974888144"
      },
      "source": [
        "confusion_matrix(y_vld,pred_F1_MAX)"
      ],
      "execution_count": null,
      "outputs": [
        {
          "output_type": "execute_result",
          "data": {
            "text/plain": [
              "array([[92, 26],\n",
              "       [10, 45]])"
            ]
          },
          "metadata": {
            "tags": []
          },
          "execution_count": 19
        }
      ]
    },
    {
      "cell_type": "markdown",
      "metadata": {
        "id": "4dAgDPfhB7TW",
        "colab_type": "text"
      },
      "source": [
        "이를 통해 보면 accuracy가 최대가 되는 값은 cutoff가 대략 0.707071 정도이며 이 때의 confusion matrix는 output와 같다는 것을 확인할 수 있다. 또한 cutoff 0.454545에서 f1-socre가 최대가 되는데 이때의 confusion matrix는 마지막 output과 같음을 볼 수 있다."
      ]
    }
  ]
}