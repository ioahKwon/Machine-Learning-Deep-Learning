{
  "nbformat": 4,
  "nbformat_minor": 0,
  "metadata": {
    "kernelspec": {
      "display_name": "Python [default]",
      "language": "python",
      "name": "python3"
    },
    "language_info": {
      "codemirror_mode": {
        "name": "ipython",
        "version": 3
      },
      "file_extension": ".py",
      "mimetype": "text/x-python",
      "name": "python",
      "nbconvert_exporter": "python",
      "pygments_lexer": "ipython3",
      "version": "3.6.4"
    },
    "colab": {
      "name": "[머신러닝과딥러닝] Week_3.ipynb",
      "provenance": [],
      "include_colab_link": true
    }
  },
  "cells": [
    {
      "cell_type": "markdown",
      "metadata": {
        "id": "view-in-github",
        "colab_type": "text"
      },
      "source": [
        "<a href=\"https://colab.research.google.com/github/ioahKwon/Machine-Learning-Deep-Learning/blob/master/%5B%EB%A8%B8%EC%8B%A0%EB%9F%AC%EB%8B%9D%EA%B3%BC%EB%94%A5%EB%9F%AC%EB%8B%9D%5D_Week_3.ipynb\" target=\"_parent\"><img src=\"https://colab.research.google.com/assets/colab-badge.svg\" alt=\"Open In Colab\"/></a>"
      ]
    },
    {
      "cell_type": "markdown",
      "metadata": {
        "id": "oKETxdFzoFAg",
        "colab_type": "text"
      },
      "source": [
        "# **[머신러닝과딥러닝] 수업 정리 Week #3**\n",
        "\n",
        "### _2020.08._ SKKU Lecture Summary by IOAH\n",
        "\n",
        "\n",
        "---\n",
        "\n",
        "\n",
        "\n"
      ]
    },
    {
      "cell_type": "markdown",
      "metadata": {
        "id": "xxSNv9Ej8QBN",
        "colab_type": "text"
      },
      "source": [
        "### 1. 선형회귀모형의 정규화 (Lasso, Ridge 정규화)"
      ]
    },
    {
      "cell_type": "code",
      "metadata": {
        "id": "2muPdwZg6xV5",
        "colab_type": "code",
        "colab": {}
      },
      "source": [
        "from sklearn.linear_model import LinearRegression\n",
        "import pandas as pd\n",
        "import numpy as np\n",
        "from matplotlib import pyplot as plt\n",
        "from sklearn.linear_model import Ridge, Lasso"
      ],
      "execution_count": null,
      "outputs": []
    },
    {
      "cell_type": "code",
      "metadata": {
        "id": "KL8AC2Mv6xWS",
        "colab_type": "code",
        "colab": {},
        "outputId": "fbd2757e-cf5a-4e25-b2eb-078e6e48a48d"
      },
      "source": [
        "from sklearn.datasets import fetch_california_housing\n",
        "\n",
        "california = fetch_california_housing()\n",
        "X=california.data\n",
        "DF=pd.DataFrame(X,columns=california.feature_names)\n",
        "Y=california.target\n",
        "print(DF)"
      ],
      "execution_count": null,
      "outputs": [
        {
          "output_type": "stream",
          "text": [
            "       MedInc  HouseAge  AveRooms  AveBedrms  Population  AveOccup  Latitude  \\\n",
            "0      8.3252      41.0  6.984127   1.023810       322.0  2.555556     37.88   \n",
            "1      8.3014      21.0  6.238137   0.971880      2401.0  2.109842     37.86   \n",
            "2      7.2574      52.0  8.288136   1.073446       496.0  2.802260     37.85   \n",
            "3      5.6431      52.0  5.817352   1.073059       558.0  2.547945     37.85   \n",
            "4      3.8462      52.0  6.281853   1.081081       565.0  2.181467     37.85   \n",
            "5      4.0368      52.0  4.761658   1.103627       413.0  2.139896     37.85   \n",
            "6      3.6591      52.0  4.931907   0.951362      1094.0  2.128405     37.84   \n",
            "7      3.1200      52.0  4.797527   1.061824      1157.0  1.788253     37.84   \n",
            "8      2.0804      42.0  4.294118   1.117647      1206.0  2.026891     37.84   \n",
            "9      3.6912      52.0  4.970588   0.990196      1551.0  2.172269     37.84   \n",
            "10     3.2031      52.0  5.477612   1.079602       910.0  2.263682     37.85   \n",
            "11     3.2705      52.0  4.772480   1.024523      1504.0  2.049046     37.85   \n",
            "12     3.0750      52.0  5.322650   1.012821      1098.0  2.346154     37.85   \n",
            "13     2.6736      52.0  4.000000   1.097701       345.0  1.982759     37.84   \n",
            "14     1.9167      52.0  4.262903   1.009677      1212.0  1.954839     37.85   \n",
            "15     2.1250      50.0  4.242424   1.071970       697.0  2.640152     37.85   \n",
            "16     2.7750      52.0  5.939577   1.048338       793.0  2.395770     37.85   \n",
            "17     2.1202      52.0  4.052805   0.966997       648.0  2.138614     37.85   \n",
            "18     1.9911      50.0  5.343675   1.085919       990.0  2.362768     37.84   \n",
            "19     2.6033      52.0  5.465455   1.083636       690.0  2.509091     37.84   \n",
            "20     1.3578      40.0  4.524096   1.108434       409.0  2.463855     37.85   \n",
            "21     1.7135      42.0  4.478142   1.002732       929.0  2.538251     37.85   \n",
            "22     1.7250      52.0  5.096234   1.131799      1015.0  2.123431     37.84   \n",
            "23     2.1806      52.0  5.193846   1.036923       853.0  2.624615     37.84   \n",
            "24     2.6000      52.0  5.270142   1.035545      1006.0  2.383886     37.84   \n",
            "25     2.4038      41.0  4.495798   1.033613       317.0  2.663866     37.85   \n",
            "26     2.4597      49.0  4.728033   1.020921       607.0  2.539749     37.85   \n",
            "27     1.8080      52.0  4.780856   1.060453      1102.0  2.775819     37.85   \n",
            "28     1.6424      50.0  4.401691   1.040169      1131.0  2.391121     37.84   \n",
            "29     1.6875      52.0  4.703226   1.032258       395.0  2.548387     37.84   \n",
            "...       ...       ...       ...        ...         ...       ...       ...   \n",
            "20610  1.3631      28.0  4.851936   1.102506      1195.0  2.722096     39.10   \n",
            "20611  1.2857      27.0  4.359413   1.078240      1163.0  2.843521     39.10   \n",
            "20612  1.4934      26.0  5.157303   1.082397       761.0  2.850187     39.08   \n",
            "20613  1.4958      31.0  4.500000   0.950521      1167.0  3.039062     39.09   \n",
            "20614  2.4695      26.0  4.801688   0.970464      1455.0  3.069620     39.08   \n",
            "20615  2.3598      23.0  5.461929   1.096447       724.0  3.675127     39.08   \n",
            "20616  2.0469      15.0  4.826667   1.176000      1157.0  3.085333     39.08   \n",
            "20617  3.3021      20.0  4.921053   0.956140       308.0  2.701754     39.06   \n",
            "20618  2.2500      25.0  5.893805   1.092920       726.0  3.212389     39.06   \n",
            "20619  2.7303      22.0  6.388514   1.148649      1023.0  3.456081     39.01   \n",
            "20620  4.5625      40.0  4.125000   0.854167       151.0  3.145833     39.05   \n",
            "20621  2.3661      37.0  7.923567   1.573248       484.0  3.082803     39.01   \n",
            "20622  2.4167      20.0  4.808917   0.936306       457.0  2.910828     39.00   \n",
            "20623  2.8235      32.0  5.101322   1.074890       598.0  2.634361     39.03   \n",
            "20624  3.0739      16.0  5.835052   1.030928       731.0  2.512027     39.04   \n",
            "20625  4.1250      37.0  7.285714   1.214286        29.0  2.071429     39.12   \n",
            "20626  2.1667      36.0  6.573099   1.076023       504.0  2.947368     39.18   \n",
            "20627  3.0000       5.0  6.067797   1.101695       169.0  2.864407     39.13   \n",
            "20628  2.5952      19.0  5.238462   1.079487      1018.0  2.610256     39.10   \n",
            "20629  2.0943      28.0  5.519802   1.020902      6912.0  3.801980     39.12   \n",
            "20630  3.5673      11.0  5.932584   1.134831      1257.0  2.824719     39.29   \n",
            "20631  3.5179      15.0  6.145833   1.141204      1200.0  2.777778     39.33   \n",
            "20632  3.1250      15.0  6.023377   1.080519      1047.0  2.719481     39.26   \n",
            "20633  2.5495      27.0  5.445026   1.078534      1082.0  2.832461     39.19   \n",
            "20634  3.7125      28.0  6.779070   1.148256      1041.0  3.026163     39.27   \n",
            "20635  1.5603      25.0  5.045455   1.133333       845.0  2.560606     39.48   \n",
            "20636  2.5568      18.0  6.114035   1.315789       356.0  3.122807     39.49   \n",
            "20637  1.7000      17.0  5.205543   1.120092      1007.0  2.325635     39.43   \n",
            "20638  1.8672      18.0  5.329513   1.171920       741.0  2.123209     39.43   \n",
            "20639  2.3886      16.0  5.254717   1.162264      1387.0  2.616981     39.37   \n",
            "\n",
            "       Longitude  \n",
            "0        -122.23  \n",
            "1        -122.22  \n",
            "2        -122.24  \n",
            "3        -122.25  \n",
            "4        -122.25  \n",
            "5        -122.25  \n",
            "6        -122.25  \n",
            "7        -122.25  \n",
            "8        -122.26  \n",
            "9        -122.25  \n",
            "10       -122.26  \n",
            "11       -122.26  \n",
            "12       -122.26  \n",
            "13       -122.26  \n",
            "14       -122.26  \n",
            "15       -122.26  \n",
            "16       -122.27  \n",
            "17       -122.27  \n",
            "18       -122.26  \n",
            "19       -122.27  \n",
            "20       -122.27  \n",
            "21       -122.27  \n",
            "22       -122.27  \n",
            "23       -122.27  \n",
            "24       -122.27  \n",
            "25       -122.28  \n",
            "26       -122.28  \n",
            "27       -122.28  \n",
            "28       -122.28  \n",
            "29       -122.28  \n",
            "...          ...  \n",
            "20610    -121.56  \n",
            "20611    -121.55  \n",
            "20612    -121.56  \n",
            "20613    -121.55  \n",
            "20614    -121.54  \n",
            "20615    -121.54  \n",
            "20616    -121.53  \n",
            "20617    -121.53  \n",
            "20618    -121.55  \n",
            "20619    -121.56  \n",
            "20620    -121.48  \n",
            "20621    -121.47  \n",
            "20622    -121.44  \n",
            "20623    -121.37  \n",
            "20624    -121.41  \n",
            "20625    -121.52  \n",
            "20626    -121.43  \n",
            "20627    -121.32  \n",
            "20628    -121.48  \n",
            "20629    -121.39  \n",
            "20630    -121.32  \n",
            "20631    -121.40  \n",
            "20632    -121.45  \n",
            "20633    -121.53  \n",
            "20634    -121.56  \n",
            "20635    -121.09  \n",
            "20636    -121.21  \n",
            "20637    -121.22  \n",
            "20638    -121.32  \n",
            "20639    -121.24  \n",
            "\n",
            "[20640 rows x 8 columns]\n"
          ],
          "name": "stdout"
        }
      ]
    },
    {
      "cell_type": "markdown",
      "metadata": {
        "id": "xPR9yMv08CcT",
        "colab_type": "text"
      },
      "source": [
        "선형회귀모형의 정규화를 위해 Ridge와 Lasso 회귀를  써본다. 두 회귀모형 모두 Alpha 값을 조절하며 학습이 가능하다. 우선 데이터는 Scikit-learn에서 제공하는 예제 데이터인 California housing dataset을 쓰도록 한다. 그 다음 우선 주어진 대로 Alpha값을 1로 주어본 결과 확인한 회귀계수와 bias는 아래와 같다."
      ]
    },
    {
      "cell_type": "code",
      "metadata": {
        "id": "6zJumEMC6xWp",
        "colab_type": "code",
        "colab": {},
        "outputId": "a14f2c54-6b51-44a7-e7ff-5e03f2e32eb8"
      },
      "source": [
        "#하이퍼 파라미터인 alpha를 조절하며 다양한 회귀식 도출이 가능하다.\n",
        "ALPHA=1\n",
        "\n",
        "rid=Ridge(alpha=ALPHA)\n",
        "Model=rid.fit(X,Y)\n",
        "print(\"coef\")\n",
        "print(Model.coef_)\n",
        "print(\"intercept\")\n",
        "print(Model.intercept_)"
      ],
      "execution_count": null,
      "outputs": [
        {
          "output_type": "stream",
          "text": [
            "coef\n",
            "[ 4.36594382e-01  9.43739513e-03 -1.07132761e-01  6.44062485e-01\n",
            " -3.97034295e-06 -3.78635869e-03 -4.21299306e-01 -4.34484717e-01]\n",
            "intercept\n",
            "-36.93858523232896\n"
          ],
          "name": "stdout"
        }
      ]
    },
    {
      "cell_type": "code",
      "metadata": {
        "id": "_FaNvSh16xW5",
        "colab_type": "code",
        "colab": {},
        "outputId": "87c9dea9-5c34-4714-c948-7d7e3cb3472d"
      },
      "source": [
        "#하이퍼 파라미터인 alpha를 조절하며 다양한 회귀식 도출이 가능하다.\n",
        "ALPHA=1\n",
        "\n",
        "las=Lasso(alpha=ALPHA)\n",
        "Model=las.fit(X,Y)\n",
        "print(\"coef\")\n",
        "print(Model.coef_)\n",
        "print(\"intercept\")\n",
        "print(Model.intercept_)"
      ],
      "execution_count": null,
      "outputs": [
        {
          "output_type": "stream",
          "text": [
            "coef\n",
            "[ 1.45469232e-01  5.81496884e-03  0.00000000e+00 -0.00000000e+00\n",
            " -6.37292607e-06 -0.00000000e+00 -0.00000000e+00 -0.00000000e+00]\n",
            "intercept\n",
            "1.3480413673416143\n"
          ],
          "name": "stdout"
        }
      ]
    },
    {
      "cell_type": "markdown",
      "metadata": {
        "id": "qWXM8PeM8Jac",
        "colab_type": "text"
      },
      "source": [
        "여기에 alpha 값을 각각 0.5, 1 그리고 3으로 변경해서 돌려본 결과 회귀모델의 회귀계수와 bias가 변하는 것을 확인할 수 있다."
      ]
    },
    {
      "cell_type": "markdown",
      "metadata": {
        "id": "iEC7f6bn8XEu",
        "colab_type": "text"
      },
      "source": [
        "### 2. 변수 선택\n"
      ]
    },
    {
      "cell_type": "markdown",
      "metadata": {
        "id": "1UvpFL328bLQ",
        "colab_type": "text"
      },
      "source": [
        "이번에도 1번과 똑같은 데이터로 실험을 진행한다. 다만 통계랑 계산을 위해 통계랑 계산 패키지를 가상환경에 먼저 설치해준다."
      ]
    },
    {
      "cell_type": "code",
      "metadata": {
        "id": "XQr6MMcq9CWm",
        "colab_type": "code",
        "colab": {
          "resources": {
            "http://localhost:8080/nbextensions/google.colab/files.js": {
              "data": "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",
              "ok": true,
              "headers": [
                [
                  "content-type",
                  "application/javascript"
                ]
              ],
              "status": 200,
              "status_text": ""
            }
          },
          "base_uri": "https://localhost:8080/",
          "height": 93
        },
        "outputId": "534320bc-767b-44bf-dcd5-461611eaabb7"
      },
      "source": [
        "from google.colab import files\n",
        "uploaded = files.upload() # 파일 업로드 기능 실행\n",
        "\n",
        "for fn in uploaded.keys(): # 업로드된 파일 정보 출력\n",
        "    print('User uploaded file \"{name}\" with length {length} bytes'.format(\n",
        "        name=fn, length=len(uploaded[fn])))"
      ],
      "execution_count": 1,
      "outputs": [
        {
          "output_type": "display_data",
          "data": {
            "text/html": [
              "\n",
              "     <input type=\"file\" id=\"files-859756f6-499e-465c-a109-fb6f97bab42a\" name=\"files[]\" multiple disabled\n",
              "        style=\"border:none\" />\n",
              "     <output id=\"result-859756f6-499e-465c-a109-fb6f97bab42a\">\n",
              "      Upload widget is only available when the cell has been executed in the\n",
              "      current browser session. Please rerun this cell to enable.\n",
              "      </output>\n",
              "      <script src=\"/nbextensions/google.colab/files.js\"></script> "
            ],
            "text/plain": [
              "<IPython.core.display.HTML object>"
            ]
          },
          "metadata": {
            "tags": []
          }
        },
        {
          "output_type": "stream",
          "text": [
            "Saving TEMP.JPG to TEMP.JPG\n",
            "User uploaded file \"TEMP.JPG\" with length 19269 bytes\n"
          ],
          "name": "stdout"
        }
      ]
    },
    {
      "cell_type": "code",
      "metadata": {
        "id": "2grg2PFv9EBL",
        "colab_type": "code",
        "colab": {
          "base_uri": "https://localhost:8080/",
          "height": 114
        },
        "outputId": "76303b70-5fb9-4e7d-b6c4-83b35fb4fbe7"
      },
      "source": [
        "from IPython.display import Image\n",
        "Image('TEMP.JPG')"
      ],
      "execution_count": 3,
      "outputs": [
        {
          "output_type": "execute_result",
          "data": {
            "image/jpeg": "[encoded data removed]",
            "text/plain": [
              "<IPython.core.display.Image object>"
            ]
          },
          "metadata": {
            "tags": []
          },
          "execution_count": 3
        }
      ]
    },
    {
      "cell_type": "markdown",
      "metadata": {
        "id": "G_GQc2AS9TUL",
        "colab_type": "text"
      },
      "source": [
        "위 데이터는 입력변수가 많기 때문에 변수를 선택하는 것은 회귀분석에서 중요한 일이다. 여기서 의미 있는 변수를 선택하는 가장 대표적인 3가지 방법은 Forward selection, Backward elimination, Stepwise selection이 있다. Cutoff 매개변수를 0.01로 주면 모두 다 population 변수를 제외하는 것을 확인할 수 있다. 아래는 각각 forward selection, backward elimination, stepwise selection을 cutoff=0.01로 줬을 때의 결과이다."
      ]
    },
    {
      "cell_type": "code",
      "metadata": {
        "id": "U3fPGxtb62hJ",
        "colab_type": "code",
        "colab": {}
      },
      "source": [
        "from sklearn.linear_model import LinearRegression\n",
        "import pandas as pd\n",
        "import numpy as np\n",
        "from matplotlib import pyplot as plt\n",
        "from sklearn.linear_model import Ridge, Lasso"
      ],
      "execution_count": null,
      "outputs": []
    },
    {
      "cell_type": "code",
      "metadata": {
        "id": "NcfJMeT462he",
        "colab_type": "code",
        "colab": {},
        "outputId": "00af8b99-c8ca-40ee-9261-a16efa483117"
      },
      "source": [
        "from sklearn.datasets import fetch_california_housing\n",
        "\n",
        "california = fetch_california_housing()\n",
        "X=california.data\n",
        "DF=pd.DataFrame(X,columns=california.feature_names)\n",
        "Y=california.target\n",
        "print(DF)"
      ],
      "execution_count": null,
      "outputs": [
        {
          "output_type": "stream",
          "text": [
            "       MedInc  HouseAge  AveRooms  AveBedrms  Population  AveOccup  Latitude  \\\n",
            "0      8.3252      41.0  6.984127   1.023810       322.0  2.555556     37.88   \n",
            "1      8.3014      21.0  6.238137   0.971880      2401.0  2.109842     37.86   \n",
            "2      7.2574      52.0  8.288136   1.073446       496.0  2.802260     37.85   \n",
            "3      5.6431      52.0  5.817352   1.073059       558.0  2.547945     37.85   \n",
            "4      3.8462      52.0  6.281853   1.081081       565.0  2.181467     37.85   \n",
            "5      4.0368      52.0  4.761658   1.103627       413.0  2.139896     37.85   \n",
            "6      3.6591      52.0  4.931907   0.951362      1094.0  2.128405     37.84   \n",
            "7      3.1200      52.0  4.797527   1.061824      1157.0  1.788253     37.84   \n",
            "8      2.0804      42.0  4.294118   1.117647      1206.0  2.026891     37.84   \n",
            "9      3.6912      52.0  4.970588   0.990196      1551.0  2.172269     37.84   \n",
            "10     3.2031      52.0  5.477612   1.079602       910.0  2.263682     37.85   \n",
            "11     3.2705      52.0  4.772480   1.024523      1504.0  2.049046     37.85   \n",
            "12     3.0750      52.0  5.322650   1.012821      1098.0  2.346154     37.85   \n",
            "13     2.6736      52.0  4.000000   1.097701       345.0  1.982759     37.84   \n",
            "14     1.9167      52.0  4.262903   1.009677      1212.0  1.954839     37.85   \n",
            "15     2.1250      50.0  4.242424   1.071970       697.0  2.640152     37.85   \n",
            "16     2.7750      52.0  5.939577   1.048338       793.0  2.395770     37.85   \n",
            "17     2.1202      52.0  4.052805   0.966997       648.0  2.138614     37.85   \n",
            "18     1.9911      50.0  5.343675   1.085919       990.0  2.362768     37.84   \n",
            "19     2.6033      52.0  5.465455   1.083636       690.0  2.509091     37.84   \n",
            "20     1.3578      40.0  4.524096   1.108434       409.0  2.463855     37.85   \n",
            "21     1.7135      42.0  4.478142   1.002732       929.0  2.538251     37.85   \n",
            "22     1.7250      52.0  5.096234   1.131799      1015.0  2.123431     37.84   \n",
            "23     2.1806      52.0  5.193846   1.036923       853.0  2.624615     37.84   \n",
            "24     2.6000      52.0  5.270142   1.035545      1006.0  2.383886     37.84   \n",
            "25     2.4038      41.0  4.495798   1.033613       317.0  2.663866     37.85   \n",
            "26     2.4597      49.0  4.728033   1.020921       607.0  2.539749     37.85   \n",
            "27     1.8080      52.0  4.780856   1.060453      1102.0  2.775819     37.85   \n",
            "28     1.6424      50.0  4.401691   1.040169      1131.0  2.391121     37.84   \n",
            "29     1.6875      52.0  4.703226   1.032258       395.0  2.548387     37.84   \n",
            "...       ...       ...       ...        ...         ...       ...       ...   \n",
            "20610  1.3631      28.0  4.851936   1.102506      1195.0  2.722096     39.10   \n",
            "20611  1.2857      27.0  4.359413   1.078240      1163.0  2.843521     39.10   \n",
            "20612  1.4934      26.0  5.157303   1.082397       761.0  2.850187     39.08   \n",
            "20613  1.4958      31.0  4.500000   0.950521      1167.0  3.039062     39.09   \n",
            "20614  2.4695      26.0  4.801688   0.970464      1455.0  3.069620     39.08   \n",
            "20615  2.3598      23.0  5.461929   1.096447       724.0  3.675127     39.08   \n",
            "20616  2.0469      15.0  4.826667   1.176000      1157.0  3.085333     39.08   \n",
            "20617  3.3021      20.0  4.921053   0.956140       308.0  2.701754     39.06   \n",
            "20618  2.2500      25.0  5.893805   1.092920       726.0  3.212389     39.06   \n",
            "20619  2.7303      22.0  6.388514   1.148649      1023.0  3.456081     39.01   \n",
            "20620  4.5625      40.0  4.125000   0.854167       151.0  3.145833     39.05   \n",
            "20621  2.3661      37.0  7.923567   1.573248       484.0  3.082803     39.01   \n",
            "20622  2.4167      20.0  4.808917   0.936306       457.0  2.910828     39.00   \n",
            "20623  2.8235      32.0  5.101322   1.074890       598.0  2.634361     39.03   \n",
            "20624  3.0739      16.0  5.835052   1.030928       731.0  2.512027     39.04   \n",
            "20625  4.1250      37.0  7.285714   1.214286        29.0  2.071429     39.12   \n",
            "20626  2.1667      36.0  6.573099   1.076023       504.0  2.947368     39.18   \n",
            "20627  3.0000       5.0  6.067797   1.101695       169.0  2.864407     39.13   \n",
            "20628  2.5952      19.0  5.238462   1.079487      1018.0  2.610256     39.10   \n",
            "20629  2.0943      28.0  5.519802   1.020902      6912.0  3.801980     39.12   \n",
            "20630  3.5673      11.0  5.932584   1.134831      1257.0  2.824719     39.29   \n",
            "20631  3.5179      15.0  6.145833   1.141204      1200.0  2.777778     39.33   \n",
            "20632  3.1250      15.0  6.023377   1.080519      1047.0  2.719481     39.26   \n",
            "20633  2.5495      27.0  5.445026   1.078534      1082.0  2.832461     39.19   \n",
            "20634  3.7125      28.0  6.779070   1.148256      1041.0  3.026163     39.27   \n",
            "20635  1.5603      25.0  5.045455   1.133333       845.0  2.560606     39.48   \n",
            "20636  2.5568      18.0  6.114035   1.315789       356.0  3.122807     39.49   \n",
            "20637  1.7000      17.0  5.205543   1.120092      1007.0  2.325635     39.43   \n",
            "20638  1.8672      18.0  5.329513   1.171920       741.0  2.123209     39.43   \n",
            "20639  2.3886      16.0  5.254717   1.162264      1387.0  2.616981     39.37   \n",
            "\n",
            "       Longitude  \n",
            "0        -122.23  \n",
            "1        -122.22  \n",
            "2        -122.24  \n",
            "3        -122.25  \n",
            "4        -122.25  \n",
            "5        -122.25  \n",
            "6        -122.25  \n",
            "7        -122.25  \n",
            "8        -122.26  \n",
            "9        -122.25  \n",
            "10       -122.26  \n",
            "11       -122.26  \n",
            "12       -122.26  \n",
            "13       -122.26  \n",
            "14       -122.26  \n",
            "15       -122.26  \n",
            "16       -122.27  \n",
            "17       -122.27  \n",
            "18       -122.26  \n",
            "19       -122.27  \n",
            "20       -122.27  \n",
            "21       -122.27  \n",
            "22       -122.27  \n",
            "23       -122.27  \n",
            "24       -122.27  \n",
            "25       -122.28  \n",
            "26       -122.28  \n",
            "27       -122.28  \n",
            "28       -122.28  \n",
            "29       -122.28  \n",
            "...          ...  \n",
            "20610    -121.56  \n",
            "20611    -121.55  \n",
            "20612    -121.56  \n",
            "20613    -121.55  \n",
            "20614    -121.54  \n",
            "20615    -121.54  \n",
            "20616    -121.53  \n",
            "20617    -121.53  \n",
            "20618    -121.55  \n",
            "20619    -121.56  \n",
            "20620    -121.48  \n",
            "20621    -121.47  \n",
            "20622    -121.44  \n",
            "20623    -121.37  \n",
            "20624    -121.41  \n",
            "20625    -121.52  \n",
            "20626    -121.43  \n",
            "20627    -121.32  \n",
            "20628    -121.48  \n",
            "20629    -121.39  \n",
            "20630    -121.32  \n",
            "20631    -121.40  \n",
            "20632    -121.45  \n",
            "20633    -121.53  \n",
            "20634    -121.56  \n",
            "20635    -121.09  \n",
            "20636    -121.21  \n",
            "20637    -121.22  \n",
            "20638    -121.32  \n",
            "20639    -121.24  \n",
            "\n",
            "[20640 rows x 8 columns]\n"
          ],
          "name": "stdout"
        }
      ]
    },
    {
      "cell_type": "code",
      "metadata": {
        "id": "CAt8oXd862hw",
        "colab_type": "code",
        "colab": {},
        "outputId": "925f7775-45c8-4f3b-948b-6a5cea9f962c"
      },
      "source": [
        "'''\n",
        "코드 실행 전에 아나콘다 프롬프트에서 'machinelearning' 가상환경을 활성화시킨 후 'conda install statsmodels'로 \n",
        "통계량 계산 라이브러리(패키지)를 설치해야한다.\n",
        "\n",
        "''' \n",
        "import statsmodels.api as sm\n",
        "\n",
        "#forward selection 함수 정의: 입력변수를 하나씩 추가하면서 최소 p-value가 기준값인 cutoff-value보다 큰 변수가 나올 때까지 반복한다.\n",
        "#함수의 인자로 있는 cutoff 매개변수 값을 조절하면서 학습하면 된다.\n",
        "def forward_selection(data,target,cutoff=0.05):\n",
        "    initial_features = data.columns.tolist()\n",
        "    best_features = []\n",
        "    while(len(initial_features)>0):\n",
        "        remaining_features = list(set(initial_features)-set(best_features))\n",
        "        new_pval = pd.Series(index=remaining_features)\n",
        "        for new_column in remaining_features:\n",
        "            model = sm.OLS(target, sm.add_constant(data[best_features+[new_column]])).fit()\n",
        "            new_pval[new_column] = model.pvalues[new_column]\n",
        "        min_p_value = new_pval.min()\n",
        "        if(min_p_value < cutoff):\n",
        "            best_features.append(new_pval.idxmin())\n",
        "        else:\n",
        "            break\n",
        "    return best_features\n",
        "forwarddata=forward_selection(DF,Y,0.01)\n",
        "print(forwarddata)"
      ],
      "execution_count": null,
      "outputs": [
        {
          "output_type": "stream",
          "text": [
            "['MedInc', 'HouseAge', 'Latitude', 'Longitude', 'AveBedrms', 'AveRooms', 'AveOccup']\n"
          ],
          "name": "stdout"
        }
      ]
    },
    {
      "cell_type": "code",
      "metadata": {
        "id": "pzXwCk8e62iK",
        "colab_type": "code",
        "colab": {},
        "outputId": "9e48d09e-d9a7-413a-cfb9-06959da5e236"
      },
      "source": [
        "#backward elimination 함수 정의: full model에서 입력변수를 하나씩 제거하면서 남아 있는 모든 입력변수 중 쵀대 p-value가 cutoff-value보다 낮아질 때까지 반복한다. \n",
        "#함수의 인자로 있는 cutoff 매개변수 값을 조절하면서 학습하면 된다.\n",
        "def backward_elimination(data, target, cutoff= 0.05):\n",
        "    features = data.columns.tolist()\n",
        "    while(len(features) > 0):\n",
        "        features_with_constant = sm.add_constant(data[features])\n",
        "        p_values = sm.OLS(target, features_with_constant).fit().pvalues[1:]\n",
        "        max_p_value = p_values.max()\n",
        "        if(max_p_value >= cutoff):\n",
        "            excluded_feature=p_values.idxmax()\n",
        "            features.remove(excluded_feature)\n",
        "        else:\n",
        "            break\n",
        "    return features\n",
        "\n",
        "backwarddata=backward_elimination(DF,Y,0.01)\n",
        "print(backwarddata)"
      ],
      "execution_count": null,
      "outputs": [
        {
          "output_type": "stream",
          "text": [
            "['MedInc', 'HouseAge', 'AveRooms', 'AveBedrms', 'AveOccup', 'Latitude', 'Longitude']\n"
          ],
          "name": "stdout"
        }
      ]
    },
    {
      "cell_type": "code",
      "metadata": {
        "id": "g4B0IZ3S62id",
        "colab_type": "code",
        "colab": {},
        "outputId": "93775a22-4470-4dc3-8c33-750f52443634"
      },
      "source": [
        "#stepwise selection 함수 정의: 위의 두 함수의 원리를 결합한 형태로 반복한다.\n",
        "#함수의 인자로 있는 cutoff 매개변수 값을 조절하면서 학습하면 된다.\n",
        "def stepwise_selection(data,target,cutoff):\n",
        "    initial_features = data.columns.tolist()\n",
        "    best_features = []\n",
        "    while(len(initial_features) > 0):\n",
        "        remaining_features = list(set(initial_features)-set(best_features))\n",
        "        new_pval = pd.Series(index=remaining_features)\n",
        "        for new_column in remaining_features:\n",
        "            model = sm.OLS(target, sm.add_constant(data[best_features+[new_column]])).fit()\n",
        "            new_pval[new_column] = model.pvalues[new_column]\n",
        "        min_p_value = new_pval.min()\n",
        "        if(min_p_value < cutoff):\n",
        "            best_features.append(new_pval.idxmin())\n",
        "            while(len(best_features) > 0):\n",
        "                best_features_with_constant = sm.add_constant(data[best_features])\n",
        "                p_values = sm.OLS(target, best_features_with_constant).fit().pvalues[1:]\n",
        "                max_p_value = p_values.max()\n",
        "                if(max_p_value >= cutoff):\n",
        "                    excluded_feature=p_values.idxmax()\n",
        "                    best_features.remove(excluded_feature)\n",
        "                else:\n",
        "                    break\n",
        "        else:\n",
        "            break\n",
        "    return best_features\n",
        "\n",
        "stepdata=stepwise_selection(DF,Y,0.01)\n",
        "print(stepdata)"
      ],
      "execution_count": null,
      "outputs": [
        {
          "output_type": "stream",
          "text": [
            "['MedInc', 'HouseAge', 'Latitude', 'Longitude', 'AveBedrms', 'AveRooms', 'AveOccup']\n"
          ],
          "name": "stdout"
        }
      ]
    },
    {
      "cell_type": "code",
      "metadata": {
        "id": "KIEyDAsM62iu",
        "colab_type": "code",
        "colab": {},
        "outputId": "d496c88a-2a93-44ab-ac14-9955731606c9"
      },
      "source": [
        "#i번째 feature와 타겟 값 사이의 관계 시각화\n",
        "i=4\n",
        "plt.title(california.feature_names[i]+' & ' + 'target')\n",
        "plt.xlabel(california.feature_names[i])\n",
        "plt.ylabel('target')\n",
        "plt.scatter(DF[california.feature_names[i]],Y)\n",
        "plt.legend()\n",
        "plt.show()"
      ],
      "execution_count": null,
      "outputs": [
        {
          "output_type": "stream",
          "text": [
            "No handles with labels found to put in legend.\n"
          ],
          "name": "stderr"
        },
        {
          "output_type": "display_data",
          "data": {
            "image/png": "[encoded data removed]",
            "text/plain": [
              "<Figure size 432x288 with 1 Axes>"
            ]
          },
          "metadata": {
            "tags": [],
            "needs_background": "light"
          }
        }
      ]
    },
    {
      "cell_type": "code",
      "metadata": {
        "id": "rCkD0BVP62jB",
        "colab_type": "code",
        "colab": {}
      },
      "source": [
        ""
      ],
      "execution_count": null,
      "outputs": []
    }
  ]
}